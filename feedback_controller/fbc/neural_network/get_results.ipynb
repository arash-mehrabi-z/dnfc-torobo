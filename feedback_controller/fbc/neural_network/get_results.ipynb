{
 "cells": [
  {
   "cell_type": "code",
   "execution_count": null,
   "metadata": {},
   "outputs": [],
   "source": [
    "import numpy as np\n",
    "import pandas as pd\n",
    "import matplotlib.pyplot as plt\n",
    "import math\n",
    "\n",
    "import os\n",
    "import pickle\n",
    "import random\n",
    "import sys\n",
    "\n",
    "from scipy.stats import ttest_ind\n",
    "from torkin import TorKin\n",
    "\n",
    "plt.rcParams['font.size'] = 18\n",
    "plt.rc('font', size=18)\n",
    "plt.rc('legend', fontsize=14)"
   ]
  },
  {
   "cell_type": "code",
   "execution_count": null,
   "metadata": {},
   "outputs": [],
   "source": [
    "root_dir = \"/home/arash/catkin_ws/src/feedback_controller/fbc/neural_network/results/\"\n",
    "ds_name = \"trajs:500_blocks:3_random\" #+ \"_v\"\n",
    "model_params_list = [12.053]#14.391] #12.949] #[25.301] #5.381, 7.541, ]\n",
    "\n",
    "kin = TorKin()"
   ]
  },
  {
   "cell_type": "markdown",
   "metadata": {},
   "source": [
    "### Example"
   ]
  },
  {
   "cell_type": "code",
   "execution_count": null,
   "metadata": {},
   "outputs": [],
   "source": [
    "model_name = \"2+2l_lat:sub-nvel_1e-05\"\n",
    "file_root_dir = root_dir +\\\n",
    "    f\"{ds_name}_{model_params_list[0]}K/ep:2000/on_{model_name}\" + \"_True\"\n",
    "\n",
    "file_path = os.path.join(file_root_dir, \"perf.csv\")\n",
    "df = pd.read_csv(file_path)  "
   ]
  },
  {
   "cell_type": "code",
   "execution_count": null,
   "metadata": {},
   "outputs": [],
   "source": [
    "df.head()"
   ]
  },
  {
   "cell_type": "code",
   "execution_count": null,
   "metadata": {},
   "outputs": [],
   "source": [
    "df.loc[3, 'dnfc_dtw']"
   ]
  },
  {
   "cell_type": "code",
   "execution_count": null,
   "metadata": {},
   "outputs": [],
   "source": [
    "df['dnfc_succ'] *= 100.0\n",
    "df['basel_succ'] *= 100.0\n",
    "df.head()"
   ]
  },
  {
   "cell_type": "code",
   "execution_count": null,
   "metadata": {},
   "outputs": [],
   "source": [
    "df['train_round'] = df.groupby('eps_num').cumcount() + 1\n",
    "df.head(10)"
   ]
  },
  {
   "cell_type": "code",
   "execution_count": null,
   "metadata": {},
   "outputs": [],
   "source": [
    "df.shape"
   ]
  },
  {
   "cell_type": "code",
   "execution_count": null,
   "metadata": {},
   "outputs": [],
   "source": [
    "df = df[df[\"eps_num\"] <= 32]\n",
    "df.shape"
   ]
  },
  {
   "cell_type": "code",
   "execution_count": null,
   "metadata": {},
   "outputs": [],
   "source": [
    "round_means = df.groupby('train_round')[['dnfc_succ', 'basel_succ',\n",
    "                                         'dnfc_dtw', 'basel_dtw']].mean()"
   ]
  },
  {
   "cell_type": "code",
   "execution_count": null,
   "metadata": {},
   "outputs": [],
   "source": [
    "round_means"
   ]
  },
  {
   "cell_type": "code",
   "execution_count": null,
   "metadata": {},
   "outputs": [],
   "source": [
    "round_means['dnfc_succ'].tolist()"
   ]
  },
  {
   "cell_type": "code",
   "execution_count": null,
   "metadata": {},
   "outputs": [],
   "source": [
    "overall_mean = round_means.mean()\n",
    "overall_std = round_means.std()\n",
    "print(overall_mean)\n",
    "print(\"---\")\n",
    "print(overall_std)"
   ]
  },
  {
   "cell_type": "code",
   "execution_count": null,
   "metadata": {},
   "outputs": [],
   "source": [
    "dnfc_succ = round_means['dnfc_succ'].tolist()\n",
    "basel_succ = round_means['basel_succ'].tolist()\n",
    "\n",
    "dnfc_mean = np.mean(dnfc_succ)\n",
    "basel_mean = np.mean(basel_succ)\n",
    "\n",
    "# Scatter plot\n",
    "plt.figure(figsize=(10, 6))\n",
    "train_rounds = np.arange(1, 4)\n",
    "\n",
    "# Plot scatter points\n",
    "plt.scatter(train_rounds, dnfc_succ, color='blue', label='dnfc_succ', marker='o')\n",
    "plt.scatter(train_rounds, basel_succ, color='orange', label='basel_succ', marker='s')\n",
    "\n",
    "# Add mean lines\n",
    "plt.axhline(dnfc_mean, color='blue', linestyle='dashed', linewidth=2, \n",
    "            label=f'dnfc_succ mean: {dnfc_mean:.2f}')\n",
    "plt.axhline(basel_mean, color='orange', linestyle='dashed', linewidth=2, \n",
    "            label=f'basel_succ mean: {basel_mean:.2f}')\n",
    "\n",
    "# Labels and legend\n",
    "plt.xlabel('Train Round')\n",
    "plt.ylabel('Success Rate')\n",
    "plt.title('Scatter Plot of dnfc_succ and basel_succ')\n",
    "plt.xticks(train_rounds)\n",
    "plt.legend()\n",
    "plt.grid(axis='y', linestyle='--', alpha=0.7)\n",
    "\n",
    "# Show plot\n",
    "plt.savefig(os.path.join(os.getcwd(), \"paper/each_model.png\"))\n",
    "plt.show()\n"
   ]
  },
  {
   "cell_type": "markdown",
   "metadata": {},
   "source": [
    "### Performance"
   ]
  },
  {
   "cell_type": "code",
   "execution_count": null,
   "metadata": {},
   "outputs": [],
   "source": [
    "stats_model = {\n",
    "    'size': 0,\n",
    "    'succ_mean': [],\n",
    "    'succ_std': [],\n",
    "    'dtw_mean': [],\n",
    "    'dtw_std': [],\n",
    "\n",
    "    'succ_arr' : [],\n",
    "    'dtw_arr' : [],\n",
    "}\n",
    "\n",
    "stats_base = {\n",
    "    'size': 0,\n",
    "    'succ_mean': [],\n",
    "    'succ_std': [],\n",
    "    'dtw_mean': [],\n",
    "    'dtw_std': [],\n",
    "\n",
    "    'succ_arr' : [],\n",
    "    'dtw_arr' : [],\n",
    "}\n",
    "\n",
    "stats_abl = {\n",
    "    'size': 0,\n",
    "    'succ_mean': [],\n",
    "    'succ_std': [],\n",
    "    'dtw_mean': [],\n",
    "    'dtw_std': [],\n",
    "\n",
    "    'succ_arr' : [],\n",
    "    'dtw_arr' : [],\n",
    "}"
   ]
  },
  {
   "cell_type": "code",
   "execution_count": null,
   "metadata": {},
   "outputs": [],
   "source": [
    "for num_params in model_params_list:\n",
    "    model_dir = os.path.join(root_dir, f\"{ds_name}_{num_params}K/ep:2000/\")\n",
    "    for is_not_abl in [True]:#, False]:\n",
    "        file_dir = os.path.join(model_dir, f\"on_{model_name}_{is_not_abl}\")\n",
    "        file_path = os.path.join(file_dir, \"perf.csv\")\n",
    "        df = pd.read_csv(file_path)  \n",
    "        \n",
    "        df['dnfc_succ'] *= 100.0\n",
    "        df['basel_succ'] *= 100.0\n",
    "\n",
    "        df['train_round'] = df.groupby('eps_num').cumcount() + 1\n",
    "        df = df[df[\"eps_num\"] <= 32]\n",
    "        round_means = df.groupby('train_round')[['dnfc_succ', 'basel_succ',\n",
    "                                            'dnfc_dtw', 'basel_dtw']].mean()\n",
    "        overall_mean = round_means.mean()\n",
    "        overall_std = round_means.std()\n",
    "\n",
    "        if is_not_abl:\n",
    "            stats_model['succ_mean'].append(overall_mean['dnfc_succ'])\n",
    "            stats_base['succ_mean'].append(overall_mean['basel_succ'])\n",
    "            stats_model['dtw_mean'].append(overall_mean['dnfc_dtw'])\n",
    "            stats_base['dtw_mean'].append(overall_mean['basel_dtw'])\n",
    "\n",
    "            stats_model['succ_arr'].append(round_means['dnfc_succ'].tolist()) #dnfc_succ.tolist())\n",
    "            stats_model['dtw_arr'].append(round_means['dnfc_dtw'].tolist()) #dnfc_dtw.tolist())\n",
    "\n",
    "            stats_model['succ_std'].append(overall_std['dnfc_succ'])\n",
    "            stats_base['succ_std'].append(overall_std['basel_succ'])\n",
    "            stats_model['dtw_std'].append(overall_std['dnfc_dtw'])\n",
    "            stats_base['dtw_std'].append(overall_std['basel_dtw'])\n",
    "\n",
    "            stats_base['succ_arr'].append(round_means['basel_succ'].tolist()) #basel_succ.tolist())\n",
    "            stats_base['dtw_arr'].append(round_means['basel_dtw'].tolist()) #basel_dtw.tolist())\n",
    "        else:\n",
    "            pass\n",
    "            # stats_abl['succ_mean'].append(overall_mean['dnfc_succ'] * 100.0)\n",
    "            # stats_abl['succ_std'].append(overall_std['dnfc_succ'] * 100.0)\n",
    "            # stats_abl['dtw_mean'].append(overall_mean['dnfc_dtw'])\n",
    "            # stats_abl['dtw_std'].append(overall_std['dnfc_dtw'])\n",
    "\n",
    "            # stats_abl['succ_arr'].append(dnfc_succ.tolist())#round_means['dnfc_succ'].tolist())\n",
    "            # stats_abl['dtw_arr'].append(dnfc_dtw.tolist())#round_means['dnfc_dtw'].tolist())"
   ]
  },
  {
   "cell_type": "code",
   "execution_count": null,
   "metadata": {},
   "outputs": [],
   "source": [
    "print(len(stats_model['succ_arr'][0]))\n",
    "stats_model"
   ]
  },
  {
   "cell_type": "code",
   "execution_count": null,
   "metadata": {},
   "outputs": [],
   "source": [
    "print(len(stats_base['succ_arr'][0]))\n",
    "stats_base"
   ]
  },
  {
   "cell_type": "code",
   "execution_count": null,
   "metadata": {},
   "outputs": [],
   "source": [
    "print(len(stats_abl['succ_arr'][0]))\n",
    "stats_abl"
   ]
  },
  {
   "cell_type": "code",
   "execution_count": null,
   "metadata": {},
   "outputs": [],
   "source": [
    "for i in range(len(stats_model['succ_arr'])):\n",
    "    print(\"succ_arr\")\n",
    "    statistic, pvalue = ttest_ind(stats_model['succ_arr'][i], \n",
    "                                 stats_base['succ_arr'][i], equal_var=False)\n",
    "    print(len(stats_model['succ_arr'][i]), len(stats_base['succ_arr'][i]))\n",
    "    print(statistic, pvalue)\n",
    "    print(\"-\")\n",
    "\n",
    "    print(\"dtw_arr\")\n",
    "    statistic, pvalue = ttest_ind(stats_model['dtw_arr'][i], \n",
    "                                 stats_base['dtw_arr'][i], equal_var=False)\n",
    "    print(len(stats_model['dtw_arr'][i]), len(stats_base['dtw_arr'][i]))\n",
    "    print(statistic, pvalue)\n",
    "    print(\"===\")"
   ]
  },
  {
   "cell_type": "markdown",
   "metadata": {},
   "source": [
    "#### Visualization"
   ]
  },
  {
   "cell_type": "code",
   "execution_count": null,
   "metadata": {},
   "outputs": [],
   "source": [
    "Ys = {\n",
    "    'DNFC': [x for x in stats_model['dtw_mean']],\n",
    "    'Baseline': [x for x in stats_base['dtw_mean']],\n",
    "    # 'DNFC-ablation': [x for x in stats_abl['dtw_mean']],\n",
    "}\n",
    "\n",
    "errors = {\n",
    "    'DNFC': [x for x in stats_model['dtw_std']],\n",
    "    'Baseline': [x for x in stats_base['dtw_std']],\n",
    "    # 'DNFC-ablation': [x for x in stats_abl['dtw_std']],\n",
    "}\n",
    "\n",
    "x = np.arange(len(model_params_list))  # the label locations\n",
    "width = 0.25  # the width of the bars\n",
    "multiplier = 0\n",
    "\n",
    "fig, ax = plt.subplots(layout='constrained', figsize=(12, 8))\n",
    "\n",
    "for attribute, measurement in Ys.items():\n",
    "    offset = width * multiplier\n",
    "    # print(attribute)\n",
    "    rects = ax.bar(x + offset, measurement, width, label=attribute, yerr=errors[attribute],\n",
    "                   error_kw={'capsize': 5})\n",
    "    # ax.bar_label(rects, fmt='%.2f', padding=3)\n",
    "    multiplier += 1\n",
    "\n",
    "# Add some text for labels, title and custom x-axis tick labels, etc.\n",
    "ax.set_ylabel(\"DTW's distance\")\n",
    "ax.set_xlabel(\"Approximate number of model parameters (x1e3)\")\n",
    "# ax.set_title('Robot Endpoint-Target Distance')\n",
    "ax.set_xticks(x + width, model_params_list)\n",
    "# ax.legend(loc='upper left', ncols=3)\n",
    "ax.legend()\n",
    "# ax.set_ylim(0, 250)\n",
    "plt.savefig(os.path.join(os.getcwd(), \"paper/dtw.png\"))\n",
    "plt.show()\n",
    "print(Ys)\n",
    "print(errors)"
   ]
  },
  {
   "cell_type": "code",
   "execution_count": null,
   "metadata": {},
   "outputs": [],
   "source": [
    "Ys = {\n",
    "    'DNFC': [x for x in stats_model['succ_mean']],\n",
    "    'Baseline': [x for x in stats_base['succ_mean']],\n",
    "    # 'DNFC-ablation': [x for x in stats_abl['succ_mean']],\n",
    "}\n",
    "\n",
    "errors = {\n",
    "    'DNFC': [x for x in stats_model['succ_std']],\n",
    "    'Baseline': [x for x in stats_base['succ_std']],\n",
    "    # 'DNFC-ablation': [x for x in stats_abl['succ_std']],\n",
    "}\n",
    "\n",
    "x = np.arange(len(model_params_list))  # the label locations\n",
    "width = 0.25  # the width of the bars\n",
    "multiplier = 0\n",
    "\n",
    "fig, ax = plt.subplots(layout='constrained', figsize=(12, 8))\n",
    "\n",
    "for attribute, measurement in Ys.items():\n",
    "    offset = width * multiplier\n",
    "    # print(attribute)\n",
    "    rects = ax.bar(x + offset, measurement, width, label=attribute, yerr=errors[attribute],\n",
    "                   error_kw={'capsize': 5})\n",
    "    # ax.bar_label(rects, fmt='%.2f', padding=3)\n",
    "    multiplier += 1\n",
    "\n",
    "# Add some text for labels, title and custom x-axis tick labels, etc.\n",
    "ax.set_ylabel('Success rate')\n",
    "ax.set_xlabel(\"Approximate number of model parameters (x1e3)\")\n",
    "# ax.set_title('Robot Endpoint-Target Distance')\n",
    "ax.set_xticks(x + width, model_params_list)\n",
    "# ax.legend(loc='upper left', ncols=3)\n",
    "ax.legend()\n",
    "# ax.set_ylim(0, 250)\n",
    "plt.savefig(os.path.join(os.getcwd(), \"paper/succ.png\"))\n",
    "plt.show()\n",
    "print(Ys)\n",
    "print(errors)"
   ]
  },
  {
   "cell_type": "code",
   "execution_count": null,
   "metadata": {},
   "outputs": [],
   "source": [
    "bin_no = 10\n",
    "\n",
    "dnfc_mean = df[\"dnfc_succ\"].mean()\n",
    "basel_mean = df[\"basel_succ\"].mean()\n",
    "\n",
    "# Plot histograms for 'dnfc_succ' and 'basel_succ' side by side\n",
    "plt.figure(figsize=(8, 6))\n",
    "plt.hist(df[\"dnfc_succ\"], bins=bin_no, alpha=0.7, label='dnfc_succ', edgecolor='black')\n",
    "plt.hist(df[\"basel_succ\"], bins=bin_no, alpha=0.7, label='basel_succ', edgecolor='black')\n",
    "# plt.title(\"Histogram of dnfc_succ and basel_succ\", fontsize=14)\n",
    "# Add vertical dashed lines for mean values\n",
    "plt.axvline(dnfc_mean, color='blue', linestyle='dashed', \n",
    "            linewidth=2, label=f'dnfc_succ mean: {dnfc_mean:.2f}')\n",
    "plt.axvline(basel_mean, color='orange', linestyle='dashed', \n",
    "            linewidth=2, label=f'basel_succ mean: {basel_mean:.2f}')\n",
    "\n",
    "plt.xlabel(\"Value\")\n",
    "plt.ylabel(\"Frequency\")\n",
    "plt.legend()\n",
    "plt.grid(axis='y', alpha=0.75)\n",
    "\n",
    "plt.savefig(os.path.join(os.getcwd(), \"paper/succ_hist.png\"))\n",
    "plt.show()"
   ]
  },
  {
   "cell_type": "code",
   "execution_count": null,
   "metadata": {},
   "outputs": [],
   "source": [
    "bin_no = 20\n",
    "\n",
    "# Find the common range for both datasets\n",
    "min_value = min(df[\"dnfc_dtw\"].min(), df[\"basel_dtw\"].min())\n",
    "max_value = max(df[\"dnfc_dtw\"].max(), df[\"basel_dtw\"].max())\n",
    "\n",
    "# Create bin edges with equal width\n",
    "bins = np.linspace(min_value, max_value, bin_no + 1)  # +1 because linspace creates bin edges\n",
    "\n",
    "dnfc_mean = df[\"dnfc_dtw\"].mean()\n",
    "basel_mean = df[\"basel_dtw\"].mean()\n",
    "\n",
    "# Plot histograms for 'dnfc_succ' and 'basel_succ' side by side\n",
    "plt.figure(figsize=(8, 6))\n",
    "plt.hist(df[\"dnfc_dtw\"], bins=bins, alpha=0.5, label='dnfc_dtw', edgecolor='black')\n",
    "plt.hist(df[\"basel_dtw\"], bins=bins, alpha=0.5, label='basel_dtw', edgecolor='black')\n",
    "\n",
    "plt.axvline(dnfc_mean, color='blue', linestyle='dashed', \n",
    "            linewidth=2, label=f'dnfc_succ mean: {dnfc_mean:.2f}')\n",
    "plt.axvline(basel_mean, color='orange', linestyle='dashed', \n",
    "            linewidth=2, label=f'basel_succ mean: {basel_mean:.2f}')\n",
    "# plt.title(\"Histogram of dnfc_succ and basel_succ\", fontsize=14)\n",
    "plt.xlabel(\"Value\")\n",
    "plt.ylabel(\"Frequency\")\n",
    "plt.legend()\n",
    "plt.grid(axis='y', alpha=0.75)\n",
    "\n",
    "plt.savefig(os.path.join(os.getcwd(), \"paper/dtw_hist.png\"))\n",
    "plt.show()\n"
   ]
  },
  {
   "cell_type": "code",
   "execution_count": null,
   "metadata": {},
   "outputs": [],
   "source": []
  },
  {
   "cell_type": "code",
   "execution_count": null,
   "metadata": {},
   "outputs": [],
   "source": [
    "root_dir = \"/home/arash/catkin_ws/src/feedback_controller/fbc/neural_network/results/\"\n",
    "root_dir += \"trajs:360_blocks:3_triangle_v_7.541K/ep:1000/on_v_custl_const_1e-05\""
   ]
  },
  {
   "cell_type": "code",
   "execution_count": null,
   "metadata": {},
   "outputs": [],
   "source": [
    "file_path = os.path.join(root_dir, \"all_states_dnfc\")\n",
    "with open(file_path, 'rb') as f:\n",
    "    all_states_dnfc = pickle.load(f)"
   ]
  },
  {
   "cell_type": "code",
   "execution_count": null,
   "metadata": {},
   "outputs": [],
   "source": [
    "eps_no = 27\n",
    "\n",
    "dnfc_data = all_states_dnfc[eps_no]"
   ]
  },
  {
   "cell_type": "code",
   "execution_count": null,
   "metadata": {},
   "outputs": [],
   "source": [
    "joint_vals = [timestep_data[4] for timestep_data in dnfc_data]\n",
    "timesteps = range(len(joint_vals))\n",
    "\n",
    "plt.figure(figsize=(10, 6))\n",
    "plt.plot(timesteps, joint_vals)\n",
    "plt.xlabel(\"Timestep\")\n",
    "plt.ylabel(\"Value\")\n",
    "# plt.title(\"Fifth Value Across Timesteps\")\n",
    "# plt.legend()\n",
    "plt.grid(True)\n",
    "plt.show()"
   ]
  },
  {
   "cell_type": "code",
   "execution_count": null,
   "metadata": {},
   "outputs": [],
   "source": []
  },
  {
   "cell_type": "markdown",
   "metadata": {},
   "source": [
    "### Loss"
   ]
  },
  {
   "cell_type": "code",
   "execution_count": null,
   "metadata": {},
   "outputs": [],
   "source": [
    "root_dir = \"/home/arash/catkin_ws/src/feedback_controller/fbc/neural_network/weights/\"\n",
    "dnfc_dir = os.path.join(root_dir, \n",
    "                        \"trajs:500_blocks:3_random|0.263|cus_los_1e-05|tar_cart|v_custl_mse|25.301K_params\")\n",
    "base_dir = os.path.join(root_dir, \n",
    "                        \"trajs:500_blocks:3_random|0.263|mse_los|tar_cart|base|v_base|25.175K_params\")\n",
    "\n",
    "dnfc_fpath = os.path.join(dnfc_dir, \"train_no_4/loss.csv\")\n",
    "df_dnfc = pd.read_csv(dnfc_fpath)  \n",
    "base_fpath = os.path.join(base_dir, \"train_no_0/loss.csv\")\n",
    "df_base = pd.read_csv(base_fpath)  "
   ]
  },
  {
   "cell_type": "code",
   "execution_count": null,
   "metadata": {},
   "outputs": [],
   "source": [
    "df_dnfc.head()"
   ]
  },
  {
   "cell_type": "code",
   "execution_count": null,
   "metadata": {},
   "outputs": [],
   "source": [
    "df_base.head()"
   ]
  },
  {
   "cell_type": "code",
   "execution_count": null,
   "metadata": {},
   "outputs": [],
   "source": [
    "# Filter the dataframe for n >= 10\n",
    "filtered_df = df_dnfc[(df_dnfc[\"n\"] >= 10) & (df_dnfc[\"n\"] <= 1000)]\n",
    "filtered_df_base = df_base[(df_base[\"n\"] >= 10) & (df_dnfc[\"n\"] <= 1000)]\n",
    "\n",
    "# Plot train_loss_torques and val_loss_torques vs n\n",
    "plt.figure(figsize=(8, 6))\n",
    "plt.plot(filtered_df[\"n\"], filtered_df[\"train_loss_torques\"], marker='o', linestyle='-', label=\"Train Trq DNFC\")\n",
    "plt.plot(filtered_df[\"n\"], filtered_df[\"val_loss_torques\"], marker='x', linestyle='-', label=\"Val Trq DNFC\")\n",
    "plt.plot(filtered_df_base[\"n\"], filtered_df_base[\"train_loss_torques\"], marker='o', \n",
    "         linestyle='-', label=\"Train Trq Base\")\n",
    "plt.plot(filtered_df_base[\"n\"], filtered_df_base[\"val_loss_torques\"], marker='x', \n",
    "         linestyle='-', label=\"Val Trq Base\")\n",
    "plt.xlabel(\"n\")\n",
    "plt.ylabel(\"Loss\")\n",
    "plt.title(\"Train and Val Loss Torques vs n (n >= 10)\")\n",
    "plt.legend()\n",
    "plt.grid(True)\n",
    "plt.show()\n"
   ]
  },
  {
   "cell_type": "code",
   "execution_count": null,
   "metadata": {},
   "outputs": [],
   "source": [
    "df_dnfc.head(12)"
   ]
  },
  {
   "cell_type": "code",
   "execution_count": null,
   "metadata": {},
   "outputs": [],
   "source": []
  },
  {
   "cell_type": "markdown",
   "metadata": {},
   "source": [
    "### Latent Representations"
   ]
  },
  {
   "cell_type": "code",
   "execution_count": null,
   "metadata": {},
   "outputs": [],
   "source": [
    "def get_file(model_dir, is_not_abl, file_name):\n",
    "    file_dir = os.path.join(model_dir, f\"on_v_custl_mse_1e-05_{is_not_abl}\")\n",
    "    file_path = os.path.join(file_dir, f\"{file_name}\")\n",
    "    with open(file_path, 'rb') as f:\n",
    "        latent_reps = pickle.load(f)\n",
    "    return latent_reps\n",
    "\n",
    "def get_csv(model_dir, is_not_abl):\n",
    "    file_dir = os.path.join(model_dir, f\"on_v_custl_mse_1e-05_{is_not_abl}\")\n",
    "    file_path = os.path.join(file_dir, \"perf.csv\")\n",
    "    df = pd.read_csv(file_path)  \n",
    "    return df\n",
    "\n",
    "def add_train_round(df):\n",
    "    df['train_round'] = df.groupby('eps_num').cumcount() + 1\n",
    "    return df"
   ]
  },
  {
   "cell_type": "code",
   "execution_count": null,
   "metadata": {},
   "outputs": [],
   "source": [
    "def intrinsic_to_3d_cart(all_joints_vals):\n",
    "    x, y, z = [], [], []\n",
    "    for joints_vals in all_joints_vals:\n",
    "        my_l = [0, 0]\n",
    "        for j_val in joints_vals:\n",
    "            my_l.append(float(j_val))\n",
    "        p, R = kin.forwardkin(1, np.array(my_l))\n",
    "        x.append(p[0])\n",
    "        y.append(p[1])\n",
    "        z.append(p[2])\n",
    "\n",
    "    return x, y, z"
   ]
  },
  {
   "cell_type": "code",
   "execution_count": null,
   "metadata": {},
   "outputs": [],
   "source": [
    "def plot_latent_reps(latent_reps, latent_reps_abl, states, states_abl,\n",
    "                     df_perf, df_perf_abl, i_eps, model_dir):\n",
    "    # Transpose the data to separate each joint\n",
    "    lat_rep_transp = list(zip(*latent_reps))\n",
    "    lat_rep_abl_transp = list(zip(*latent_reps_abl))\n",
    "    states_transp = list(zip(*states))\n",
    "    states_abl_transp = list(zip(*states_abl))\n",
    "\n",
    "    # print(len(lat_rep_transp), len(lat_rep_transp[0]))\n",
    "    # Plot each joint's position over time\n",
    "    time_steps = range(len(latent_reps))  # Assuming each inner list corresponds to a timestep\n",
    "    \n",
    "    colors = [\n",
    "        'blue', 'green', 'red', 'cyan', 'magenta', #'yellow', \n",
    "        'black', 'orange', 'purple', 'brown', 'pink', 'lime', \n",
    "        'teal', 'gold'\n",
    "    ]\n",
    "    \n",
    "    # Create a figure with 7 subplots arranged vertically\n",
    "    fig, axes = plt.subplots(7, 1, figsize=(12, 14), sharex=True)\n",
    "    fig.tight_layout(pad=0.0)  # Adjust spacing between subplots\n",
    "\n",
    "    for idx, lat_rep in enumerate(lat_rep_transp[:7]):\n",
    "        ax = axes[idx]  # Select the subplot corresponding to the current index\n",
    "        if idx < 7: label_st = f'Jnt.{idx + 1}'\n",
    "        else: label_st = f'Vel.{(idx%7) + 1}'\n",
    "\n",
    "        # print(len(lat_rep), len(lat_rep_abl_transp), len(states_transp))\n",
    "        ax.plot(time_steps, lat_rep, \n",
    "                 label=f'Dim{idx + 1}', color=colors[idx])\n",
    "        ax.plot(time_steps, lat_rep_abl_transp[idx], \n",
    "                 label=f'Dim{idx + 1}a', color=colors[idx], linestyle='dashed')\n",
    "        ax.plot(time_steps, states_transp[idx], \n",
    "                 label=label_st, color=colors[idx])#<, linestyle='dashed')\n",
    "        ax.plot(time_steps, states_abl_transp[idx], \n",
    "                 label=f'Jnt.{idx + 1}a', color=colors[idx], linestyle='dotted')\n",
    "        \n",
    "        # Add labels and legend to each subplot\n",
    "        ax.set_ylabel(f'Dim {idx + 1}')\n",
    "        ax.legend()\n",
    "        ax.grid(True)\n",
    "\n",
    "    eps_no = i_eps // 5\n",
    "    train_no = i_eps % 5\n",
    "    # Add a common xlabel and adjust layout\n",
    "    axes[-1].set_xlabel('Time Steps')\n",
    "    fig.suptitle(f\"DNFC: {df_perf['dnfc_succ']}, DNFC-abl: {df_perf_abl['dnfc_succ']}\")\n",
    "    # plt.show()\n",
    "    plot_dir = os.path.join(model_dir, f'latent_reps')\n",
    "    if os.path.exists(plot_dir):\n",
    "        pass\n",
    "        # print(\"Latent dir. already exists. Are you trying to generate it again?\")\n",
    "        # sys.exit(1)\n",
    "    else:\n",
    "        os.makedirs(plot_dir)\n",
    "    plot_path = os.path.join(plot_dir, f\"eps:{eps_no}_train:{train_no}.png\")\n",
    "    plt.savefig(plot_path)\n",
    "    plt.close()"
   ]
  },
  {
   "cell_type": "code",
   "execution_count": null,
   "metadata": {},
   "outputs": [],
   "source": [
    "for num_params in model_params_list:\n",
    "    model_dir = os.path.join(root_dir, f\"trajs:360_blocks:3_triangle_v_{num_params}K/ep:1000/\")\n",
    "    latent_reps = get_file(model_dir, True, \"all_latent_reps\")\n",
    "    latent_reps_abl = get_file(model_dir, False, \"all_latent_reps\")\n",
    "    states_dnfc = get_file(model_dir, True, \"all_states_dnfc\")\n",
    "    states_abl = get_file(model_dir, False, \"all_states_dnfc\")\n",
    "\n",
    "    df_perf = get_csv(model_dir, True)\n",
    "    df_perf = add_train_round(df_perf)\n",
    "    df_perf_abl = get_csv(model_dir, False)\n",
    "    df_perf_abl = add_train_round(df_perf_abl)\n",
    "    # print(df_perf_abl.head(10))\n",
    "\n",
    "    for i_eps in range(len(latent_reps)):\n",
    "        plot_latent_reps(latent_reps[i_eps], \n",
    "                            latent_reps_abl[i_eps], \n",
    "                            states_dnfc[i_eps],\n",
    "                            states_abl[i_eps], \n",
    "                            df_perf.loc[i_eps], df_perf_abl.loc[i_eps], i_eps, model_dir)"
   ]
  },
  {
   "cell_type": "code",
   "execution_count": null,
   "metadata": {},
   "outputs": [],
   "source": []
  },
  {
   "cell_type": "code",
   "execution_count": null,
   "metadata": {},
   "outputs": [],
   "source": []
  }
 ],
 "metadata": {
  "kernelspec": {
   "display_name": "dnfc2",
   "language": "python",
   "name": "python3"
  },
  "language_info": {
   "codemirror_mode": {
    "name": "ipython",
    "version": 3
   },
   "file_extension": ".py",
   "mimetype": "text/x-python",
   "name": "python",
   "nbconvert_exporter": "python",
   "pygments_lexer": "ipython3",
   "version": "3.9.21"
  }
 },
 "nbformat": 4,
 "nbformat_minor": 2
}
