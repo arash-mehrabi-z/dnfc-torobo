{
 "cells": [
  {
   "cell_type": "code",
   "execution_count": 1,
   "metadata": {},
   "outputs": [],
   "source": [
    "import numpy as np\n",
    "import pandas as pd\n",
    "import matplotlib.pyplot as plt\n",
    "import math\n",
    "\n",
    "import os\n",
    "import pickle\n",
    "import random\n",
    "import sys\n",
    "\n",
    "from scipy.stats import ttest_ind\n",
    "from torkin import TorKin\n",
    "\n",
    "from config import Config\n",
    "cfg = Config()\n",
    "\n",
    "plt.rcParams['font.size'] = 18\n",
    "plt.rc('font', size=18)\n",
    "plt.rc('legend', fontsize=14)\n",
    "label_fontsize = 14"
   ]
  },
  {
   "cell_type": "code",
   "execution_count": 2,
   "metadata": {},
   "outputs": [
    {
     "name": "stdout",
     "output_type": "stream",
     "text": [
      "No data file named /home/erhan/catkin_ws/src/erhtor_work/tormain/Resources/larm60.txt\n",
      "bodypart structure for larm is constructed.\n",
      "No data file named /home/erhan/catkin_ws/src/erhtor_work/tormain/Resources/rarm60.txt\n",
      "bodypart structure for rarm is constructed.\n",
      "bodypart structure for head is constructed.\n"
     ]
    }
   ],
   "source": [
    "root_dir = \"/home/arash/catkin_ws/src/feedback_controller/fbc/neural_network/results/\"\n",
    "# ds_name = \"trajs:72_blocks:3\" + \"_triangle_v_scarce\" #\"_triangle_v\"\n",
    "ds_name = \"trajs:500_blocks:3\" + \"_random\"\n",
    "# ds_name = \"triangle\"\n",
    "ds_type = \"interp_0.95\" #\"interp_0.85\" #\"extrap_0.85\"\n",
    "# noise = \"0.008_noise\"\n",
    "model_name = f\"2+2l_lat:sub-nvel_1e-05\"\n",
    "\n",
    "model_params_list = [6.037, 12.053, 24.085] #, 36.117]\n",
    "episode_no = 4000\n",
    "\n",
    "kin = TorKin()"
   ]
  },
  {
   "cell_type": "markdown",
   "metadata": {},
   "source": [
    "### Example"
   ]
  },
  {
   "cell_type": "code",
   "execution_count": null,
   "metadata": {},
   "outputs": [],
   "source": [
    "file_root_dir = root_dir +\\\n",
    "    f\"{ds_name}_{model_params_list[-1]}K_{ds_type}/ep:10000/on_{model_name}\" + \"_True\" + \"_3l_base\"\n",
    "\n",
    "file_path = os.path.join(file_root_dir, \"perf.csv\")\n",
    "df = pd.read_csv(file_path)  "
   ]
  },
  {
   "cell_type": "code",
   "execution_count": null,
   "metadata": {},
   "outputs": [],
   "source": [
    "df.head()"
   ]
  },
  {
   "cell_type": "code",
   "execution_count": null,
   "metadata": {},
   "outputs": [],
   "source": [
    "df.loc[3, 'dnfc_dtw']"
   ]
  },
  {
   "cell_type": "code",
   "execution_count": null,
   "metadata": {},
   "outputs": [],
   "source": [
    "# df['dnfc_succ'] *= 100.0\n",
    "# df['basel_succ'] *= 100.0\n",
    "df.head()"
   ]
  },
  {
   "cell_type": "code",
   "execution_count": null,
   "metadata": {},
   "outputs": [],
   "source": [
    "df['train_round'] = df.groupby('eps_num').cumcount() + 1\n",
    "df.head(10)"
   ]
  },
  {
   "cell_type": "code",
   "execution_count": null,
   "metadata": {},
   "outputs": [],
   "source": [
    "df.shape"
   ]
  },
  {
   "cell_type": "code",
   "execution_count": null,
   "metadata": {},
   "outputs": [],
   "source": [
    "# df = df[df[\"eps_num\"] <= 32]\n",
    "# df.shape"
   ]
  },
  {
   "cell_type": "code",
   "execution_count": null,
   "metadata": {},
   "outputs": [],
   "source": [
    "dnfc_succ_cases = df[df['dnfc_succ'].astype(int) == 1]\n",
    "print(dnfc_succ_cases.head())\n",
    "print(len(dnfc_succ_cases))"
   ]
  },
  {
   "cell_type": "code",
   "execution_count": null,
   "metadata": {},
   "outputs": [],
   "source": [
    "basel_succ_cases = df[df['basel_succ'].astype(int) == 1]\n",
    "print(basel_succ_cases.head())\n",
    "print(len(basel_succ_cases))"
   ]
  },
  {
   "cell_type": "code",
   "execution_count": null,
   "metadata": {},
   "outputs": [],
   "source": [
    "print(dnfc_succ_cases['dnfc_dtw'].tolist())\n",
    "print(dnfc_succ_cases['dnfc_dtw'].mean())\n",
    "print(dnfc_succ_cases['dnfc_dtw'].std())"
   ]
  },
  {
   "cell_type": "code",
   "execution_count": null,
   "metadata": {},
   "outputs": [],
   "source": [
    "print(basel_succ_cases['basel_dtw'].tolist())\n",
    "print(basel_succ_cases['basel_dtw'].mean())\n",
    "print(basel_succ_cases['basel_dtw'].std())"
   ]
  },
  {
   "cell_type": "code",
   "execution_count": null,
   "metadata": {},
   "outputs": [],
   "source": [
    "round_means_dnfc_succ = dnfc_succ_cases.groupby('train_round')[['dnfc_succ', \n",
    "                                                                'basel_succ', \n",
    "                                                                'dnfc_dtw', \n",
    "                                                                'basel_dtw']\n",
    "                                                                ].mean()\n",
    "\n",
    "print(round_means_dnfc_succ)\n",
    "print(len(round_means_dnfc_succ))\n",
    "print(\"===\")\n",
    "print(round_means_dnfc_succ.mean())"
   ]
  },
  {
   "cell_type": "code",
   "execution_count": null,
   "metadata": {},
   "outputs": [],
   "source": [
    "dnfc_succ_cases"
   ]
  },
  {
   "cell_type": "code",
   "execution_count": null,
   "metadata": {},
   "outputs": [],
   "source": [
    "round_means_basel_succ = basel_succ_cases.groupby('train_round')[['dnfc_succ', \n",
    "                                                                  'basel_succ', \n",
    "                                                                  'dnfc_dtw', \n",
    "                                                                  'basel_dtw']\n",
    "                                                                  ].mean()\n",
    "\n",
    "print(round_means_basel_succ)\n",
    "print(len(round_means_basel_succ))\n",
    "print(\"===\")\n",
    "print(round_means_basel_succ.mean())"
   ]
  },
  {
   "cell_type": "code",
   "execution_count": null,
   "metadata": {},
   "outputs": [],
   "source": [
    "round_means = df.groupby('train_round')[['dnfc_succ', 'basel_succ',\n",
    "                                         'dnfc_dtw', 'basel_dtw']].mean()\n",
    "\n",
    "round_means"
   ]
  },
  {
   "cell_type": "code",
   "execution_count": null,
   "metadata": {},
   "outputs": [],
   "source": [
    "overall_mean = round_means.mean()\n",
    "overall_std = round_means.std()\n",
    "print(overall_mean)\n",
    "print(\"---\")\n",
    "print(overall_std)"
   ]
  },
  {
   "cell_type": "code",
   "execution_count": null,
   "metadata": {},
   "outputs": [],
   "source": [
    "dnfc_succ = round_means['dnfc_succ'].tolist()\n",
    "basel_succ = round_means['basel_succ'].tolist()\n",
    "\n",
    "dnfc_mean = np.mean(dnfc_succ)\n",
    "basel_mean = np.mean(basel_succ)\n",
    "\n",
    "# Scatter plot\n",
    "plt.figure(figsize=(10, 6))\n",
    "train_rounds = np.arange(1, len(dnfc_succ)+1)\n",
    "\n",
    "# Plot scatter points\n",
    "plt.scatter(train_rounds, dnfc_succ, color='blue', label='dnfc_succ', marker='o')\n",
    "plt.scatter(train_rounds, basel_succ, color='orange', label='basel_succ', marker='s')\n",
    "\n",
    "# Add mean lines\n",
    "plt.axhline(dnfc_mean, color='blue', linestyle='dashed', linewidth=2, \n",
    "            label=f'dnfc_succ mean: {dnfc_mean:.2f}')\n",
    "plt.axhline(basel_mean, color='orange', linestyle='dashed', linewidth=2, \n",
    "            label=f'basel_succ mean: {basel_mean:.2f}')\n",
    "\n",
    "# Labels and legend\n",
    "plt.xlabel('Train Round')\n",
    "plt.ylabel('Success Rate')\n",
    "plt.title('Scatter Plot of dnfc_succ and basel_succ')\n",
    "plt.xticks(train_rounds)\n",
    "plt.legend()\n",
    "plt.grid(axis='y', linestyle='--', alpha=0.7)\n",
    "\n",
    "# Show plot\n",
    "plt.savefig(os.path.join(os.getcwd(), \"paper/each_model.png\"))\n",
    "plt.show()"
   ]
  },
  {
   "cell_type": "code",
   "execution_count": null,
   "metadata": {},
   "outputs": [],
   "source": [
    "df.shape"
   ]
  },
  {
   "cell_type": "markdown",
   "metadata": {},
   "source": [
    "## Performance"
   ]
  },
  {
   "cell_type": "code",
   "execution_count": 3,
   "metadata": {},
   "outputs": [],
   "source": [
    "stats_model = {\n",
    "    'size': 0,\n",
    "    'succ_mean': [],\n",
    "    'succ_std': [],\n",
    "    'dtw_mean': [],\n",
    "    'dtw_std': [],\n",
    "\n",
    "    'succ_arr' : [],\n",
    "    'dtw_arr' : [],\n",
    "\n",
    "    'succ_num' : [],\n",
    "    'eps_num' : [],\n",
    "\n",
    "    'succ_dtw_mean' : [],\n",
    "    'succ_dtw_std' : [],\n",
    "    'succ_dtw_num' : [],\n",
    "}\n",
    "\n",
    "stats_base = {\n",
    "    'size': 0,\n",
    "    'succ_mean': [],\n",
    "    'succ_std': [],\n",
    "    'dtw_mean': [],\n",
    "    'dtw_std': [],\n",
    "\n",
    "    'succ_arr' : [],\n",
    "    'dtw_arr' : [],\n",
    "\n",
    "    'succ_num' : [],\n",
    "    'eps_num' : [],\n",
    "\n",
    "    'succ_dtw_mean' : [],\n",
    "    'succ_dtw_std' : [],\n",
    "    'succ_dtw_num' : [],\n",
    "}\n",
    "\n",
    "stats_abl = {\n",
    "    'size': 0,\n",
    "    'succ_mean': [],\n",
    "    'succ_std': [],\n",
    "    'dtw_mean': [],\n",
    "    'dtw_std': [],\n",
    "\n",
    "    'succ_arr' : [],\n",
    "    'dtw_arr' : [],\n",
    "\n",
    "    'succ_num' : [],\n",
    "    'eps_num' : [],\n",
    "\n",
    "    'succ_dtw_mean' : [],\n",
    "    'succ_dtw_std' : [],\n",
    "    'succ_dtw_num' : [],\n",
    "}"
   ]
  },
  {
   "cell_type": "code",
   "execution_count": 4,
   "metadata": {},
   "outputs": [],
   "source": [
    "def get_mean_std_across_trains(df):\n",
    "    round_means = df.groupby('train_round')[['dnfc_succ', 'basel_succ', \n",
    "                                             'dnfc_dtw', 'basel_dtw']\n",
    "                                             ].mean()\n",
    "    n = len(round_means)\n",
    "    print(\"N =\", n)\n",
    "    overall_mean = round_means.mean()\n",
    "    overall_std = round_means.std()\n",
    "    return overall_mean, overall_std, round_means"
   ]
  },
  {
   "cell_type": "code",
   "execution_count": 5,
   "metadata": {},
   "outputs": [
    {
     "name": "stdout",
     "output_type": "stream",
     "text": [
      "df shape (250, 7)\n",
      "path /home/arash/catkin_ws/src/feedback_controller/fbc/neural_network/results/trajs:500_blocks:3_random_6.037K_interp_0.95/ep:4000/on_2+2l_lat:sub-nvel_1e-05_True_3l_base/perf.csv\n",
      "===N = 10\n",
      "N = 5\n",
      "N = 1\n",
      "df shape (250, 7)\n",
      "path /home/arash/catkin_ws/src/feedback_controller/fbc/neural_network/results/trajs:500_blocks:3_random_6.037K_interp_0.95/ep:4000/on_2+2l_lat:sub-nvel_1e-05_False_3l_base/perf.csv\n",
      "===N = 10\n",
      "N = 6\n",
      "N = 6\n",
      "df shape (250, 7)\n",
      "path /home/arash/catkin_ws/src/feedback_controller/fbc/neural_network/results/trajs:500_blocks:3_random_12.053K_interp_0.95/ep:4000/on_2+2l_lat:sub-nvel_1e-05_True_3l_base/perf.csv\n",
      "===N = 10\n",
      "N = 10\n",
      "N = 10\n",
      "df shape (250, 7)\n",
      "path /home/arash/catkin_ws/src/feedback_controller/fbc/neural_network/results/trajs:500_blocks:3_random_12.053K_interp_0.95/ep:4000/on_2+2l_lat:sub-nvel_1e-05_False_3l_base/perf.csv\n",
      "===N = 10\n",
      "N = 10\n",
      "N = 10\n",
      "df shape (250, 7)\n",
      "path /home/arash/catkin_ws/src/feedback_controller/fbc/neural_network/results/trajs:500_blocks:3_random_24.085K_interp_0.95/ep:4000/on_2+2l_lat:sub-nvel_1e-05_True_3l_base/perf.csv\n",
      "===N = 10\n",
      "N = 10\n",
      "N = 9\n",
      "df shape (250, 7)\n",
      "path /home/arash/catkin_ws/src/feedback_controller/fbc/neural_network/results/trajs:500_blocks:3_random_24.085K_interp_0.95/ep:4000/on_2+2l_lat:sub-nvel_1e-05_False_3l_base/perf.csv\n",
      "===N = 10\n",
      "N = 10\n",
      "N = 10\n"
     ]
    }
   ],
   "source": [
    "for num_params in model_params_list:\n",
    "    model_dir = os.path.join(root_dir, f\"{ds_name}_{num_params}K_{ds_type}/ep:{episode_no}/\")\n",
    "    for is_not_abl in [True, False]:\n",
    "        file_dir = os.path.join(model_dir, f\"on_{model_name}_{is_not_abl}\" + f\"_3l_base\")\n",
    "        file_path = os.path.join(file_dir, \"perf.csv\")\n",
    "        df = pd.read_csv(file_path)  \n",
    "        print(\"df shape\", df.shape)\n",
    "        print(\"path\", file_path, end=\"\\n===\")\n",
    "        \n",
    "        # df['dnfc_succ'] *= 100.0\n",
    "        # df['basel_succ'] *= 100.0\n",
    "\n",
    "        df['train_round'] = df.groupby('eps_num').cumcount() + 1\n",
    "\n",
    "        dnfc_succ_cases = df[df['dnfc_succ'].astype(int) == 1]\n",
    "        basel_succ_cases = df[df['basel_succ'].astype(int) == 1]\n",
    "        # df = df[df[\"eps_num\"] <= 32]\n",
    "        overall_mean, overall_std, round_means = get_mean_std_across_trains(df)\n",
    "        overall_mean_dnfc, overall_std_dnfc, round_means_dnfc = get_mean_std_across_trains(dnfc_succ_cases)\n",
    "        overall_mean_base, overall_std_base, round_means_base = get_mean_std_across_trains(basel_succ_cases)\n",
    "\n",
    "        if is_not_abl:\n",
    "            stats_model['succ_mean'].append(overall_mean['dnfc_succ'])\n",
    "            stats_base['succ_mean'].append(overall_mean['basel_succ'])\n",
    "            stats_model['dtw_mean'].append(overall_mean['dnfc_dtw'])\n",
    "            stats_base['dtw_mean'].append(overall_mean['basel_dtw'])\n",
    "\n",
    "            stats_model['succ_arr'].append(round_means['dnfc_succ'].tolist()) #dnfc_succ.tolist())\n",
    "            stats_model['dtw_arr'].append(round_means['dnfc_dtw'].tolist()) #dnfc_dtw.tolist())\n",
    "\n",
    "            stats_model['succ_std'].append(overall_std['dnfc_succ'])\n",
    "            stats_base['succ_std'].append(overall_std['basel_succ'])\n",
    "            stats_model['dtw_std'].append(overall_std['dnfc_dtw'])\n",
    "            stats_base['dtw_std'].append(overall_std['basel_dtw'])\n",
    "\n",
    "            stats_base['succ_arr'].append(round_means['basel_succ'].tolist()) #basel_succ.tolist())\n",
    "            stats_base['dtw_arr'].append(round_means['basel_dtw'].tolist()) #basel_dtw.tolist())\n",
    "\n",
    "            stats_model['succ_num'].append(len(dnfc_succ_cases))\n",
    "            stats_base['succ_num'].append(len(basel_succ_cases))\n",
    "            stats_model['eps_num'].append(len(df))\n",
    "            stats_base['eps_num'].append(len(df))\n",
    "\n",
    "            stats_model['succ_dtw_mean'].append(overall_mean_dnfc[\"dnfc_dtw\"])\n",
    "            stats_model['succ_dtw_std'].append(overall_std_dnfc[\"dnfc_dtw\"])\n",
    "            stats_model['succ_dtw_num'].append(len(round_means_dnfc))\n",
    "            stats_base['succ_dtw_mean'].append(overall_mean_base[\"basel_dtw\"])\n",
    "            stats_base['succ_dtw_std'].append(overall_std_base[\"basel_dtw\"])\n",
    "            stats_base['succ_dtw_num'].append(len(round_means_base))\n",
    "        else:\n",
    "            stats_abl['succ_mean'].append(overall_mean['dnfc_succ'])\n",
    "            stats_abl['succ_std'].append(overall_std['dnfc_succ'])\n",
    "            stats_abl['dtw_mean'].append(overall_mean['dnfc_dtw'])\n",
    "            stats_abl['dtw_std'].append(overall_std['dnfc_dtw'])\n",
    "\n",
    "            stats_abl['succ_arr'].append(round_means['dnfc_succ'].tolist()) #dnfc_succ.tolist())\n",
    "            stats_abl['dtw_arr'].append(round_means['dnfc_dtw'].tolist()) #dnfc_dtw.tolist())\n",
    "\n",
    "            stats_abl['succ_num'].append(len(dnfc_succ_cases))\n",
    "            stats_abl['eps_num'].append(len(df))\n",
    "            stats_abl['succ_dtw_mean'].append(overall_mean_dnfc[\"dnfc_dtw\"])\n",
    "            stats_abl['succ_dtw_std'].append(overall_std_dnfc[\"dnfc_dtw\"])\n",
    "            stats_abl['succ_dtw_num'].append(len(round_means_dnfc))"
   ]
  },
  {
   "cell_type": "code",
   "execution_count": 6,
   "metadata": {},
   "outputs": [
    {
     "name": "stdout",
     "output_type": "stream",
     "text": [
      "10\n"
     ]
    },
    {
     "data": {
      "text/plain": [
       "{'size': 0,\n",
       " 'succ_mean': [0.43800000000000006, 0.6210000000000001, 0.8870000000000001],\n",
       " 'succ_std': [0.0765651501808899, 0.15220235068997967, 0.07288499312082167],\n",
       " 'dtw_mean': [50.4077244542309, 36.674822775542225, 18.78821972051519],\n",
       " 'dtw_std': [6.652294200855494, 11.58941112420025, 5.10103229408134],\n",
       " 'succ_arr': [[0.55, 0.46, 0.43, 0.32, 0.46, 0.48, 0.37, 0.46, 0.33, 0.52],\n",
       "  [0.62, 0.75, 0.8, 0.55, 0.71, 0.85, 0.44, 0.57, 0.52, 0.4],\n",
       "  [0.84, 0.89, 0.72, 0.87, 0.86, 0.94, 0.9, 0.92, 0.95, 0.98]],\n",
       " 'dtw_arr': [[44.18340318104785,\n",
       "   50.09396447785154,\n",
       "   47.654457651688006,\n",
       "   60.837449232289984,\n",
       "   45.100170070203234,\n",
       "   46.78864421500151,\n",
       "   45.796939064790074,\n",
       "   53.14582967933583,\n",
       "   63.18758358687482,\n",
       "   47.28880338322613],\n",
       "  [30.299625094809034,\n",
       "   26.47086620097782,\n",
       "   26.482092447856886,\n",
       "   54.4241731476437,\n",
       "   31.065755302546176,\n",
       "   19.05172901598512,\n",
       "   43.87445184952718,\n",
       "   44.30970373096531,\n",
       "   40.84385729462597,\n",
       "   49.925973670485085],\n",
       "  [22.980443021885108,\n",
       "   17.53194234089678,\n",
       "   27.61231092448338,\n",
       "   19.555255803702423,\n",
       "   24.672525501066904,\n",
       "   13.29197782361817,\n",
       "   20.09271254791297,\n",
       "   13.847699026842973,\n",
       "   15.285275288818315,\n",
       "   13.01205492592488]],\n",
       " 'succ_num': [12, 79, 197],\n",
       " 'eps_num': [250, 250, 250],\n",
       " 'succ_dtw_mean': [16.832167451697362, 11.357705050632212, 11.759740664546745],\n",
       " 'succ_dtw_std': [4.822208747340479, 1.2726727877779638, 1.077956815130314],\n",
       " 'succ_dtw_num': [5, 10, 10]}"
      ]
     },
     "execution_count": 6,
     "metadata": {},
     "output_type": "execute_result"
    }
   ],
   "source": [
    "print(len(stats_model['succ_arr'][0]))\n",
    "stats_model"
   ]
  },
  {
   "cell_type": "code",
   "execution_count": 7,
   "metadata": {},
   "outputs": [
    {
     "name": "stdout",
     "output_type": "stream",
     "text": [
      "10\n"
     ]
    },
    {
     "data": {
      "text/plain": [
       "{'size': 0,\n",
       " 'succ_mean': [0.29700000000000004, 0.513, 0.693],\n",
       " 'succ_std': [0.14606315224739075, 0.09798525966241613, 0.1411893921101881],\n",
       " 'dtw_mean': [73.93277865907561, 50.27665811476223, 34.97941414975199],\n",
       " 'dtw_std': [18.422501847957882, 12.294530171758245, 11.682002845342767],\n",
       " 'succ_arr': [[0.35, 0.42, 0.01, 0.45, 0.22, 0.47, 0.25, 0.18, 0.4, 0.22],\n",
       "  [0.63, 0.41, 0.54, 0.5, 0.61, 0.38, 0.56, 0.63, 0.49, 0.38],\n",
       "  [0.7, 0.59, 0.65, 0.79, 0.88, 0.48, 0.93, 0.55, 0.67, 0.69]],\n",
       " 'dtw_arr': [[62.26771209612292,\n",
       "   54.76014099211567,\n",
       "   112.04728752966315,\n",
       "   54.888983304582396,\n",
       "   72.4992779294344,\n",
       "   61.680145742760445,\n",
       "   81.77484894442007,\n",
       "   95.83928556650636,\n",
       "   67.74457445054192,\n",
       "   75.82553003460873],\n",
       "  [46.936939318016684,\n",
       "   64.82230539089515,\n",
       "   47.1533778486486,\n",
       "   53.168116845894104,\n",
       "   32.21984792641457,\n",
       "   48.56780092236846,\n",
       "   40.81549572963444,\n",
       "   37.89883017877943,\n",
       "   59.317137292169015,\n",
       "   71.86672969480178],\n",
       "  [34.047060832855,\n",
       "   43.2811808789707,\n",
       "   38.53003316504969,\n",
       "   27.596730019293755,\n",
       "   19.832270492187547,\n",
       "   53.69479087903171,\n",
       "   16.887675272334658,\n",
       "   48.42828145081304,\n",
       "   33.297295313877086,\n",
       "   34.19882319310668]],\n",
       " 'succ_num': [1, 38, 98],\n",
       " 'eps_num': [250, 250, 250],\n",
       " 'succ_dtw_mean': [11.019343625196273, 14.898501678657457, 12.36442286295082],\n",
       " 'succ_dtw_std': [nan, 3.669894174396018, 1.4863758005281211],\n",
       " 'succ_dtw_num': [1, 10, 9]}"
      ]
     },
     "execution_count": 7,
     "metadata": {},
     "output_type": "execute_result"
    }
   ],
   "source": [
    "print(len(stats_base['succ_arr'][0]))\n",
    "stats_base"
   ]
  },
  {
   "cell_type": "code",
   "execution_count": 8,
   "metadata": {},
   "outputs": [
    {
     "name": "stdout",
     "output_type": "stream",
     "text": [
      "10\n"
     ]
    },
    {
     "data": {
      "text/plain": [
       "{'size': 0,\n",
       " 'succ_mean': [0.36, 0.5679999999999998, 0.8460000000000001],\n",
       " 'succ_std': [0.17913371790059204, 0.07671013260609345, 0.07026932316294059],\n",
       " 'dtw_mean': [61.827673168050374, 43.15222327577146, 22.14774613266682],\n",
       " 'dtw_std': [19.13016268284588, 6.435633771107191, 5.827526853825126],\n",
       " 'succ_arr': [[0.1, 0.33, 0.37, 0.48, 0.01, 0.5, 0.34, 0.52, 0.55, 0.4],\n",
       "  [0.54, 0.61, 0.45, 0.71, 0.51, 0.55, 0.51, 0.66, 0.59, 0.55],\n",
       "  [0.71, 0.9, 0.89, 0.86, 0.9, 0.94, 0.86, 0.77, 0.79, 0.84]],\n",
       " 'dtw_arr': [[100.3409111808051,\n",
       "   60.576169526742305,\n",
       "   54.83435835204378,\n",
       "   50.05792483755818,\n",
       "   90.96810042705717,\n",
       "   47.136542949420466,\n",
       "   57.29755963155867,\n",
       "   47.67108713907325,\n",
       "   43.88541613864338,\n",
       "   65.50866149760154],\n",
       "  [43.774099839272814,\n",
       "   38.10371189197593,\n",
       "   57.870651898973165,\n",
       "   39.84083440371474,\n",
       "   47.02414374535802,\n",
       "   42.676743858506036,\n",
       "   46.182158906867414,\n",
       "   35.82361040357733,\n",
       "   36.743731665705255,\n",
       "   43.48254614376395],\n",
       "  [33.35638786217429,\n",
       "   15.091981544320355,\n",
       "   19.925726631104787,\n",
       "   20.762790463151354,\n",
       "   15.859852159770304,\n",
       "   19.24430129371875,\n",
       "   20.68829984654617,\n",
       "   28.15681054598893,\n",
       "   27.988634547759585,\n",
       "   20.402676432133728]],\n",
       " 'succ_num': [13, 48, 169],\n",
       " 'eps_num': [250, 250, 250],\n",
       " 'succ_dtw_mean': [13.923396431352465, 14.599643052040843, 12.319905238258002],\n",
       " 'succ_dtw_std': [3.7196917878402918, 3.9861574113214924, 1.9841228214997473],\n",
       " 'succ_dtw_num': [6, 10, 10]}"
      ]
     },
     "execution_count": 8,
     "metadata": {},
     "output_type": "execute_result"
    }
   ],
   "source": [
    "print(len(stats_abl['succ_arr'][0]))\n",
    "stats_abl"
   ]
  },
  {
   "cell_type": "code",
   "execution_count": 9,
   "metadata": {},
   "outputs": [
    {
     "name": "stdout",
     "output_type": "stream",
     "text": [
      "succ_arr\n",
      "10 10\n",
      "2.7037172597126724 0.017487618901563168\n",
      "-\n",
      "dtw_arr\n",
      "10 10\n",
      "-3.7981122014520396 0.0028136969108504602\n",
      "===\n",
      "succ_arr\n",
      "10 10\n",
      "1.8867207418376932 0.0782389167445359\n",
      "-\n",
      "dtw_arr\n",
      "10 10\n",
      "-2.545759274434623 0.020314807379848827\n",
      "===\n",
      "succ_arr\n",
      "10 10\n",
      "3.860999157855811 0.0018463235545178045\n",
      "-\n",
      "dtw_arr\n",
      "10 10\n",
      "-4.01666804806935 0.0016267912889091206\n",
      "===\n"
     ]
    }
   ],
   "source": [
    "for i in range(len(stats_model['succ_arr'])):\n",
    "    print(\"succ_arr\")\n",
    "    statistic, pvalue = ttest_ind(stats_model['succ_arr'][i], \n",
    "                                 stats_base['succ_arr'][i], equal_var=False)\n",
    "    print(len(stats_model['succ_arr'][i]), len(stats_base['succ_arr'][i]))\n",
    "    print(statistic, pvalue)\n",
    "    print(\"-\")\n",
    "\n",
    "    print(\"dtw_arr\")\n",
    "    statistic, pvalue = ttest_ind(stats_model['dtw_arr'][i], \n",
    "                                 stats_base['dtw_arr'][i], equal_var=False)\n",
    "    print(len(stats_model['dtw_arr'][i]), len(stats_base['dtw_arr'][i]))\n",
    "    print(statistic, pvalue)\n",
    "    print(\"===\")"
   ]
  },
  {
   "cell_type": "code",
   "execution_count": 10,
   "metadata": {},
   "outputs": [
    {
     "data": {
      "text/plain": [
       "10"
      ]
     },
     "execution_count": 10,
     "metadata": {},
     "output_type": "execute_result"
    }
   ],
   "source": [
    "len(stats_model['succ_arr'][0])"
   ]
  },
  {
   "cell_type": "markdown",
   "metadata": {},
   "source": [
    "## Visualization"
   ]
  },
  {
   "cell_type": "markdown",
   "metadata": {},
   "source": [
    "### DTW"
   ]
  },
  {
   "cell_type": "code",
   "execution_count": 11,
   "metadata": {},
   "outputs": [
    {
     "data": {
      "image/png": "[encoded data removed]",
      "text/plain": [
       "<Figure size 1200x800 with 1 Axes>"
      ]
     },
     "metadata": {},
     "output_type": "display_data"
    },
    {
     "name": "stdout",
     "output_type": "stream",
     "text": [
      "{'DNFC': [50.4077244542309, 36.674822775542225, 18.78821972051519], 'Baseline': [73.93277865907561, 50.27665811476223, 34.97941414975199], 'DNFC-ablation': [61.827673168050374, 43.15222327577146, 22.14774613266682]}\n",
      "{'DNFC': [2.103640134023299, 3.6648935892565353, 1.6130880467370878], 'Baseline': [5.825706603820789, 3.8878718104417205, 3.6941736623850874], 'DNFC-ablation': [6.0494886087350315, 2.035126090339745, 1.8428257983882514]}\n"
     ]
    }
   ],
   "source": [
    "Ys = {\n",
    "    'DNFC': [x for x in stats_model['dtw_mean']],\n",
    "    'Baseline': [x for x in stats_base['dtw_mean']],\n",
    "    'DNFC-ablation': [x for x in stats_abl['dtw_mean']],\n",
    "}\n",
    "\n",
    "errors = {\n",
    "    'DNFC': [x / math.sqrt(len(stats_model['succ_arr'][0])) \n",
    "             for x in stats_model['dtw_std']],\n",
    "    'Baseline': [x / math.sqrt(len(stats_model['succ_arr'][0])) \n",
    "                 for x in stats_base['dtw_std']],\n",
    "    'DNFC-ablation': [x / math.sqrt(len(stats_model['succ_arr'][0])) \n",
    "                      for x in stats_abl['dtw_std']],\n",
    "}\n",
    "\n",
    "x = np.arange(len(model_params_list))  # the label locations\n",
    "width = 0.25  # the width of the bars\n",
    "multiplier = 0\n",
    "\n",
    "fig, ax = plt.subplots(layout='constrained', figsize=(12, 8))\n",
    "\n",
    "for attribute, measurement in Ys.items():\n",
    "    offset = width * multiplier\n",
    "    # print(attribute)\n",
    "    rects = ax.bar(x + offset, measurement, width, label=attribute, yerr=errors[attribute],\n",
    "                   error_kw={'capsize': 5})\n",
    "    # ax.bar_label(rects, fmt='%.2f', padding=3)\n",
    "    if attribute == 'DNFC':\n",
    "        numerators = stats_model['succ_num']\n",
    "        denominators = stats_model['eps_num']\n",
    "    elif attribute == 'Baseline':\n",
    "        numerators = stats_base['succ_num']\n",
    "        denominators = stats_base['eps_num']\n",
    "    elif attribute == 'DNFC-ablation':\n",
    "        numerators = stats_abl['succ_num']\n",
    "        denominators = stats_abl['eps_num']\n",
    "    \n",
    "    fraction_labels = [f\"{int(n)}/{int(d)}\" for n, d in zip(numerators, denominators)]\n",
    "\n",
    "    # Add labels on top of bars\n",
    "    ax.bar_label(rects, labels=fraction_labels, padding=3, fontsize=label_fontsize)\n",
    "    \n",
    "    multiplier += 1\n",
    "\n",
    "# Add some text for labels, title and custom x-axis tick labels, etc.\n",
    "ax.set_ylabel(\"Average DTW distance\")\n",
    "ax.set_xlabel(\"Approximate number of model parameters (x1e3)\")\n",
    "# ax.set_title('Robot Endpoint-Target Distance')\n",
    "ax.set_xticks(x + width, model_params_list)\n",
    "# ax.legend(loc='upper left', ncols=3)\n",
    "ax.legend()\n",
    "# ax.set_ylim(0, 250)\n",
    "plt.savefig(os.path.join(os.getcwd(), f\"paper/dtw_{ds_type}_{episode_no}.png\"))\n",
    "plt.show()\n",
    "print(Ys)\n",
    "print(errors)"
   ]
  },
  {
   "cell_type": "markdown",
   "metadata": {},
   "source": [
    "### Points"
   ]
  },
  {
   "cell_type": "code",
   "execution_count": 12,
   "metadata": {},
   "outputs": [
    {
     "data": {
      "image/png": "[encoded data removed]",
      "text/plain": [
       "<Figure size 1200x800 with 1 Axes>"
      ]
     },
     "metadata": {},
     "output_type": "display_data"
    },
    {
     "name": "stdout",
     "output_type": "stream",
     "text": [
      "{'DNFC': [0.43800000000000006, 0.6210000000000001, 0.8870000000000001], 'Baseline': [0.29700000000000004, 0.513, 0.693], 'DNFC-ablation': [0.36, 0.5679999999999998, 0.8460000000000001]}\n",
      "{'DNFC': [0.024212026396446505, 0.0481306093412036, 0.023048258550750034], 'Baseline': [0.04618922433256965, 0.030985659765625635, 0.04464800605228014], 'DNFC-ablation': [0.056647055429994674, 0.02425787386488033, 0.022221111083331944]}\n"
     ]
    }
   ],
   "source": [
    "Ys = {\n",
    "    'DNFC': [x for x in stats_model['succ_mean']],\n",
    "    'Baseline': [x for x in stats_base['succ_mean']],\n",
    "    'DNFC-ablation': [x for x in stats_abl['succ_mean']],\n",
    "}\n",
    "\n",
    "errors = {\n",
    "    'DNFC': [x / math.sqrt(len(stats_model['succ_arr'][0]))\n",
    "             for x in stats_model['succ_std']],\n",
    "    'Baseline': [x / math.sqrt(len(stats_model['succ_arr'][0]))\n",
    "                 for x in stats_base['succ_std']],\n",
    "    'DNFC-ablation': [x / math.sqrt(len(stats_model['succ_arr'][0])) \n",
    "                      for x in stats_abl['succ_std']],\n",
    "}\n",
    "\n",
    "x = np.arange(len(model_params_list))  # the label locations\n",
    "width = 0.25  # the width of the bars\n",
    "multiplier = 0\n",
    "\n",
    "fig, ax = plt.subplots(layout='constrained', figsize=(12, 8))\n",
    "\n",
    "for attribute, measurement in Ys.items():\n",
    "    offset = width * multiplier\n",
    "    # print(attribute)\n",
    "    rects = ax.bar(x + offset, measurement, width, label=attribute, yerr=errors[attribute],\n",
    "                   error_kw={'capsize': 5})\n",
    "    # ax.bar_label(rects, fmt='%.2f', padding=3)\n",
    "    if attribute == 'DNFC':\n",
    "        numerators = stats_model['succ_num']\n",
    "        denominators = stats_model['eps_num']\n",
    "    elif attribute == 'Baseline':\n",
    "        numerators = stats_base['succ_num']\n",
    "        denominators = stats_base['eps_num']\n",
    "    elif attribute == 'DNFC-ablation':\n",
    "        numerators = stats_abl['succ_num']\n",
    "        denominators = stats_abl['eps_num']\n",
    "    \n",
    "    fraction_labels = [f\"{int(n)}/{int(d)}\" for n, d in zip(numerators, denominators)]\n",
    "\n",
    "    # # Add labels on top of bars\n",
    "    ax.bar_label(rects, labels=fraction_labels, padding=3, fontsize=label_fontsize)\n",
    "    # for idx, (bar, label) in enumerate(zip(rects, fraction_labels)):\n",
    "    #     height = bar.get_height()\n",
    "    #     y_offset = 5 if idx % 2 == 0 else 2  # Alternate height for labels\n",
    "    #     ax.text(\n",
    "    #         bar.get_x() + bar.get_width() / 2,\n",
    "    #         height + y_offset,\n",
    "    #         label,\n",
    "    #         ha='center',\n",
    "    #         va='bottom',\n",
    "    #         fontsize=10\n",
    "    #     )\n",
    "    \n",
    "    multiplier += 1\n",
    "\n",
    "# Add some text for labels, title and custom x-axis tick labels, etc.\n",
    "ax.set_ylabel('Average obtained score')\n",
    "ax.set_xlabel(\"Approximate number of model parameters (x1e3)\")\n",
    "# ax.set_title('Robot Endpoint-Target Distance')\n",
    "ax.set_xticks(x + width, model_params_list)\n",
    "# ax.legend(loc='upper left', ncols=3)\n",
    "ax.legend()\n",
    "# ax.set_ylim(0, 250)\n",
    "plt.savefig(os.path.join(os.getcwd(), f\"paper/pts_{ds_type}_{episode_no}.png\"))\n",
    "plt.show()\n",
    "print(Ys)\n",
    "print(errors)"
   ]
  },
  {
   "cell_type": "markdown",
   "metadata": {},
   "source": [
    "### DTW of completed episodes"
   ]
  },
  {
   "cell_type": "code",
   "execution_count": 13,
   "metadata": {},
   "outputs": [
    {
     "data": {
      "image/png": "[encoded data removed]",
      "text/plain": [
       "<Figure size 1200x800 with 1 Axes>"
      ]
     },
     "metadata": {},
     "output_type": "display_data"
    },
    {
     "name": "stdout",
     "output_type": "stream",
     "text": [
      "{'DNFC': [16.832167451697362, 11.357705050632212, 11.759740664546745], 'Baseline': [11.019343625196273, 14.898501678657457, 12.36442286295082], 'DNFC-ablation': [13.923396431352465, 14.599643052040843, 12.319905238258002]}\n",
      "{'DNFC': [2.156557312149484, 0.4024544725494467, 0.34087987551128474], 'Baseline': [nan, 1.1605224362874604, 0.4954586001760404], 'DNFC-ablation': [1.5185578134382696, 1.2605336531736573, 0.6274347273458903]}\n"
     ]
    }
   ],
   "source": [
    "Ys = {\n",
    "    'DNFC': [x for x in stats_model['succ_dtw_mean']],\n",
    "    'Baseline': [x for x in stats_base['succ_dtw_mean']],\n",
    "    'DNFC-ablation': [x for x in stats_abl['succ_dtw_mean']],\n",
    "}\n",
    "\n",
    "errors = {\n",
    "    'DNFC': [stats_model['succ_dtw_std'][i] / math.sqrt(stats_model['succ_dtw_num'][i])\n",
    "             for i in range(len(stats_model['succ_dtw_std']))],\n",
    "    'Baseline': [stats_base['succ_dtw_std'][i] / math.sqrt(stats_base['succ_dtw_num'][i])\n",
    "                 for i in range(len(stats_base['succ_dtw_std']))],\n",
    "    'DNFC-ablation': [stats_abl['succ_dtw_std'][i] / math.sqrt(stats_abl['succ_dtw_num'][i]) \n",
    "                      for i in range(len(stats_abl['succ_dtw_std']))],\n",
    "}\n",
    "\n",
    "x = np.arange(len(model_params_list))  # the label locations\n",
    "width = 0.25  # the width of the bars\n",
    "multiplier = 0\n",
    "\n",
    "fig, ax = plt.subplots(layout='constrained', figsize=(12, 8))\n",
    "\n",
    "for attribute, measurement in Ys.items():\n",
    "    offset = width * multiplier\n",
    "    # print(attribute)\n",
    "    rects = ax.bar(x + offset, measurement, width, label=attribute, yerr=errors[attribute],\n",
    "                   error_kw={'capsize': 5})\n",
    "    # ax.bar_label(rects, fmt='%.2f', padding=3)\n",
    "    if attribute == 'DNFC':\n",
    "        numerators = stats_model['succ_num']\n",
    "        denominators = stats_model['eps_num']\n",
    "    elif attribute == 'Baseline':\n",
    "        numerators = stats_base['succ_num']\n",
    "        denominators = stats_base['eps_num']\n",
    "    elif attribute == 'DNFC-ablation':\n",
    "        numerators = stats_abl['succ_num']\n",
    "        denominators = stats_abl['eps_num']\n",
    "    \n",
    "    fraction_labels = [f\"{int(n)}/{int(d)}\" for n, d in zip(numerators, denominators)]\n",
    "\n",
    "    # Add labels on top of bars\n",
    "    ax.bar_label(rects, labels=fraction_labels, padding=3, fontsize=label_fontsize)\n",
    "    \n",
    "    multiplier += 1\n",
    "\n",
    "# Add some text for labels, title and custom x-axis tick labels, etc.\n",
    "ax.set_ylabel('Average DTW distance')\n",
    "ax.set_xlabel(\"Approximate number of model parameters (x1e3)\")\n",
    "# ax.set_title('Robot Endpoint-Target Distance')\n",
    "ax.set_xticks(x + width, model_params_list)\n",
    "# ax.legend(loc='upper left', ncols=3)\n",
    "ax.legend()\n",
    "# ax.set_ylim(0, 250)\n",
    "plt.savefig(os.path.join(os.getcwd(), f\"paper/succ_dtw_{ds_type}_{episode_no}.png\"))\n",
    "plt.show()\n",
    "print(Ys)\n",
    "print(errors)"
   ]
  },
  {
   "cell_type": "code",
   "execution_count": 14,
   "metadata": {},
   "outputs": [
    {
     "name": "stdout",
     "output_type": "stream",
     "text": [
      "[16.832167451697362, 11.357705050632212, 11.759740664546745]\n",
      "[11.019343625196273, 14.898501678657457, 12.36442286295082]\n"
     ]
    }
   ],
   "source": [
    "print(stats_model['succ_dtw_mean'])\n",
    "print(stats_base['succ_dtw_mean'])"
   ]
  },
  {
   "cell_type": "code",
   "execution_count": 15,
   "metadata": {},
   "outputs": [
    {
     "name": "stdout",
     "output_type": "stream",
     "text": [
      "             dnfc_succ  basel_succ   dnfc_dtw  basel_dtw\n",
      "train_round                                             \n",
      "1                  1.0         1.0  11.897694  11.897694\n",
      "2                  1.0         1.0   9.479732   9.479732\n",
      "3                  1.0         1.0  14.407827  14.407827\n",
      "4                  1.0         1.0  11.935410  11.935410\n",
      "5                  1.0         1.0  11.103260  11.103260\n",
      "6                  1.0         1.0  14.307872  14.307872\n",
      "7                  1.0         1.0  12.103560  12.103560\n",
      "8                  1.0         1.0  11.462784  11.462784\n",
      "9                  1.0         1.0  15.964590  15.964590\n",
      "10                 1.0         1.0  10.536324  10.536324\n",
      "12.319905238258002\n",
      "             dnfc_succ  basel_succ   dnfc_dtw  basel_dtw\n",
      "train_round                                             \n",
      "1                  1.0         1.0  11.897694  11.897694\n",
      "2                  1.0         1.0   9.479732   9.479732\n",
      "3                  1.0         1.0  14.407827  14.407827\n",
      "4                  1.0         1.0  11.935410  11.935410\n",
      "5                  1.0         1.0  11.103260  11.103260\n",
      "6                  1.0         1.0  14.307872  14.307872\n",
      "7                  1.0         1.0  12.103560  12.103560\n",
      "8                  1.0         1.0  11.462784  11.462784\n",
      "9                  1.0         1.0  15.964590  15.964590\n",
      "10                 1.0         1.0  10.536324  10.536324\n",
      "12.319905238258002\n"
     ]
    }
   ],
   "source": [
    "print(round_means_dnfc)\n",
    "print(round_means_dnfc[\"dnfc_dtw\"].mean())\n",
    "print(round_means_base)\n",
    "print(round_means_base[\"basel_dtw\"].mean())"
   ]
  },
  {
   "cell_type": "code",
   "execution_count": null,
   "metadata": {},
   "outputs": [],
   "source": []
  },
  {
   "cell_type": "code",
   "execution_count": null,
   "metadata": {},
   "outputs": [],
   "source": [
    "bin_no = 10\n",
    "\n",
    "dnfc_mean = df[\"dnfc_succ\"].mean()\n",
    "basel_mean = df[\"basel_succ\"].mean()\n",
    "\n",
    "# Plot histograms for 'dnfc_succ' and 'basel_succ' side by side\n",
    "plt.figure(figsize=(8, 6))\n",
    "plt.hist(df[\"dnfc_succ\"], bins=bin_no, alpha=0.7, label='dnfc_succ', edgecolor='black')\n",
    "plt.hist(df[\"basel_succ\"], bins=bin_no, alpha=0.7, label='basel_succ', edgecolor='black')\n",
    "# plt.title(\"Histogram of dnfc_succ and basel_succ\", fontsize=14)\n",
    "# Add vertical dashed lines for mean values\n",
    "plt.axvline(dnfc_mean, color='blue', linestyle='dashed', \n",
    "            linewidth=2, label=f'dnfc_succ mean: {dnfc_mean:.2f}')\n",
    "plt.axvline(basel_mean, color='orange', linestyle='dashed', \n",
    "            linewidth=2, label=f'basel_succ mean: {basel_mean:.2f}')\n",
    "\n",
    "plt.xlabel(\"Value\")\n",
    "plt.ylabel(\"Frequency\")\n",
    "plt.legend()\n",
    "plt.grid(axis='y', alpha=0.75)\n",
    "\n",
    "# plt.savefig(os.path.join(os.getcwd(), \"paper/succ_hist.png\"))\n",
    "plt.show()"
   ]
  },
  {
   "cell_type": "code",
   "execution_count": null,
   "metadata": {},
   "outputs": [],
   "source": [
    "bin_no = 20\n",
    "\n",
    "# Find the common range for both datasets\n",
    "min_value = min(df[\"dnfc_dtw\"].min(), df[\"basel_dtw\"].min())\n",
    "max_value = max(df[\"dnfc_dtw\"].max(), df[\"basel_dtw\"].max())\n",
    "\n",
    "# Create bin edges with equal width\n",
    "bins = np.linspace(min_value, max_value, bin_no + 1)  # +1 because linspace creates bin edges\n",
    "\n",
    "dnfc_mean = df[\"dnfc_dtw\"].mean()\n",
    "basel_mean = df[\"basel_dtw\"].mean()\n",
    "plt.figure(figsize=(8, 6))\n",
    "plt.hist(df[\"dnfc_dtw\"], bins=bins, alpha=0.5, label='dnfc_dtw', edgecolor='black')\n",
    "plt.hist(df[\"basel_dtw\"], bins=bins, alpha=0.5, label='basel_dtw', edgecolor='black')\n",
    "\n",
    "plt.axvline(dnfc_mean, color='blue', linestyle='dashed', \n",
    "            linewidth=2, label=f'dnfc_dtw mean: {dnfc_mean:.2f}')\n",
    "plt.axvline(basel_mean, color='orange', linestyle='dashed', \n",
    "            linewidth=2, label=f'basel_dtw mean: {basel_mean:.2f}')\n",
    "# plt.title(\"Histogram of dnfc_succ and basel_succ\", fontsize=14)\n",
    "plt.xlabel(\"Value\")\n",
    "plt.ylabel(\"Frequency\")\n",
    "plt.legend()\n",
    "plt.grid(axis='y', alpha=0.75)\n",
    "\n",
    "# plt.savefig(os.path.join(os.getcwd(), \"paper/dtw_hist.png\"))\n",
    "plt.show()\n"
   ]
  },
  {
   "cell_type": "code",
   "execution_count": null,
   "metadata": {},
   "outputs": [],
   "source": []
  },
  {
   "cell_type": "markdown",
   "metadata": {},
   "source": [
    "### Latent Space Rep."
   ]
  },
  {
   "cell_type": "code",
   "execution_count": null,
   "metadata": {},
   "outputs": [],
   "source": [
    "root_dir = \"/home/arash/catkin_ws/src/feedback_controller/fbc/neural_network/results/\"\n",
    "root_dir += \"trajs:360_blocks:3_triangle_v_7.541K/ep:1000/on_v_custl_const_1e-05\""
   ]
  },
  {
   "cell_type": "code",
   "execution_count": null,
   "metadata": {},
   "outputs": [],
   "source": [
    "file_path = os.path.join(root_dir, \"all_states_dnfc\")\n",
    "with open(file_path, 'rb') as f:\n",
    "    all_states_dnfc = pickle.load(f)"
   ]
  },
  {
   "cell_type": "code",
   "execution_count": null,
   "metadata": {},
   "outputs": [],
   "source": [
    "eps_no = 27\n",
    "\n",
    "dnfc_data = all_states_dnfc[eps_no]"
   ]
  },
  {
   "cell_type": "code",
   "execution_count": null,
   "metadata": {},
   "outputs": [],
   "source": [
    "joint_vals = [timestep_data[4] for timestep_data in dnfc_data]\n",
    "timesteps = range(len(joint_vals))\n",
    "\n",
    "plt.figure(figsize=(10, 6))\n",
    "plt.plot(timesteps, joint_vals)\n",
    "plt.xlabel(\"Timestep\")\n",
    "plt.ylabel(\"Value\")\n",
    "# plt.title(\"Fifth Value Across Timesteps\")\n",
    "# plt.legend()\n",
    "plt.grid(True)\n",
    "plt.show()"
   ]
  },
  {
   "cell_type": "code",
   "execution_count": null,
   "metadata": {},
   "outputs": [],
   "source": []
  },
  {
   "cell_type": "markdown",
   "metadata": {},
   "source": [
    "## Loss"
   ]
  },
  {
   "cell_type": "code",
   "execution_count": null,
   "metadata": {},
   "outputs": [],
   "source": [
    "root_dir = \"/home/arash/catkin_ws/src/feedback_controller/fbc/neural_network/weights/deniz_weights\"\n",
    "dnfc_dir = os.path.join(root_dir, \n",
    "                        \"triangle|interp_0.85|cus_los_1e-05|tar_cart|2+2l_lat:sub-nvel_0.008_noise|48.149K_params\")\n",
    "base_dir = os.path.join(root_dir, \n",
    "                        \"triangle|interp_0.85|mse_los|tar_cart|base|3l_base_0.008_noise|48.287K_params\")\n",
    "\n",
    "dnfc_fpath = os.path.join(dnfc_dir, \"train_no_0/loss.csv\")\n",
    "df_dnfc = pd.read_csv(dnfc_fpath)\n",
    "base_fpath = os.path.join(base_dir, \"train_no_0/loss.csv\")\n",
    "df_base = pd.read_csv(base_fpath)"
   ]
  },
  {
   "cell_type": "code",
   "execution_count": null,
   "metadata": {},
   "outputs": [],
   "source": [
    "df_dnfc.head()"
   ]
  },
  {
   "cell_type": "code",
   "execution_count": null,
   "metadata": {},
   "outputs": [],
   "source": [
    "df_base.head()"
   ]
  },
  {
   "cell_type": "code",
   "execution_count": null,
   "metadata": {},
   "outputs": [],
   "source": [
    "# Filter the dataframe for n >= 10\n",
    "filtered_df = df_dnfc[(df_dnfc[\"n\"] >= 200)] #& (df_dnfc[\"n\"] <= 1000)]\n",
    "filtered_df_base = df_base[(df_base[\"n\"] >= 200)] #& (df_dnfc[\"n\"] <= 1000)]\n",
    "\n",
    "# Plot train_loss_torques and val_loss_torques vs n\n",
    "plt.figure(figsize=(10, 8))\n",
    "plt.plot(filtered_df[\"n\"], filtered_df[\"train_loss_torques\"], \n",
    "         marker='o', linestyle='-', label=\"Train Trq DNFC\")\n",
    "plt.plot(filtered_df[\"n\"], filtered_df[\"val_loss_torques\"], \n",
    "         marker='x', linestyle='-', label=\"Val Trq DNFC\")\n",
    "# plt.plot(filtered_df[\"n\"], np.log(filtered_df[\"train_loss_custom\"]), \n",
    "#          marker='o', linestyle='-', label=\"Train Cus DNFC\")\n",
    "# plt.plot(filtered_df[\"n\"], np.log(filtered_df[\"val_loss_cutsom\"]), \n",
    "#          marker='x', linestyle='-', label=\"Val Cus DNFC\")\n",
    "\n",
    "plt.plot(filtered_df_base[\"n\"], filtered_df_base[\"train_loss_torques\"], \n",
    "         marker='o', linestyle='-', label=\"Train Trq Base\")\n",
    "plt.plot(filtered_df_base[\"n\"], filtered_df_base[\"val_loss_torques\"], \n",
    "         marker='x', linestyle='-', label=\"Val Trq Base\")\n",
    "plt.xlabel(\"n\")\n",
    "plt.ylabel(\"Loss\")\n",
    "# plt.title(\"Train and Val Loss Torques vs n (n >= 100)\")\n",
    "plt.legend()\n",
    "plt.grid(True)\n",
    "\n",
    "loss_path = os.path.join(dnfc_dir, \"loss.png\")\n",
    "plt.savefig(loss_path)\n",
    "plt.show()\n"
   ]
  },
  {
   "cell_type": "code",
   "execution_count": null,
   "metadata": {},
   "outputs": [],
   "source": []
  },
  {
   "cell_type": "markdown",
   "metadata": {},
   "source": [
    "## Latent Representations"
   ]
  },
  {
   "cell_type": "code",
   "execution_count": null,
   "metadata": {},
   "outputs": [],
   "source": [
    "def get_file(model_dir, is_not_abl, file_name):\n",
    "    file_dir = os.path.join(model_dir, f\"on_v_custl_mse_1e-05_{is_not_abl}\")\n",
    "    file_path = os.path.join(file_dir, f\"{file_name}\")\n",
    "    with open(file_path, 'rb') as f:\n",
    "        latent_reps = pickle.load(f)\n",
    "    return latent_reps\n",
    "\n",
    "def get_csv(model_dir, is_not_abl):\n",
    "    file_dir = os.path.join(model_dir, f\"on_v_custl_mse_1e-05_{is_not_abl}\")\n",
    "    file_path = os.path.join(file_dir, \"perf.csv\")\n",
    "    df = pd.read_csv(file_path)  \n",
    "    return df\n",
    "\n",
    "def add_train_round(df):\n",
    "    df['train_round'] = df.groupby('eps_num').cumcount() + 1\n",
    "    return df"
   ]
  },
  {
   "cell_type": "code",
   "execution_count": null,
   "metadata": {},
   "outputs": [],
   "source": [
    "def plot_latent_reps(latent_reps, latent_reps_abl, states, states_abl,\n",
    "                     df_perf, df_perf_abl, i_eps, model_dir):\n",
    "    # Transpose the data to separate each joint\n",
    "    lat_rep_transp = list(zip(*latent_reps))\n",
    "    lat_rep_abl_transp = list(zip(*latent_reps_abl))\n",
    "    states_transp = list(zip(*states))\n",
    "    states_abl_transp = list(zip(*states_abl))\n",
    "\n",
    "    # print(len(lat_rep_transp), len(lat_rep_transp[0]))\n",
    "    # Plot each joint's position over time\n",
    "    time_steps = range(len(latent_reps))  # Assuming each inner list corresponds to a timestep\n",
    "    \n",
    "    colors = [\n",
    "        'blue', 'green', 'red', 'cyan', 'magenta', #'yellow', \n",
    "        'black', 'orange', 'purple', 'brown', 'pink', 'lime', \n",
    "        'teal', 'gold'\n",
    "    ]\n",
    "    \n",
    "    # Create a figure with 7 subplots arranged vertically\n",
    "    fig, axes = plt.subplots(7, 1, figsize=(12, 14), sharex=True)\n",
    "    fig.tight_layout(pad=0.0)  # Adjust spacing between subplots\n",
    "\n",
    "    for idx, lat_rep in enumerate(lat_rep_transp[:7]):\n",
    "        ax = axes[idx]  # Select the subplot corresponding to the current index\n",
    "        if idx < 7: label_st = f'Jnt.{idx + 1}'\n",
    "        else: label_st = f'Vel.{(idx%7) + 1}'\n",
    "\n",
    "        # print(len(lat_rep), len(lat_rep_abl_transp), len(states_transp))\n",
    "        ax.plot(time_steps, lat_rep, \n",
    "                 label=f'Dim{idx + 1}', color=colors[idx])\n",
    "        ax.plot(time_steps, lat_rep_abl_transp[idx], \n",
    "                 label=f'Dim{idx + 1}a', color=colors[idx], linestyle='dashed')\n",
    "        ax.plot(time_steps, states_transp[idx], \n",
    "                 label=label_st, color=colors[idx])#<, linestyle='dashed')\n",
    "        ax.plot(time_steps, states_abl_transp[idx], \n",
    "                 label=f'Jnt.{idx + 1}a', color=colors[idx], linestyle='dotted')\n",
    "        \n",
    "        # Add labels and legend to each subplot\n",
    "        ax.set_ylabel(f'Dim {idx + 1}')\n",
    "        ax.legend()\n",
    "        ax.grid(True)\n",
    "\n",
    "    eps_no = i_eps // 5\n",
    "    train_no = i_eps % 5\n",
    "    # Add a common xlabel and adjust layout\n",
    "    axes[-1].set_xlabel('Time Steps')\n",
    "    fig.suptitle(f\"DNFC: {df_perf['dnfc_succ']}, DNFC-abl: {df_perf_abl['dnfc_succ']}\")\n",
    "    # plt.show()\n",
    "    plot_dir = os.path.join(model_dir, f'latent_reps')\n",
    "    if os.path.exists(plot_dir):\n",
    "        pass\n",
    "        # print(\"Latent dir. already exists. Are you trying to generate it again?\")\n",
    "        # sys.exit(1)\n",
    "    else:\n",
    "        os.makedirs(plot_dir)\n",
    "    plot_path = os.path.join(plot_dir, f\"eps:{eps_no}_train:{train_no}.png\")\n",
    "    plt.savefig(plot_path)\n",
    "    plt.close()"
   ]
  },
  {
   "cell_type": "code",
   "execution_count": null,
   "metadata": {},
   "outputs": [],
   "source": [
    "for num_params in model_params_list:\n",
    "    model_dir = os.path.join(root_dir, f\"trajs:360_blocks:3_triangle_v_{num_params}K/ep:1000/\")\n",
    "    latent_reps = get_file(model_dir, True, \"all_latent_reps\")\n",
    "    latent_reps_abl = get_file(model_dir, False, \"all_latent_reps\")\n",
    "    states_dnfc = get_file(model_dir, True, \"all_states_dnfc\")\n",
    "    states_abl = get_file(model_dir, False, \"all_states_dnfc\")\n",
    "\n",
    "    df_perf = get_csv(model_dir, True)\n",
    "    df_perf = add_train_round(df_perf)\n",
    "    df_perf_abl = get_csv(model_dir, False)\n",
    "    df_perf_abl = add_train_round(df_perf_abl)\n",
    "    # print(df_perf_abl.head(10))\n",
    "\n",
    "    for i_eps in range(len(latent_reps)):\n",
    "        plot_latent_reps(latent_reps[i_eps], \n",
    "                            latent_reps_abl[i_eps], \n",
    "                            states_dnfc[i_eps],\n",
    "                            states_abl[i_eps], \n",
    "                            df_perf.loc[i_eps], df_perf_abl.loc[i_eps], i_eps, model_dir)"
   ]
  },
  {
   "cell_type": "code",
   "execution_count": null,
   "metadata": {},
   "outputs": [],
   "source": []
  },
  {
   "cell_type": "markdown",
   "metadata": {},
   "source": [
    "## Intrinsic to Cartesian"
   ]
  },
  {
   "cell_type": "code",
   "execution_count": null,
   "metadata": {},
   "outputs": [],
   "source": [
    "def intrinsic_to_3d_cart(all_joints_vals):\n",
    "    x, y, z = [], [], []\n",
    "    for joints_vals in all_joints_vals:\n",
    "        my_l = [0, 0]\n",
    "        for j_val in joints_vals:\n",
    "            my_l.append(float(j_val))\n",
    "        p, R = kin.forwardkin(1, np.array(my_l))\n",
    "        x.append(p[0])\n",
    "        y.append(p[1])\n",
    "        z.append(p[2])\n",
    "\n",
    "    return x, y, z"
   ]
  },
  {
   "cell_type": "code",
   "execution_count": null,
   "metadata": {},
   "outputs": [],
   "source": [
    "def get_end_eff_pos(js):\n",
    "    my_l = [0, 0]\n",
    "    for j in js:\n",
    "        my_l.append(float(j))\n",
    "    p1, R = kin.forwardkin(1, np.array(my_l))\n",
    "    return p1"
   ]
  },
  {
   "cell_type": "code",
   "execution_count": null,
   "metadata": {},
   "outputs": [],
   "source": [
    "def load_list_from_file(file_path):\n",
    "    with open(file_path, 'rb') as f:\n",
    "        lst = pickle.load(f)\n",
    "    return lst\n"
   ]
  },
  {
   "cell_type": "code",
   "execution_count": null,
   "metadata": {},
   "outputs": [],
   "source": [
    "file_root_dir = root_dir +\\\n",
    "    f\"{ds_name}_{model_params_list[-1]}K_{ds_type}/ep:4000/on_{model_name}\" + \"_True\" + \"_3l_base\"\n",
    "\n",
    "file_path = os.path.join(file_root_dir, \"all_states_dnfc\")\n",
    "all_states_dnfc = load_list_from_file(file_path)\n",
    "print(file_path)\n",
    "print(len(all_states_dnfc))"
   ]
  },
  {
   "cell_type": "code",
   "execution_count": null,
   "metadata": {},
   "outputs": [],
   "source": [
    "positions = []\n",
    "for eps_num in range(len(all_states_dnfc)):\n",
    "    eps_positions = []\n",
    "    eps_states = all_states_dnfc[eps_num]\n",
    "    for tms_num in range(len(eps_states)):\n",
    "        tms_state = eps_states[tms_num]\n",
    "        pos = get_end_eff_pos(tms_state[:7])\n",
    "        pos = pos.tolist()\n",
    "        eps_positions.append(pos)\n",
    "    positions.append(eps_positions)\n"
   ]
  },
  {
   "cell_type": "code",
   "execution_count": null,
   "metadata": {},
   "outputs": [],
   "source": [
    "positions_arr = np.array(positions)\n",
    "positions_arr.shape"
   ]
  },
  {
   "cell_type": "code",
   "execution_count": null,
   "metadata": {},
   "outputs": [],
   "source": [
    "path = os.path.join(file_root_dir, \"end_eff_pos.npy\")\n",
    "np.save(path, positions_arr)"
   ]
  },
  {
   "cell_type": "code",
   "execution_count": null,
   "metadata": {},
   "outputs": [],
   "source": []
  }
 ],
 "metadata": {
  "kernelspec": {
   "display_name": "dnfc2",
   "language": "python",
   "name": "python3"
  },
  "language_info": {
   "codemirror_mode": {
    "name": "ipython",
    "version": 3
   },
   "file_extension": ".py",
   "mimetype": "text/x-python",
   "name": "python",
   "nbconvert_exporter": "python",
   "pygments_lexer": "ipython3",
   "version": "3.9.21"
  }
 },
 "nbformat": 4,
 "nbformat_minor": 2
}
