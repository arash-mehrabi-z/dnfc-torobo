{
 "cells": [
  {
   "cell_type": "code",
   "execution_count": 1,
   "metadata": {},
   "outputs": [],
   "source": [
    "import numpy as np\n",
    "import pandas as pd\n",
    "import matplotlib.pyplot as plt\n",
    "import math\n",
    "\n",
    "import os\n",
    "import pickle\n",
    "import random\n",
    "import sys\n",
    "\n",
    "from scipy.stats import ttest_ind\n",
    "from torkin import TorKin\n",
    "\n",
    "from config import Config\n",
    "cfg = Config()\n",
    "\n",
    "plt.rcParams['font.size'] = 18\n",
    "plt.rc('font', size=18)\n",
    "plt.rc('legend', fontsize=14)\n",
    "label_fontsize = 14"
   ]
  },
  {
   "cell_type": "code",
   "execution_count": 2,
   "metadata": {},
   "outputs": [
    {
     "name": "stdout",
     "output_type": "stream",
     "text": [
      "No data file named /home/erhan/catkin_ws/src/erhtor_work/tormain/Resources/larm60.txt\n",
      "bodypart structure for larm is constructed.\n",
      "No data file named /home/erhan/catkin_ws/src/erhtor_work/tormain/Resources/rarm60.txt\n",
      "bodypart structure for rarm is constructed.\n",
      "bodypart structure for head is constructed.\n"
     ]
    }
   ],
   "source": [
    "root_dir = \"/home/arash/catkin_ws/src/feedback_controller/fbc/neural_network/results/\"\n",
    "ds_name = \"trajs:72_blocks:3\" + \"_triangle_v_scarce\" #\"_triangle_v\"\n",
    "ds_type = \"interp_0.85\" #\"extrap_0.85\" #\n",
    "model_name = \"2+2l_lat:sub-nvel_1e-05\"\n",
    "\n",
    "model_params_list = [6.037, 12.053, 24.085] #, 36.117]\n",
    "\n",
    "kin = TorKin()"
   ]
  },
  {
   "cell_type": "markdown",
   "metadata": {},
   "source": [
    "### Example"
   ]
  },
  {
   "cell_type": "code",
   "execution_count": null,
   "metadata": {},
   "outputs": [],
   "source": [
    "file_root_dir = root_dir +\\\n",
    "    f\"{ds_name}_{model_params_list[1]}K_{ds_type}/ep:4000/on_{model_name}\" + \"_True\" + \"_3l_base\"\n",
    "\n",
    "file_path = os.path.join(file_root_dir, \"perf.csv\")\n",
    "df = pd.read_csv(file_path)  "
   ]
  },
  {
   "cell_type": "code",
   "execution_count": null,
   "metadata": {},
   "outputs": [],
   "source": [
    "df.head()"
   ]
  },
  {
   "cell_type": "code",
   "execution_count": null,
   "metadata": {},
   "outputs": [],
   "source": [
    "df.loc[3, 'dnfc_dtw']"
   ]
  },
  {
   "cell_type": "code",
   "execution_count": null,
   "metadata": {},
   "outputs": [],
   "source": [
    "df['dnfc_succ'] *= 100.0\n",
    "df['basel_succ'] *= 100.0\n",
    "df.head()"
   ]
  },
  {
   "cell_type": "code",
   "execution_count": null,
   "metadata": {},
   "outputs": [],
   "source": [
    "df['train_round'] = df.groupby('eps_num').cumcount() + 1\n",
    "df.head(10)"
   ]
  },
  {
   "cell_type": "code",
   "execution_count": null,
   "metadata": {},
   "outputs": [],
   "source": [
    "df.shape"
   ]
  },
  {
   "cell_type": "code",
   "execution_count": null,
   "metadata": {},
   "outputs": [],
   "source": [
    "# df = df[df[\"eps_num\"] <= 32]\n",
    "# df.shape"
   ]
  },
  {
   "cell_type": "code",
   "execution_count": null,
   "metadata": {},
   "outputs": [],
   "source": [
    "dnfc_succ_cases = df[df['dnfc_succ'].astype(int) == 100]\n",
    "print(dnfc_succ_cases.head())\n",
    "print(len(dnfc_succ_cases))"
   ]
  },
  {
   "cell_type": "code",
   "execution_count": null,
   "metadata": {},
   "outputs": [],
   "source": [
    "basel_succ_cases = df[df['basel_succ'].astype(int) == 100]\n",
    "print(basel_succ_cases.head())\n",
    "print(len(basel_succ_cases))"
   ]
  },
  {
   "cell_type": "code",
   "execution_count": null,
   "metadata": {},
   "outputs": [],
   "source": [
    "print(dnfc_succ_cases['dnfc_dtw'].tolist())\n",
    "print(dnfc_succ_cases['dnfc_dtw'].mean())\n",
    "print(dnfc_succ_cases['dnfc_dtw'].std())"
   ]
  },
  {
   "cell_type": "code",
   "execution_count": null,
   "metadata": {},
   "outputs": [],
   "source": [
    "print(basel_succ_cases['basel_dtw'].tolist())\n",
    "print(basel_succ_cases['basel_dtw'].mean())\n",
    "print(basel_succ_cases['basel_dtw'].std())"
   ]
  },
  {
   "cell_type": "code",
   "execution_count": null,
   "metadata": {},
   "outputs": [],
   "source": [
    "round_means_dnfc_succ = dnfc_succ_cases.groupby('train_round')[['dnfc_succ', \n",
    "                                                                'basel_succ', \n",
    "                                                                'dnfc_dtw', \n",
    "                                                                'basel_dtw']\n",
    "                                                                ].mean()\n",
    "\n",
    "print(round_means_dnfc_succ)\n",
    "print(len(round_means_dnfc_succ))\n",
    "print(\"===\")\n",
    "print(round_means_dnfc_succ.mean())"
   ]
  },
  {
   "cell_type": "code",
   "execution_count": null,
   "metadata": {},
   "outputs": [],
   "source": [
    "dnfc_succ_cases"
   ]
  },
  {
   "cell_type": "code",
   "execution_count": null,
   "metadata": {},
   "outputs": [],
   "source": [
    "round_means_basel_succ = basel_succ_cases.groupby('train_round')[['dnfc_succ', \n",
    "                                                                  'basel_succ', \n",
    "                                                                  'dnfc_dtw', \n",
    "                                                                  'basel_dtw']\n",
    "                                                                  ].mean()\n",
    "\n",
    "print(round_means_basel_succ)\n",
    "print(len(round_means_basel_succ))\n",
    "print(\"===\")\n",
    "print(round_means_basel_succ.mean())"
   ]
  },
  {
   "cell_type": "code",
   "execution_count": null,
   "metadata": {},
   "outputs": [],
   "source": [
    "round_means = df.groupby('train_round')[['dnfc_succ', 'basel_succ',\n",
    "                                         'dnfc_dtw', 'basel_dtw']].mean()\n",
    "\n",
    "round_means"
   ]
  },
  {
   "cell_type": "code",
   "execution_count": null,
   "metadata": {},
   "outputs": [],
   "source": [
    "overall_mean = round_means.mean()\n",
    "overall_std = round_means.std()\n",
    "print(overall_mean)\n",
    "print(\"---\")\n",
    "print(overall_std)"
   ]
  },
  {
   "cell_type": "code",
   "execution_count": null,
   "metadata": {},
   "outputs": [],
   "source": [
    "dnfc_succ = round_means['dnfc_succ'].tolist()\n",
    "basel_succ = round_means['basel_succ'].tolist()\n",
    "\n",
    "dnfc_mean = np.mean(dnfc_succ)\n",
    "basel_mean = np.mean(basel_succ)\n",
    "\n",
    "# Scatter plot\n",
    "plt.figure(figsize=(10, 6))\n",
    "train_rounds = np.arange(1, len(dnfc_succ)+1)\n",
    "\n",
    "# Plot scatter points\n",
    "plt.scatter(train_rounds, dnfc_succ, color='blue', label='dnfc_succ', marker='o')\n",
    "plt.scatter(train_rounds, basel_succ, color='orange', label='basel_succ', marker='s')\n",
    "\n",
    "# Add mean lines\n",
    "plt.axhline(dnfc_mean, color='blue', linestyle='dashed', linewidth=2, \n",
    "            label=f'dnfc_succ mean: {dnfc_mean:.2f}')\n",
    "plt.axhline(basel_mean, color='orange', linestyle='dashed', linewidth=2, \n",
    "            label=f'basel_succ mean: {basel_mean:.2f}')\n",
    "\n",
    "# Labels and legend\n",
    "plt.xlabel('Train Round')\n",
    "plt.ylabel('Success Rate')\n",
    "plt.title('Scatter Plot of dnfc_succ and basel_succ')\n",
    "plt.xticks(train_rounds)\n",
    "plt.legend()\n",
    "plt.grid(axis='y', linestyle='--', alpha=0.7)\n",
    "\n",
    "# Show plot\n",
    "plt.savefig(os.path.join(os.getcwd(), \"paper/each_model.png\"))\n",
    "plt.show()"
   ]
  },
  {
   "cell_type": "code",
   "execution_count": null,
   "metadata": {},
   "outputs": [],
   "source": [
    "df.shape"
   ]
  },
  {
   "cell_type": "markdown",
   "metadata": {},
   "source": [
    "## Performance"
   ]
  },
  {
   "cell_type": "code",
   "execution_count": 3,
   "metadata": {},
   "outputs": [],
   "source": [
    "stats_model = {\n",
    "    'size': 0,\n",
    "    'succ_mean': [],\n",
    "    'succ_std': [],\n",
    "    'dtw_mean': [],\n",
    "    'dtw_std': [],\n",
    "\n",
    "    'succ_arr' : [],\n",
    "    'dtw_arr' : [],\n",
    "\n",
    "    'succ_num' : [],\n",
    "    'eps_num' : [],\n",
    "\n",
    "    'succ_dtw_mean' : [],\n",
    "    'succ_dtw_std' : [],\n",
    "    'succ_dtw_num' : [],\n",
    "}\n",
    "\n",
    "stats_base = {\n",
    "    'size': 0,\n",
    "    'succ_mean': [],\n",
    "    'succ_std': [],\n",
    "    'dtw_mean': [],\n",
    "    'dtw_std': [],\n",
    "\n",
    "    'succ_arr' : [],\n",
    "    'dtw_arr' : [],\n",
    "\n",
    "    'succ_num' : [],\n",
    "    'eps_num' : [],\n",
    "\n",
    "    'succ_dtw_mean' : [],\n",
    "    'succ_dtw_std' : [],\n",
    "    'succ_dtw_num' : [],\n",
    "}\n",
    "\n",
    "stats_abl = {\n",
    "    'size': 0,\n",
    "    'succ_mean': [],\n",
    "    'succ_std': [],\n",
    "    'dtw_mean': [],\n",
    "    'dtw_std': [],\n",
    "\n",
    "    'succ_arr' : [],\n",
    "    'dtw_arr' : [],\n",
    "\n",
    "    'succ_num' : [],\n",
    "    'eps_num' : [],\n",
    "\n",
    "    'succ_dtw_mean' : [],\n",
    "    'succ_dtw_std' : [],\n",
    "    'succ_dtw_num' : [],\n",
    "}"
   ]
  },
  {
   "cell_type": "code",
   "execution_count": 4,
   "metadata": {},
   "outputs": [],
   "source": [
    "def get_mean_std_across_trains(df):\n",
    "    round_means = df.groupby('train_round')[['dnfc_succ', 'basel_succ', \n",
    "                                             'dnfc_dtw', 'basel_dtw']\n",
    "                                             ].mean()\n",
    "    n = len(round_means)\n",
    "    overall_mean = round_means.mean()\n",
    "    overall_std = round_means.std()\n",
    "    return overall_mean, overall_std, round_means"
   ]
  },
  {
   "cell_type": "code",
   "execution_count": 5,
   "metadata": {},
   "outputs": [
    {
     "name": "stdout",
     "output_type": "stream",
     "text": [
      "df shape (110, 7)\n",
      "path /home/arash/catkin_ws/src/feedback_controller/fbc/neural_network/results/trajs:72_blocks:3_triangle_v_scarce_6.037K_interp_0.85/ep:4000/on_2+2l_lat:sub-nvel_1e-05_True_3l_base/perf.csv===\n",
      "df shape (110, 7)\n",
      "path /home/arash/catkin_ws/src/feedback_controller/fbc/neural_network/results/trajs:72_blocks:3_triangle_v_scarce_6.037K_interp_0.85/ep:4000/on_2+2l_lat:sub-nvel_1e-05_False_3l_base/perf.csv===\n",
      "df shape (110, 7)\n",
      "path /home/arash/catkin_ws/src/feedback_controller/fbc/neural_network/results/trajs:72_blocks:3_triangle_v_scarce_12.053K_interp_0.85/ep:4000/on_2+2l_lat:sub-nvel_1e-05_True_3l_base/perf.csv===\n",
      "df shape (110, 7)\n",
      "path /home/arash/catkin_ws/src/feedback_controller/fbc/neural_network/results/trajs:72_blocks:3_triangle_v_scarce_12.053K_interp_0.85/ep:4000/on_2+2l_lat:sub-nvel_1e-05_False_3l_base/perf.csv===\n",
      "df shape (110, 7)\n",
      "path /home/arash/catkin_ws/src/feedback_controller/fbc/neural_network/results/trajs:72_blocks:3_triangle_v_scarce_24.085K_interp_0.85/ep:4000/on_2+2l_lat:sub-nvel_1e-05_True_3l_base/perf.csv===\n",
      "df shape (110, 7)\n",
      "path /home/arash/catkin_ws/src/feedback_controller/fbc/neural_network/results/trajs:72_blocks:3_triangle_v_scarce_24.085K_interp_0.85/ep:4000/on_2+2l_lat:sub-nvel_1e-05_False_3l_base/perf.csv===\n"
     ]
    }
   ],
   "source": [
    "for num_params in model_params_list:\n",
    "    model_dir = os.path.join(root_dir, f\"{ds_name}_{num_params}K_{ds_type}/ep:4000/\")\n",
    "    for is_not_abl in [True, False]:#, False]:\n",
    "        file_dir = os.path.join(model_dir, f\"on_{model_name}_{is_not_abl}\" + \"_3l_base\")\n",
    "        file_path = os.path.join(file_dir, \"perf.csv\")\n",
    "        df = pd.read_csv(file_path)  \n",
    "        print(\"df shape\", df.shape)\n",
    "        print(\"path\", file_path, end=\"===\\n\")\n",
    "        \n",
    "        # df['dnfc_succ'] *= 100.0\n",
    "        # df['basel_succ'] *= 100.0\n",
    "\n",
    "        df['train_round'] = df.groupby('eps_num').cumcount() + 1\n",
    "\n",
    "        dnfc_succ_cases = df[df['dnfc_succ'].astype(int) == 1]\n",
    "        basel_succ_cases = df[df['basel_succ'].astype(int) == 1]\n",
    "        # df = df[df[\"eps_num\"] <= 32]\n",
    "        overall_mean, overall_std, round_means = get_mean_std_across_trains(df)\n",
    "        overall_mean_dnfc, overall_std_dnfc, round_means_dnfc = get_mean_std_across_trains(dnfc_succ_cases)\n",
    "        overall_mean_base, overall_std_base, round_means_base = get_mean_std_across_trains(basel_succ_cases)\n",
    "\n",
    "        if is_not_abl:\n",
    "            stats_model['succ_mean'].append(overall_mean['dnfc_succ'])\n",
    "            stats_base['succ_mean'].append(overall_mean['basel_succ'])\n",
    "            stats_model['dtw_mean'].append(overall_mean['dnfc_dtw'])\n",
    "            stats_base['dtw_mean'].append(overall_mean['basel_dtw'])\n",
    "\n",
    "            stats_model['succ_arr'].append(round_means['dnfc_succ'].tolist()) #dnfc_succ.tolist())\n",
    "            stats_model['dtw_arr'].append(round_means['dnfc_dtw'].tolist()) #dnfc_dtw.tolist())\n",
    "\n",
    "            stats_model['succ_std'].append(overall_std['dnfc_succ'])\n",
    "            stats_base['succ_std'].append(overall_std['basel_succ'])\n",
    "            stats_model['dtw_std'].append(overall_std['dnfc_dtw'])\n",
    "            stats_base['dtw_std'].append(overall_std['basel_dtw'])\n",
    "\n",
    "            stats_base['succ_arr'].append(round_means['basel_succ'].tolist()) #basel_succ.tolist())\n",
    "            stats_base['dtw_arr'].append(round_means['basel_dtw'].tolist()) #basel_dtw.tolist())\n",
    "\n",
    "            stats_model['succ_num'].append(len(dnfc_succ_cases))\n",
    "            stats_base['succ_num'].append(len(basel_succ_cases))\n",
    "            stats_model['eps_num'].append(len(df))\n",
    "            stats_base['eps_num'].append(len(df))\n",
    "\n",
    "            stats_model['succ_dtw_mean'].append(overall_mean_dnfc[\"dnfc_dtw\"])\n",
    "            stats_model['succ_dtw_std'].append(overall_std_dnfc[\"dnfc_dtw\"])\n",
    "            stats_model['succ_dtw_num'].append(len(round_means_dnfc))\n",
    "            stats_base['succ_dtw_mean'].append(overall_mean_base[\"basel_dtw\"])\n",
    "            stats_base['succ_dtw_std'].append(overall_std_base[\"basel_dtw\"])\n",
    "            stats_base['succ_dtw_num'].append(len(round_means_base))\n",
    "        else:\n",
    "            stats_abl['succ_mean'].append(overall_mean['dnfc_succ'])\n",
    "            stats_abl['succ_std'].append(overall_std['dnfc_succ'])\n",
    "            stats_abl['dtw_mean'].append(overall_mean['dnfc_dtw'])\n",
    "            stats_abl['dtw_std'].append(overall_std['dnfc_dtw'])\n",
    "\n",
    "            stats_abl['succ_arr'].append(round_means['dnfc_succ'].tolist()) #dnfc_succ.tolist())\n",
    "            stats_abl['dtw_arr'].append(round_means['dnfc_dtw'].tolist()) #dnfc_dtw.tolist())\n",
    "\n",
    "            stats_abl['succ_num'].append(len(dnfc_succ_cases))\n",
    "            stats_abl['eps_num'].append(len(df))\n",
    "            stats_abl['succ_dtw_mean'].append(overall_mean_dnfc[\"dnfc_dtw\"])\n",
    "            stats_abl['succ_dtw_std'].append(overall_std_dnfc[\"dnfc_dtw\"])\n",
    "            stats_abl['succ_dtw_num'].append(len(round_means_dnfc))"
   ]
  },
  {
   "cell_type": "code",
   "execution_count": 6,
   "metadata": {},
   "outputs": [
    {
     "name": "stdout",
     "output_type": "stream",
     "text": [
      "10\n"
     ]
    },
    {
     "data": {
      "text/plain": [
       "{'size': 0,\n",
       " 'succ_mean': [0.8613636363636366, 0.9977272727272727, 0.9931818181818184],\n",
       " 'succ_std': [0.1052185185179798, 0.007186994682200855, 0.0153397399479671],\n",
       " 'dtw_mean': [20.269526965409693, 12.919936789412436, 12.950649383420009],\n",
       " 'dtw_std': [6.167733984193521, 0.5220659854947627, 0.3577056548408102],\n",
       " 'succ_arr': [[0.8863636363636364,\n",
       "   0.9772727272727273,\n",
       "   0.8181818181818182,\n",
       "   0.8863636363636364,\n",
       "   0.9545454545454546,\n",
       "   0.8863636363636364,\n",
       "   0.6136363636363636,\n",
       "   0.9090909090909091,\n",
       "   0.9090909090909091,\n",
       "   0.7727272727272727],\n",
       "  [1.0, 1.0, 1.0, 1.0, 1.0, 0.9772727272727273, 1.0, 1.0, 1.0, 1.0],\n",
       "  [0.9545454545454546,\n",
       "   1.0,\n",
       "   1.0,\n",
       "   1.0,\n",
       "   1.0,\n",
       "   0.9772727272727273,\n",
       "   1.0,\n",
       "   1.0,\n",
       "   1.0,\n",
       "   1.0]],\n",
       " 'dtw_arr': [[16.149559671618466,\n",
       "   14.880527471627552,\n",
       "   19.60456857574676,\n",
       "   16.964370625439077,\n",
       "   15.670787410954796,\n",
       "   21.09562566421891,\n",
       "   36.266253974412045,\n",
       "   18.94905345978582,\n",
       "   20.508328947088145,\n",
       "   22.606193853205355],\n",
       "  [13.146640341102984,\n",
       "   12.746073241663417,\n",
       "   13.22759656948882,\n",
       "   12.07084553714629,\n",
       "   12.400265103146404,\n",
       "   12.898239966479707,\n",
       "   14.02131312931932,\n",
       "   13.051164152933893,\n",
       "   12.949821621837422,\n",
       "   12.68740823100609],\n",
       "  [12.76541551990323,\n",
       "   13.028498862647819,\n",
       "   12.859420372421129,\n",
       "   13.012435983409198,\n",
       "   12.233984135448122,\n",
       "   13.00811834733493,\n",
       "   13.597113993618889,\n",
       "   13.262247952579305,\n",
       "   12.705286459310678,\n",
       "   13.0339722075268]],\n",
       " 'succ_num': [72, 109, 107],\n",
       " 'eps_num': [110, 110, 110],\n",
       " 'succ_dtw_mean': [15.498688722423703, 12.932597662846646, 13.007059513042808],\n",
       " 'succ_dtw_std': [1.5807437726955427, 0.5230157017788053, 0.3621856639238976],\n",
       " 'succ_dtw_num': [10, 10, 10]}"
      ]
     },
     "execution_count": 6,
     "metadata": {},
     "output_type": "execute_result"
    }
   ],
   "source": [
    "print(len(stats_model['succ_arr'][0]))\n",
    "stats_model"
   ]
  },
  {
   "cell_type": "code",
   "execution_count": 7,
   "metadata": {},
   "outputs": [
    {
     "name": "stdout",
     "output_type": "stream",
     "text": [
      "10\n"
     ]
    },
    {
     "data": {
      "text/plain": [
       "{'size': 0,\n",
       " 'succ_mean': [0.4795454545454545, 0.9045454545454545, 0.9977272727272727],\n",
       " 'succ_std': [0.1806941263833947, 0.10209018501771526, 0.007186994682200855],\n",
       " 'dtw_mean': [46.147757262552275, 19.02052512935345, 11.89678916324922],\n",
       " 'dtw_std': [11.79658882825528, 8.355463625656293, 0.8898806508886415],\n",
       " 'succ_arr': [[0.4090909090909091,\n",
       "   0.6818181818181818,\n",
       "   0.4090909090909091,\n",
       "   0.29545454545454547,\n",
       "   0.29545454545454547,\n",
       "   0.7954545454545454,\n",
       "   0.5909090909090909,\n",
       "   0.6136363636363636,\n",
       "   0.4318181818181818,\n",
       "   0.2727272727272727],\n",
       "  [0.7727272727272727,\n",
       "   1.0,\n",
       "   0.7272727272727273,\n",
       "   0.9545454545454546,\n",
       "   0.9318181818181818,\n",
       "   1.0,\n",
       "   0.7954545454545454,\n",
       "   1.0,\n",
       "   0.9090909090909091,\n",
       "   0.9545454545454546],\n",
       "  [1.0, 1.0, 1.0, 1.0, 1.0, 0.9772727272727273, 1.0, 1.0, 1.0, 1.0]],\n",
       " 'dtw_arr': [[54.64629830933238,\n",
       "   31.958787358247296,\n",
       "   47.515256168932645,\n",
       "   65.07274061583612,\n",
       "   47.43006699728878,\n",
       "   48.05296893460764,\n",
       "   33.796479741517224,\n",
       "   31.65164626851789,\n",
       "   40.43286057141779,\n",
       "   60.92046765982495],\n",
       "  [28.41448987029315,\n",
       "   11.459806538132494,\n",
       "   36.52841232086711,\n",
       "   14.800978974516765,\n",
       "   16.021947618390957,\n",
       "   12.77445964875775,\n",
       "   25.535646378196148,\n",
       "   11.539519738256406,\n",
       "   16.795131712326775,\n",
       "   16.33485849379696],\n",
       "  [11.393465441112664,\n",
       "   11.633181042140054,\n",
       "   10.348048087471728,\n",
       "   11.448673951658872,\n",
       "   12.9924012216898,\n",
       "   12.59569487187609,\n",
       "   12.220153612813071,\n",
       "   11.903322953426699,\n",
       "   13.266931648768985,\n",
       "   11.166018801534257]],\n",
       " 'succ_num': [18, 89, 109],\n",
       " 'eps_num': [110, 110, 110],\n",
       " 'succ_dtw_mean': [16.052522586660107, 13.775127583817959, 11.858915629965164],\n",
       " 'succ_dtw_std': [2.2841277030638016, 1.992073497335231, 0.8645283871812334],\n",
       " 'succ_dtw_num': [7, 10, 10]}"
      ]
     },
     "execution_count": 7,
     "metadata": {},
     "output_type": "execute_result"
    }
   ],
   "source": [
    "print(len(stats_base['succ_arr'][0]))\n",
    "stats_base"
   ]
  },
  {
   "cell_type": "code",
   "execution_count": 8,
   "metadata": {},
   "outputs": [
    {
     "name": "stdout",
     "output_type": "stream",
     "text": [
      "10\n"
     ]
    },
    {
     "data": {
      "text/plain": [
       "{'size': 0,\n",
       " 'succ_mean': [0.8045454545454547, 0.9954545454545455, 1.0],\n",
       " 'succ_std': [0.11598581338790687, 0.009582659576267808, 0.0],\n",
       " 'dtw_mean': [23.881484945181988, 10.292931372798485, 9.980218400098682],\n",
       " 'dtw_std': [7.26265163976887, 1.6331651180871414, 0.7075594078672729],\n",
       " 'succ_arr': [[0.7727272727272727,\n",
       "   0.9318181818181818,\n",
       "   0.8863636363636364,\n",
       "   0.9090909090909091,\n",
       "   0.8863636363636364,\n",
       "   0.8181818181818182,\n",
       "   0.7045454545454546,\n",
       "   0.7045454545454546,\n",
       "   0.8636363636363636,\n",
       "   0.5681818181818182],\n",
       "  [1.0,\n",
       "   1.0,\n",
       "   1.0,\n",
       "   1.0,\n",
       "   0.9772727272727273,\n",
       "   1.0,\n",
       "   1.0,\n",
       "   1.0,\n",
       "   0.9772727272727273,\n",
       "   1.0],\n",
       "  [1.0, 1.0, 1.0, 1.0, 1.0, 1.0, 1.0, 1.0, 1.0, 1.0]],\n",
       " 'dtw_arr': [[24.523026694463557,\n",
       "   14.2295101945491,\n",
       "   17.067694827207998,\n",
       "   17.610616259401755,\n",
       "   16.890154506309216,\n",
       "   25.593676666091735,\n",
       "   33.620098269620875,\n",
       "   29.075285848158977,\n",
       "   25.392541617008078,\n",
       "   34.812244569008584],\n",
       "  [9.091852411420687,\n",
       "   9.654866337849183,\n",
       "   8.092621270889053,\n",
       "   8.739932138481235,\n",
       "   13.098532094560563,\n",
       "   10.455228375752755,\n",
       "   9.172599445447984,\n",
       "   11.21409329621609,\n",
       "   12.380824537020612,\n",
       "   11.028763820346681],\n",
       "  [10.439630033872351,\n",
       "   9.242472441891168,\n",
       "   8.811861152546095,\n",
       "   10.520096697133845,\n",
       "   9.025463038008155,\n",
       "   10.71217455483159,\n",
       "   9.813719782469093,\n",
       "   10.418330536290828,\n",
       "   10.237688436979582,\n",
       "   10.58074732696412]],\n",
       " 'succ_num': [68, 108, 110],\n",
       " 'eps_num': [110, 110, 110],\n",
       " 'succ_dtw_mean': [12.060055225384238, 10.08253062345516, 9.980218400098682],\n",
       " 'succ_dtw_std': [1.1909989782135548, 1.3347024036491117, 0.7075594078672729],\n",
       " 'succ_dtw_num': [10, 10, 10]}"
      ]
     },
     "execution_count": 8,
     "metadata": {},
     "output_type": "execute_result"
    }
   ],
   "source": [
    "print(len(stats_abl['succ_arr'][0]))\n",
    "stats_abl"
   ]
  },
  {
   "cell_type": "code",
   "execution_count": 9,
   "metadata": {},
   "outputs": [
    {
     "name": "stdout",
     "output_type": "stream",
     "text": [
      "succ_arr\n",
      "10 10\n",
      "5.774442382205705 4.22235425420753e-05\n",
      "-\n",
      "dtw_arr\n",
      "10 10\n",
      "-6.147551315771204 2.8931325795970027e-05\n",
      "===\n",
      "succ_arr\n",
      "10 10\n",
      "2.8792122210248103 0.018022320584403534\n",
      "-\n",
      "dtw_arr\n",
      "10 10\n",
      "-2.3043851895652736 0.04645012609225176\n",
      "===\n",
      "succ_arr\n",
      "10 10\n",
      "-0.8485281374238528 0.4117681484652711\n",
      "-\n",
      "dtw_arr\n",
      "10 10\n",
      "3.4747747063068157 0.004681070872242422\n",
      "===\n"
     ]
    }
   ],
   "source": [
    "for i in range(len(stats_model['succ_arr'])):\n",
    "    print(\"succ_arr\")\n",
    "    statistic, pvalue = ttest_ind(stats_model['succ_arr'][i], \n",
    "                                 stats_base['succ_arr'][i], equal_var=False)\n",
    "    print(len(stats_model['succ_arr'][i]), len(stats_base['succ_arr'][i]))\n",
    "    print(statistic, pvalue)\n",
    "    print(\"-\")\n",
    "\n",
    "    print(\"dtw_arr\")\n",
    "    statistic, pvalue = ttest_ind(stats_model['dtw_arr'][i], \n",
    "                                 stats_base['dtw_arr'][i], equal_var=False)\n",
    "    print(len(stats_model['dtw_arr'][i]), len(stats_base['dtw_arr'][i]))\n",
    "    print(statistic, pvalue)\n",
    "    print(\"===\")"
   ]
  },
  {
   "cell_type": "code",
   "execution_count": 10,
   "metadata": {},
   "outputs": [
    {
     "data": {
      "text/plain": [
       "10"
      ]
     },
     "execution_count": 10,
     "metadata": {},
     "output_type": "execute_result"
    }
   ],
   "source": [
    "len(stats_model['succ_arr'][0])"
   ]
  },
  {
   "cell_type": "markdown",
   "metadata": {},
   "source": [
    "## Visualization"
   ]
  },
  {
   "cell_type": "markdown",
   "metadata": {},
   "source": [
    "### DTW"
   ]
  },
  {
   "cell_type": "code",
   "execution_count": 11,
   "metadata": {},
   "outputs": [
    {
     "data": {
      "image/png": "[encoded data removed]",
      "text/plain": [
       "<Figure size 1200x800 with 1 Axes>"
      ]
     },
     "metadata": {},
     "output_type": "display_data"
    },
    {
     "name": "stdout",
     "output_type": "stream",
     "text": [
      "{'DNFC': [20.269526965409693, 12.919936789412436, 12.950649383420009], 'Baseline': [46.147757262552275, 19.02052512935345, 11.89678916324922], 'DNFC-ablation': [23.881484945181988, 10.292931372798485, 9.980218400098682]}\n",
      "{'DNFC': [1.9504087392076481, 0.16509176030638772, 0.1131164601218995], 'Baseline': [3.7304089317783546, 2.6422295963762386, 0.28140497025212474], 'DNFC-ablation': [2.2966521034026344, 0.516452156829322, 0.22374993087406436]}\n"
     ]
    }
   ],
   "source": [
    "Ys = {\n",
    "    'DNFC': [x for x in stats_model['dtw_mean']],\n",
    "    'Baseline': [x for x in stats_base['dtw_mean']],\n",
    "    'DNFC-ablation': [x for x in stats_abl['dtw_mean']],\n",
    "}\n",
    "\n",
    "errors = {\n",
    "    'DNFC': [x / math.sqrt(len(stats_model['succ_arr'][0])) \n",
    "             for x in stats_model['dtw_std']],\n",
    "    'Baseline': [x / math.sqrt(len(stats_model['succ_arr'][0])) \n",
    "                 for x in stats_base['dtw_std']],\n",
    "    'DNFC-ablation': [x / math.sqrt(len(stats_model['succ_arr'][0])) \n",
    "                      for x in stats_abl['dtw_std']],\n",
    "}\n",
    "\n",
    "x = np.arange(len(model_params_list))  # the label locations\n",
    "width = 0.25  # the width of the bars\n",
    "multiplier = 0\n",
    "\n",
    "fig, ax = plt.subplots(layout='constrained', figsize=(12, 8))\n",
    "\n",
    "for attribute, measurement in Ys.items():\n",
    "    offset = width * multiplier\n",
    "    # print(attribute)\n",
    "    rects = ax.bar(x + offset, measurement, width, label=attribute, yerr=errors[attribute],\n",
    "                   error_kw={'capsize': 5})\n",
    "    # ax.bar_label(rects, fmt='%.2f', padding=3)\n",
    "    if attribute == 'DNFC':\n",
    "        numerators = stats_model['succ_num']\n",
    "        denominators = stats_model['eps_num']\n",
    "    elif attribute == 'Baseline':\n",
    "        numerators = stats_base['succ_num']\n",
    "        denominators = stats_base['eps_num']\n",
    "    elif attribute == 'DNFC-ablation':\n",
    "        numerators = stats_abl['succ_num']\n",
    "        denominators = stats_abl['eps_num']\n",
    "    \n",
    "    fraction_labels = [f\"{int(n)}/{int(d)}\" for n, d in zip(numerators, denominators)]\n",
    "\n",
    "    # Add labels on top of bars\n",
    "    ax.bar_label(rects, labels=fraction_labels, padding=3, fontsize=label_fontsize)\n",
    "    \n",
    "    multiplier += 1\n",
    "\n",
    "# Add some text for labels, title and custom x-axis tick labels, etc.\n",
    "ax.set_ylabel(\"Average DTW distance\")\n",
    "ax.set_xlabel(\"Approximate number of model parameters (x1e3)\")\n",
    "# ax.set_title('Robot Endpoint-Target Distance')\n",
    "ax.set_xticks(x + width, model_params_list)\n",
    "# ax.legend(loc='upper left', ncols=3)\n",
    "ax.legend()\n",
    "# ax.set_ylim(0, 250)\n",
    "plt.savefig(os.path.join(os.getcwd(), f\"paper/dtw_{ds_type}.png\"))\n",
    "plt.show()\n",
    "print(Ys)\n",
    "print(errors)"
   ]
  },
  {
   "cell_type": "markdown",
   "metadata": {},
   "source": [
    "### Points"
   ]
  },
  {
   "cell_type": "code",
   "execution_count": 12,
   "metadata": {},
   "outputs": [
    {
     "data": {
      "image/png": "[encoded data removed]",
      "text/plain": [
       "<Figure size 1200x800 with 1 Axes>"
      ]
     },
     "metadata": {},
     "output_type": "display_data"
    },
    {
     "name": "stdout",
     "output_type": "stream",
     "text": [
      "{'DNFC': [0.8613636363636366, 0.9977272727272727, 0.9931818181818184], 'Baseline': [0.4795454545454545, 0.9045454545454545, 0.9977272727272727], 'DNFC-ablation': [0.8045454545454547, 0.9954545454545455, 1.0]}\n",
      "{'DNFC': [0.03327301705454204, 0.0022727272727272704, 0.004850851695024882], 'Baseline': [0.05714049991858507, 0.032283751140397755, 0.0022727272727272704], 'DNFC-ablation': [0.03667793465730364, 0.0030303030303030277, 0.0]}\n"
     ]
    }
   ],
   "source": [
    "Ys = {\n",
    "    'DNFC': [x for x in stats_model['succ_mean']],\n",
    "    'Baseline': [x for x in stats_base['succ_mean']],\n",
    "    'DNFC-ablation': [x for x in stats_abl['succ_mean']],\n",
    "}\n",
    "\n",
    "errors = {\n",
    "    'DNFC': [x / math.sqrt(len(stats_model['succ_arr'][0]))\n",
    "             for x in stats_model['succ_std']],\n",
    "    'Baseline': [x / math.sqrt(len(stats_model['succ_arr'][0]))\n",
    "                 for x in stats_base['succ_std']],\n",
    "    'DNFC-ablation': [x / math.sqrt(len(stats_model['succ_arr'][0])) \n",
    "                      for x in stats_abl['succ_std']],\n",
    "}\n",
    "\n",
    "x = np.arange(len(model_params_list))  # the label locations\n",
    "width = 0.25  # the width of the bars\n",
    "multiplier = 0\n",
    "\n",
    "fig, ax = plt.subplots(layout='constrained', figsize=(12, 8))\n",
    "\n",
    "for attribute, measurement in Ys.items():\n",
    "    offset = width * multiplier\n",
    "    # print(attribute)\n",
    "    rects = ax.bar(x + offset, measurement, width, label=attribute, yerr=errors[attribute],\n",
    "                   error_kw={'capsize': 5})\n",
    "    # ax.bar_label(rects, fmt='%.2f', padding=3)\n",
    "    if attribute == 'DNFC':\n",
    "        numerators = stats_model['succ_num']\n",
    "        denominators = stats_model['eps_num']\n",
    "    elif attribute == 'Baseline':\n",
    "        numerators = stats_base['succ_num']\n",
    "        denominators = stats_base['eps_num']\n",
    "    elif attribute == 'DNFC-ablation':\n",
    "        numerators = stats_abl['succ_num']\n",
    "        denominators = stats_abl['eps_num']\n",
    "    \n",
    "    fraction_labels = [f\"{int(n)}/{int(d)}\" for n, d in zip(numerators, denominators)]\n",
    "\n",
    "    # # Add labels on top of bars\n",
    "    ax.bar_label(rects, labels=fraction_labels, padding=3, fontsize=label_fontsize)\n",
    "    # for idx, (bar, label) in enumerate(zip(rects, fraction_labels)):\n",
    "    #     height = bar.get_height()\n",
    "    #     y_offset = 5 if idx % 2 == 0 else 2  # Alternate height for labels\n",
    "    #     ax.text(\n",
    "    #         bar.get_x() + bar.get_width() / 2,\n",
    "    #         height + y_offset,\n",
    "    #         label,\n",
    "    #         ha='center',\n",
    "    #         va='bottom',\n",
    "    #         fontsize=10\n",
    "    #     )\n",
    "    \n",
    "    multiplier += 1\n",
    "\n",
    "# Add some text for labels, title and custom x-axis tick labels, etc.\n",
    "ax.set_ylabel('Average gained points')\n",
    "ax.set_xlabel(\"Approximate number of model parameters (x1e3)\")\n",
    "# ax.set_title('Robot Endpoint-Target Distance')\n",
    "ax.set_xticks(x + width, model_params_list)\n",
    "# ax.legend(loc='upper left', ncols=3)\n",
    "ax.legend()\n",
    "# ax.set_ylim(0, 250)\n",
    "plt.savefig(os.path.join(os.getcwd(), f\"paper/pts_{ds_type}.png\"))\n",
    "plt.show()\n",
    "print(Ys)\n",
    "print(errors)"
   ]
  },
  {
   "cell_type": "markdown",
   "metadata": {},
   "source": [
    "### DTW of completed episodes"
   ]
  },
  {
   "cell_type": "code",
   "execution_count": 13,
   "metadata": {},
   "outputs": [
    {
     "data": {
      "image/png": "[encoded data removed]",
      "text/plain": [
       "<Figure size 1200x800 with 1 Axes>"
      ]
     },
     "metadata": {},
     "output_type": "display_data"
    },
    {
     "name": "stdout",
     "output_type": "stream",
     "text": [
      "{'DNFC': [15.498688722423703, 12.932597662846646, 13.007059513042808], 'Baseline': [16.052522586660107, 13.775127583817959, 11.858915629965164], 'DNFC-ablation': [12.060055225384238, 10.08253062345516, 9.980218400098682]}\n",
      "{'DNFC': [0.49987507188453967, 0.16539208696524033, 0.1145331633859794], 'Baseline': [0.8633191235742864, 0.6299489518036694, 0.27338788053646135], 'DNFC-ablation': [0.37662694620880904, 0.4220699594032625, 0.22374993087406436]}\n"
     ]
    }
   ],
   "source": [
    "Ys = {\n",
    "    'DNFC': [x for x in stats_model['succ_dtw_mean']],\n",
    "    'Baseline': [x for x in stats_base['succ_dtw_mean']],\n",
    "    'DNFC-ablation': [x for x in stats_abl['succ_dtw_mean']],\n",
    "}\n",
    "\n",
    "errors = {\n",
    "    'DNFC': [stats_model['succ_dtw_std'][i] / math.sqrt(stats_model['succ_dtw_num'][i])\n",
    "             for i in range(len(stats_model['succ_dtw_std']))],\n",
    "    'Baseline': [stats_base['succ_dtw_std'][i] / math.sqrt(stats_base['succ_dtw_num'][i])\n",
    "                 for i in range(len(stats_base['succ_dtw_std']))],\n",
    "    'DNFC-ablation': [stats_abl['succ_dtw_std'][i] / math.sqrt(stats_abl['succ_dtw_num'][i]) \n",
    "                      for i in range(len(stats_abl['succ_dtw_std']))],\n",
    "}\n",
    "\n",
    "x = np.arange(len(model_params_list))  # the label locations\n",
    "width = 0.25  # the width of the bars\n",
    "multiplier = 0\n",
    "\n",
    "fig, ax = plt.subplots(layout='constrained', figsize=(12, 8))\n",
    "\n",
    "for attribute, measurement in Ys.items():\n",
    "    offset = width * multiplier\n",
    "    # print(attribute)\n",
    "    rects = ax.bar(x + offset, measurement, width, label=attribute, yerr=errors[attribute],\n",
    "                   error_kw={'capsize': 5})\n",
    "    # ax.bar_label(rects, fmt='%.2f', padding=3)\n",
    "    if attribute == 'DNFC':\n",
    "        numerators = stats_model['succ_num']\n",
    "        denominators = stats_model['eps_num']\n",
    "    elif attribute == 'Baseline':\n",
    "        numerators = stats_base['succ_num']\n",
    "        denominators = stats_base['eps_num']\n",
    "    elif attribute == 'DNFC-ablation':\n",
    "        numerators = stats_abl['succ_num']\n",
    "        denominators = stats_abl['eps_num']\n",
    "    \n",
    "    fraction_labels = [f\"{int(n)}/{int(d)}\" for n, d in zip(numerators, denominators)]\n",
    "\n",
    "    # Add labels on top of bars\n",
    "    ax.bar_label(rects, labels=fraction_labels, padding=3, fontsize=label_fontsize)\n",
    "    \n",
    "    multiplier += 1\n",
    "\n",
    "# Add some text for labels, title and custom x-axis tick labels, etc.\n",
    "ax.set_ylabel('Average DTW distance')\n",
    "ax.set_xlabel(\"Approximate number of model parameters (x1e3)\")\n",
    "# ax.set_title('Robot Endpoint-Target Distance')\n",
    "ax.set_xticks(x + width, model_params_list)\n",
    "# ax.legend(loc='upper left', ncols=3)\n",
    "ax.legend()\n",
    "# ax.set_ylim(0, 250)\n",
    "plt.savefig(os.path.join(os.getcwd(), f\"paper/succ_dtw_{ds_type}.png\"))\n",
    "plt.show()\n",
    "print(Ys)\n",
    "print(errors)"
   ]
  },
  {
   "cell_type": "code",
   "execution_count": 14,
   "metadata": {},
   "outputs": [
    {
     "name": "stdout",
     "output_type": "stream",
     "text": [
      "[15.498688722423703, 12.932597662846646, 13.007059513042808]\n",
      "[16.052522586660107, 13.775127583817959, 11.858915629965164]\n"
     ]
    }
   ],
   "source": [
    "print(stats_model['succ_dtw_mean'])\n",
    "print(stats_base['succ_dtw_mean'])"
   ]
  },
  {
   "cell_type": "code",
   "execution_count": 15,
   "metadata": {},
   "outputs": [
    {
     "name": "stdout",
     "output_type": "stream",
     "text": [
      "             dnfc_succ  basel_succ   dnfc_dtw  basel_dtw\n",
      "train_round                                             \n",
      "1                  1.0         1.0  10.439630  10.439630\n",
      "2                  1.0         1.0   9.242472   9.242472\n",
      "3                  1.0         1.0   8.811861   8.811861\n",
      "4                  1.0         1.0  10.520097  10.520097\n",
      "5                  1.0         1.0   9.025463   9.025463\n",
      "6                  1.0         1.0  10.712175  10.712175\n",
      "7                  1.0         1.0   9.813720   9.813720\n",
      "8                  1.0         1.0  10.418331  10.418331\n",
      "9                  1.0         1.0  10.237688  10.237688\n",
      "10                 1.0         1.0  10.580747  10.580747\n",
      "9.980218400098682\n",
      "             dnfc_succ  basel_succ   dnfc_dtw  basel_dtw\n",
      "train_round                                             \n",
      "1                  1.0         1.0  10.439630  10.439630\n",
      "2                  1.0         1.0   9.242472   9.242472\n",
      "3                  1.0         1.0   8.811861   8.811861\n",
      "4                  1.0         1.0  10.520097  10.520097\n",
      "5                  1.0         1.0   9.025463   9.025463\n",
      "6                  1.0         1.0  10.712175  10.712175\n",
      "7                  1.0         1.0   9.813720   9.813720\n",
      "8                  1.0         1.0  10.418331  10.418331\n",
      "9                  1.0         1.0  10.237688  10.237688\n",
      "10                 1.0         1.0  10.580747  10.580747\n",
      "9.980218400098682\n"
     ]
    }
   ],
   "source": [
    "print(round_means_dnfc)\n",
    "print(round_means_dnfc[\"dnfc_dtw\"].mean())\n",
    "print(round_means_base)\n",
    "print(round_means_base[\"basel_dtw\"].mean())"
   ]
  },
  {
   "cell_type": "code",
   "execution_count": null,
   "metadata": {},
   "outputs": [],
   "source": []
  },
  {
   "cell_type": "code",
   "execution_count": null,
   "metadata": {},
   "outputs": [],
   "source": [
    "bin_no = 10\n",
    "\n",
    "dnfc_mean = df[\"dnfc_succ\"].mean()\n",
    "basel_mean = df[\"basel_succ\"].mean()\n",
    "\n",
    "# Plot histograms for 'dnfc_succ' and 'basel_succ' side by side\n",
    "plt.figure(figsize=(8, 6))\n",
    "plt.hist(df[\"dnfc_succ\"], bins=bin_no, alpha=0.7, label='dnfc_succ', edgecolor='black')\n",
    "plt.hist(df[\"basel_succ\"], bins=bin_no, alpha=0.7, label='basel_succ', edgecolor='black')\n",
    "# plt.title(\"Histogram of dnfc_succ and basel_succ\", fontsize=14)\n",
    "# Add vertical dashed lines for mean values\n",
    "plt.axvline(dnfc_mean, color='blue', linestyle='dashed', \n",
    "            linewidth=2, label=f'dnfc_succ mean: {dnfc_mean:.2f}')\n",
    "plt.axvline(basel_mean, color='orange', linestyle='dashed', \n",
    "            linewidth=2, label=f'basel_succ mean: {basel_mean:.2f}')\n",
    "\n",
    "plt.xlabel(\"Value\")\n",
    "plt.ylabel(\"Frequency\")\n",
    "plt.legend()\n",
    "plt.grid(axis='y', alpha=0.75)\n",
    "\n",
    "# plt.savefig(os.path.join(os.getcwd(), \"paper/succ_hist.png\"))\n",
    "plt.show()"
   ]
  },
  {
   "cell_type": "code",
   "execution_count": null,
   "metadata": {},
   "outputs": [],
   "source": [
    "bin_no = 20\n",
    "\n",
    "# Find the common range for both datasets\n",
    "min_value = min(df[\"dnfc_dtw\"].min(), df[\"basel_dtw\"].min())\n",
    "max_value = max(df[\"dnfc_dtw\"].max(), df[\"basel_dtw\"].max())\n",
    "\n",
    "# Create bin edges with equal width\n",
    "bins = np.linspace(min_value, max_value, bin_no + 1)  # +1 because linspace creates bin edges\n",
    "\n",
    "dnfc_mean = df[\"dnfc_dtw\"].mean()\n",
    "basel_mean = df[\"basel_dtw\"].mean()\n",
    "\n",
    "# Plot histograms for 'dnfc_succ' and 'basel_succ' side by side\n",
    "plt.figure(figsize=(8, 6))\n",
    "plt.hist(df[\"dnfc_dtw\"], bins=bins, alpha=0.5, label='dnfc_dtw', edgecolor='black')\n",
    "plt.hist(df[\"basel_dtw\"], bins=bins, alpha=0.5, label='basel_dtw', edgecolor='black')\n",
    "\n",
    "plt.axvline(dnfc_mean, color='blue', linestyle='dashed', \n",
    "            linewidth=2, label=f'dnfc_dtw mean: {dnfc_mean:.2f}')\n",
    "plt.axvline(basel_mean, color='orange', linestyle='dashed', \n",
    "            linewidth=2, label=f'basel_dtw mean: {basel_mean:.2f}')\n",
    "# plt.title(\"Histogram of dnfc_succ and basel_succ\", fontsize=14)\n",
    "plt.xlabel(\"Value\")\n",
    "plt.ylabel(\"Frequency\")\n",
    "plt.legend()\n",
    "plt.grid(axis='y', alpha=0.75)\n",
    "\n",
    "# plt.savefig(os.path.join(os.getcwd(), \"paper/dtw_hist.png\"))\n",
    "plt.show()\n"
   ]
  },
  {
   "cell_type": "code",
   "execution_count": null,
   "metadata": {},
   "outputs": [],
   "source": []
  },
  {
   "cell_type": "markdown",
   "metadata": {},
   "source": [
    "### Latent Space Rep."
   ]
  },
  {
   "cell_type": "code",
   "execution_count": null,
   "metadata": {},
   "outputs": [],
   "source": [
    "root_dir = \"/home/arash/catkin_ws/src/feedback_controller/fbc/neural_network/results/\"\n",
    "root_dir += \"trajs:360_blocks:3_triangle_v_7.541K/ep:1000/on_v_custl_const_1e-05\""
   ]
  },
  {
   "cell_type": "code",
   "execution_count": null,
   "metadata": {},
   "outputs": [],
   "source": [
    "file_path = os.path.join(root_dir, \"all_states_dnfc\")\n",
    "with open(file_path, 'rb') as f:\n",
    "    all_states_dnfc = pickle.load(f)"
   ]
  },
  {
   "cell_type": "code",
   "execution_count": null,
   "metadata": {},
   "outputs": [],
   "source": [
    "eps_no = 27\n",
    "\n",
    "dnfc_data = all_states_dnfc[eps_no]"
   ]
  },
  {
   "cell_type": "code",
   "execution_count": null,
   "metadata": {},
   "outputs": [],
   "source": [
    "joint_vals = [timestep_data[4] for timestep_data in dnfc_data]\n",
    "timesteps = range(len(joint_vals))\n",
    "\n",
    "plt.figure(figsize=(10, 6))\n",
    "plt.plot(timesteps, joint_vals)\n",
    "plt.xlabel(\"Timestep\")\n",
    "plt.ylabel(\"Value\")\n",
    "# plt.title(\"Fifth Value Across Timesteps\")\n",
    "# plt.legend()\n",
    "plt.grid(True)\n",
    "plt.show()"
   ]
  },
  {
   "cell_type": "code",
   "execution_count": null,
   "metadata": {},
   "outputs": [],
   "source": []
  },
  {
   "cell_type": "markdown",
   "metadata": {},
   "source": [
    "## Loss"
   ]
  },
  {
   "cell_type": "code",
   "execution_count": null,
   "metadata": {},
   "outputs": [],
   "source": [
    "root_dir = \"/home/arash/catkin_ws/src/feedback_controller/fbc/neural_network/weights_deniz/\"\n",
    "dnfc_dir = os.path.join(root_dir, \n",
    "                        \"triangle|interp_0.85|cus_los_1e-05|tar_cart|2+2l_lat:sub-nvel|24.085K_params\")\n",
    "base_dir = os.path.join(root_dir, \n",
    "                        \"triangle|interp_0.85|mse_los|tar_cart|base|3l_base|24.091K_params\")\n",
    "\n",
    "dnfc_fpath = os.path.join(dnfc_dir, \"train_no_0/loss.csv\")\n",
    "df_dnfc = pd.read_csv(dnfc_fpath)\n",
    "base_fpath = os.path.join(base_dir, \"train_no_0/loss.csv\")\n",
    "df_base = pd.read_csv(base_fpath)"
   ]
  },
  {
   "cell_type": "code",
   "execution_count": null,
   "metadata": {},
   "outputs": [],
   "source": [
    "df_dnfc.head()"
   ]
  },
  {
   "cell_type": "code",
   "execution_count": null,
   "metadata": {},
   "outputs": [],
   "source": [
    "df_base.head()"
   ]
  },
  {
   "cell_type": "code",
   "execution_count": null,
   "metadata": {},
   "outputs": [],
   "source": [
    "# Filter the dataframe for n >= 10\n",
    "filtered_df = df_dnfc[(df_dnfc[\"n\"] >= 100)] #& (df_dnfc[\"n\"] <= 1000)]\n",
    "filtered_df_base = df_base[(df_base[\"n\"] >= 100)] #& (df_dnfc[\"n\"] <= 1000)]\n",
    "\n",
    "# Plot train_loss_torques and val_loss_torques vs n\n",
    "plt.figure(figsize=(10, 8))\n",
    "plt.plot(filtered_df[\"n\"], filtered_df[\"train_loss_torques\"], \n",
    "         marker='o', linestyle='-', label=\"Train Trq DNFC\")\n",
    "plt.plot(filtered_df[\"n\"], filtered_df[\"val_loss_torques\"], \n",
    "         marker='x', linestyle='-', label=\"Val Trq DNFC\")\n",
    "# plt.plot(filtered_df[\"n\"], np.log(filtered_df[\"train_loss_custom\"]), \n",
    "#          marker='o', linestyle='-', label=\"Train Cus DNFC\")\n",
    "# plt.plot(filtered_df[\"n\"], np.log(filtered_df[\"val_loss_cutsom\"]), \n",
    "#          marker='x', linestyle='-', label=\"Val Cus DNFC\")\n",
    "\n",
    "plt.plot(filtered_df_base[\"n\"], filtered_df_base[\"train_loss_torques\"], \n",
    "         marker='o', linestyle='-', label=\"Train Trq Base\")\n",
    "plt.plot(filtered_df_base[\"n\"], filtered_df_base[\"val_loss_torques\"], \n",
    "         marker='x', linestyle='-', label=\"Val Trq Base\")\n",
    "plt.xlabel(\"n\")\n",
    "plt.ylabel(\"Loss\")\n",
    "# plt.title(\"Train and Val Loss Torques vs n (n >= 100)\")\n",
    "plt.legend()\n",
    "plt.grid(True)\n",
    "\n",
    "loss_path = os.path.join(dnfc_dir, \"loss.png\")\n",
    "plt.savefig(loss_path)\n",
    "plt.show()\n"
   ]
  },
  {
   "cell_type": "code",
   "execution_count": null,
   "metadata": {},
   "outputs": [],
   "source": []
  },
  {
   "cell_type": "markdown",
   "metadata": {},
   "source": [
    "## Latent Representations"
   ]
  },
  {
   "cell_type": "code",
   "execution_count": null,
   "metadata": {},
   "outputs": [],
   "source": [
    "def get_file(model_dir, is_not_abl, file_name):\n",
    "    file_dir = os.path.join(model_dir, f\"on_v_custl_mse_1e-05_{is_not_abl}\")\n",
    "    file_path = os.path.join(file_dir, f\"{file_name}\")\n",
    "    with open(file_path, 'rb') as f:\n",
    "        latent_reps = pickle.load(f)\n",
    "    return latent_reps\n",
    "\n",
    "def get_csv(model_dir, is_not_abl):\n",
    "    file_dir = os.path.join(model_dir, f\"on_v_custl_mse_1e-05_{is_not_abl}\")\n",
    "    file_path = os.path.join(file_dir, \"perf.csv\")\n",
    "    df = pd.read_csv(file_path)  \n",
    "    return df\n",
    "\n",
    "def add_train_round(df):\n",
    "    df['train_round'] = df.groupby('eps_num').cumcount() + 1\n",
    "    return df"
   ]
  },
  {
   "cell_type": "code",
   "execution_count": null,
   "metadata": {},
   "outputs": [],
   "source": [
    "def plot_latent_reps(latent_reps, latent_reps_abl, states, states_abl,\n",
    "                     df_perf, df_perf_abl, i_eps, model_dir):\n",
    "    # Transpose the data to separate each joint\n",
    "    lat_rep_transp = list(zip(*latent_reps))\n",
    "    lat_rep_abl_transp = list(zip(*latent_reps_abl))\n",
    "    states_transp = list(zip(*states))\n",
    "    states_abl_transp = list(zip(*states_abl))\n",
    "\n",
    "    # print(len(lat_rep_transp), len(lat_rep_transp[0]))\n",
    "    # Plot each joint's position over time\n",
    "    time_steps = range(len(latent_reps))  # Assuming each inner list corresponds to a timestep\n",
    "    \n",
    "    colors = [\n",
    "        'blue', 'green', 'red', 'cyan', 'magenta', #'yellow', \n",
    "        'black', 'orange', 'purple', 'brown', 'pink', 'lime', \n",
    "        'teal', 'gold'\n",
    "    ]\n",
    "    \n",
    "    # Create a figure with 7 subplots arranged vertically\n",
    "    fig, axes = plt.subplots(7, 1, figsize=(12, 14), sharex=True)\n",
    "    fig.tight_layout(pad=0.0)  # Adjust spacing between subplots\n",
    "\n",
    "    for idx, lat_rep in enumerate(lat_rep_transp[:7]):\n",
    "        ax = axes[idx]  # Select the subplot corresponding to the current index\n",
    "        if idx < 7: label_st = f'Jnt.{idx + 1}'\n",
    "        else: label_st = f'Vel.{(idx%7) + 1}'\n",
    "\n",
    "        # print(len(lat_rep), len(lat_rep_abl_transp), len(states_transp))\n",
    "        ax.plot(time_steps, lat_rep, \n",
    "                 label=f'Dim{idx + 1}', color=colors[idx])\n",
    "        ax.plot(time_steps, lat_rep_abl_transp[idx], \n",
    "                 label=f'Dim{idx + 1}a', color=colors[idx], linestyle='dashed')\n",
    "        ax.plot(time_steps, states_transp[idx], \n",
    "                 label=label_st, color=colors[idx])#<, linestyle='dashed')\n",
    "        ax.plot(time_steps, states_abl_transp[idx], \n",
    "                 label=f'Jnt.{idx + 1}a', color=colors[idx], linestyle='dotted')\n",
    "        \n",
    "        # Add labels and legend to each subplot\n",
    "        ax.set_ylabel(f'Dim {idx + 1}')\n",
    "        ax.legend()\n",
    "        ax.grid(True)\n",
    "\n",
    "    eps_no = i_eps // 5\n",
    "    train_no = i_eps % 5\n",
    "    # Add a common xlabel and adjust layout\n",
    "    axes[-1].set_xlabel('Time Steps')\n",
    "    fig.suptitle(f\"DNFC: {df_perf['dnfc_succ']}, DNFC-abl: {df_perf_abl['dnfc_succ']}\")\n",
    "    # plt.show()\n",
    "    plot_dir = os.path.join(model_dir, f'latent_reps')\n",
    "    if os.path.exists(plot_dir):\n",
    "        pass\n",
    "        # print(\"Latent dir. already exists. Are you trying to generate it again?\")\n",
    "        # sys.exit(1)\n",
    "    else:\n",
    "        os.makedirs(plot_dir)\n",
    "    plot_path = os.path.join(plot_dir, f\"eps:{eps_no}_train:{train_no}.png\")\n",
    "    plt.savefig(plot_path)\n",
    "    plt.close()"
   ]
  },
  {
   "cell_type": "code",
   "execution_count": null,
   "metadata": {},
   "outputs": [],
   "source": [
    "for num_params in model_params_list:\n",
    "    model_dir = os.path.join(root_dir, f\"trajs:360_blocks:3_triangle_v_{num_params}K/ep:1000/\")\n",
    "    latent_reps = get_file(model_dir, True, \"all_latent_reps\")\n",
    "    latent_reps_abl = get_file(model_dir, False, \"all_latent_reps\")\n",
    "    states_dnfc = get_file(model_dir, True, \"all_states_dnfc\")\n",
    "    states_abl = get_file(model_dir, False, \"all_states_dnfc\")\n",
    "\n",
    "    df_perf = get_csv(model_dir, True)\n",
    "    df_perf = add_train_round(df_perf)\n",
    "    df_perf_abl = get_csv(model_dir, False)\n",
    "    df_perf_abl = add_train_round(df_perf_abl)\n",
    "    # print(df_perf_abl.head(10))\n",
    "\n",
    "    for i_eps in range(len(latent_reps)):\n",
    "        plot_latent_reps(latent_reps[i_eps], \n",
    "                            latent_reps_abl[i_eps], \n",
    "                            states_dnfc[i_eps],\n",
    "                            states_abl[i_eps], \n",
    "                            df_perf.loc[i_eps], df_perf_abl.loc[i_eps], i_eps, model_dir)"
   ]
  },
  {
   "cell_type": "code",
   "execution_count": null,
   "metadata": {},
   "outputs": [],
   "source": []
  },
  {
   "cell_type": "markdown",
   "metadata": {},
   "source": [
    "## Intrinsic to Cartesian"
   ]
  },
  {
   "cell_type": "code",
   "execution_count": null,
   "metadata": {},
   "outputs": [],
   "source": [
    "def intrinsic_to_3d_cart(all_joints_vals):\n",
    "    x, y, z = [], [], []\n",
    "    for joints_vals in all_joints_vals:\n",
    "        my_l = [0, 0]\n",
    "        for j_val in joints_vals:\n",
    "            my_l.append(float(j_val))\n",
    "        p, R = kin.forwardkin(1, np.array(my_l))\n",
    "        x.append(p[0])\n",
    "        y.append(p[1])\n",
    "        z.append(p[2])\n",
    "\n",
    "    return x, y, z"
   ]
  },
  {
   "cell_type": "code",
   "execution_count": null,
   "metadata": {},
   "outputs": [],
   "source": [
    "def get_end_eff_pos(js):\n",
    "    my_l = [0, 0]\n",
    "    for j in js:\n",
    "        my_l.append(float(j))\n",
    "    p1, R = kin.forwardkin(1, np.array(my_l))\n",
    "    return p1"
   ]
  },
  {
   "cell_type": "code",
   "execution_count": null,
   "metadata": {},
   "outputs": [],
   "source": [
    "def load_list_from_file(file_path):\n",
    "    with open(file_path, 'rb') as f:\n",
    "        lst = pickle.load(f)\n",
    "    return lst\n"
   ]
  },
  {
   "cell_type": "code",
   "execution_count": null,
   "metadata": {},
   "outputs": [],
   "source": [
    "file_root_dir = root_dir +\\\n",
    "    f\"{ds_name}_{model_params_list[-1]}K_{ds_type}/ep:4000/on_{model_name}\" + \"_True\" + \"_3l_base\"\n",
    "\n",
    "file_path = os.path.join(file_root_dir, \"all_states_dnfc\")\n",
    "all_states_dnfc = load_list_from_file(file_path)\n",
    "print(file_path)\n",
    "print(len(all_states_dnfc))"
   ]
  },
  {
   "cell_type": "code",
   "execution_count": null,
   "metadata": {},
   "outputs": [],
   "source": [
    "positions = []\n",
    "for eps_num in range(len(all_states_dnfc)):\n",
    "    eps_positions = []\n",
    "    eps_states = all_states_dnfc[eps_num]\n",
    "    for tms_num in range(len(eps_states)):\n",
    "        tms_state = eps_states[tms_num]\n",
    "        pos = get_end_eff_pos(tms_state[:7])\n",
    "        pos = pos.tolist()\n",
    "        eps_positions.append(pos)\n",
    "    positions.append(eps_positions)\n"
   ]
  },
  {
   "cell_type": "code",
   "execution_count": null,
   "metadata": {},
   "outputs": [],
   "source": [
    "positions_arr = np.array(positions)\n",
    "positions_arr.shape"
   ]
  },
  {
   "cell_type": "code",
   "execution_count": null,
   "metadata": {},
   "outputs": [],
   "source": [
    "path = os.path.join(file_root_dir, \"end_eff_pos.npy\")\n",
    "np.save(path, positions_arr)"
   ]
  },
  {
   "cell_type": "code",
   "execution_count": null,
   "metadata": {},
   "outputs": [],
   "source": []
  }
 ],
 "metadata": {
  "kernelspec": {
   "display_name": "dnfc2",
   "language": "python",
   "name": "python3"
  },
  "language_info": {
   "codemirror_mode": {
    "name": "ipython",
    "version": 3
   },
   "file_extension": ".py",
   "mimetype": "text/x-python",
   "name": "python",
   "nbconvert_exporter": "python",
   "pygments_lexer": "ipython3",
   "version": "3.9.21"
  }
 },
 "nbformat": 4,
 "nbformat_minor": 2
}
