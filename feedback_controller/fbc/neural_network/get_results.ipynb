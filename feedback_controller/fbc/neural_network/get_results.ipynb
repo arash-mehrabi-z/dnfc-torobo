{
 "cells": [
  {
   "cell_type": "code",
   "execution_count": 1,
   "metadata": {},
   "outputs": [],
   "source": [
    "import numpy as np\n",
    "import pandas as pd\n",
    "import matplotlib.pyplot as plt\n",
    "import math\n",
    "\n",
    "import os\n",
    "import pickle\n",
    "import random\n",
    "import sys\n",
    "\n",
    "from scipy.stats import ttest_ind\n",
    "from torkin import TorKin\n",
    "\n",
    "plt.rcParams['font.size'] = 18\n",
    "plt.rc('font', size=18)\n",
    "plt.rc('legend', fontsize=14)"
   ]
  },
  {
   "cell_type": "code",
   "execution_count": 2,
   "metadata": {},
   "outputs": [
    {
     "name": "stdout",
     "output_type": "stream",
     "text": [
      "No data file named /home/erhan/catkin_ws/src/erhtor_work/tormain/Resources/larm60.txt\n",
      "bodypart structure for larm is constructed.\n",
      "No data file named /home/erhan/catkin_ws/src/erhtor_work/tormain/Resources/rarm60.txt\n",
      "bodypart structure for rarm is constructed.\n",
      "bodypart structure for head is constructed.\n"
     ]
    }
   ],
   "source": [
    "root_dir = \"/home/arash/catkin_ws/src/feedback_controller/fbc/neural_network/results/\"\n",
    "ds_name = \"trajs:360_blocks:3\" + \"_triangle_v\"\n",
    "model_params_list = [24.085]#, 36.117]#14.391] #12.949] #[25.301]\n",
    "\n",
    "kin = TorKin()"
   ]
  },
  {
   "cell_type": "markdown",
   "metadata": {},
   "source": [
    "### Example"
   ]
  },
  {
   "cell_type": "code",
   "execution_count": 3,
   "metadata": {},
   "outputs": [],
   "source": [
    "model_name = \"2+2l_lat:sub-nvel_1e-05\"\n",
    "file_root_dir = root_dir +\\\n",
    "    f\"{ds_name}_{model_params_list[-1]}K/ep:2000/on_{model_name}\" + \"_True\" + \"_3l_base\"\n",
    "\n",
    "file_path = os.path.join(file_root_dir, \"perf.csv\")\n",
    "df = pd.read_csv(file_path)  "
   ]
  },
  {
   "cell_type": "code",
   "execution_count": 4,
   "metadata": {},
   "outputs": [
    {
     "data": {
      "text/html": [
       "<div>\n",
       "<style scoped>\n",
       "    .dataframe tbody tr th:only-of-type {\n",
       "        vertical-align: middle;\n",
       "    }\n",
       "\n",
       "    .dataframe tbody tr th {\n",
       "        vertical-align: top;\n",
       "    }\n",
       "\n",
       "    .dataframe thead th {\n",
       "        text-align: right;\n",
       "    }\n",
       "</style>\n",
       "<table border=\"1\" class=\"dataframe\">\n",
       "  <thead>\n",
       "    <tr style=\"text-align: right;\">\n",
       "      <th></th>\n",
       "      <th>eps_num</th>\n",
       "      <th>dnfc_succ</th>\n",
       "      <th>basel_succ</th>\n",
       "      <th>dnfc_dtw</th>\n",
       "      <th>basel_dtw</th>\n",
       "      <th>dnfc_norm</th>\n",
       "      <th>basel_norm</th>\n",
       "    </tr>\n",
       "  </thead>\n",
       "  <tbody>\n",
       "    <tr>\n",
       "      <th>0</th>\n",
       "      <td>0</td>\n",
       "      <td>1.0</td>\n",
       "      <td>1.0</td>\n",
       "      <td>11.897666</td>\n",
       "      <td>9.937527</td>\n",
       "      <td>0.009923</td>\n",
       "      <td>0.008288</td>\n",
       "    </tr>\n",
       "    <tr>\n",
       "      <th>1</th>\n",
       "      <td>0</td>\n",
       "      <td>1.0</td>\n",
       "      <td>1.0</td>\n",
       "      <td>11.813980</td>\n",
       "      <td>10.382604</td>\n",
       "      <td>0.009853</td>\n",
       "      <td>0.008659</td>\n",
       "    </tr>\n",
       "    <tr>\n",
       "      <th>2</th>\n",
       "      <td>0</td>\n",
       "      <td>1.0</td>\n",
       "      <td>1.0</td>\n",
       "      <td>10.056581</td>\n",
       "      <td>13.349122</td>\n",
       "      <td>0.008387</td>\n",
       "      <td>0.011134</td>\n",
       "    </tr>\n",
       "    <tr>\n",
       "      <th>3</th>\n",
       "      <td>0</td>\n",
       "      <td>1.0</td>\n",
       "      <td>1.0</td>\n",
       "      <td>9.777121</td>\n",
       "      <td>9.721395</td>\n",
       "      <td>0.008154</td>\n",
       "      <td>0.008108</td>\n",
       "    </tr>\n",
       "    <tr>\n",
       "      <th>4</th>\n",
       "      <td>0</td>\n",
       "      <td>1.0</td>\n",
       "      <td>1.0</td>\n",
       "      <td>11.781679</td>\n",
       "      <td>10.288485</td>\n",
       "      <td>0.009826</td>\n",
       "      <td>0.008581</td>\n",
       "    </tr>\n",
       "  </tbody>\n",
       "</table>\n",
       "</div>"
      ],
      "text/plain": [
       "   eps_num  dnfc_succ  basel_succ   dnfc_dtw  basel_dtw  dnfc_norm  basel_norm\n",
       "0        0        1.0         1.0  11.897666   9.937527   0.009923    0.008288\n",
       "1        0        1.0         1.0  11.813980  10.382604   0.009853    0.008659\n",
       "2        0        1.0         1.0  10.056581  13.349122   0.008387    0.011134\n",
       "3        0        1.0         1.0   9.777121   9.721395   0.008154    0.008108\n",
       "4        0        1.0         1.0  11.781679  10.288485   0.009826    0.008581"
      ]
     },
     "execution_count": 4,
     "metadata": {},
     "output_type": "execute_result"
    }
   ],
   "source": [
    "df.head()"
   ]
  },
  {
   "cell_type": "code",
   "execution_count": 5,
   "metadata": {},
   "outputs": [
    {
     "data": {
      "text/plain": [
       "9.777121075912415"
      ]
     },
     "execution_count": 5,
     "metadata": {},
     "output_type": "execute_result"
    }
   ],
   "source": [
    "df.loc[3, 'dnfc_dtw']"
   ]
  },
  {
   "cell_type": "code",
   "execution_count": 6,
   "metadata": {},
   "outputs": [
    {
     "data": {
      "text/html": [
       "<div>\n",
       "<style scoped>\n",
       "    .dataframe tbody tr th:only-of-type {\n",
       "        vertical-align: middle;\n",
       "    }\n",
       "\n",
       "    .dataframe tbody tr th {\n",
       "        vertical-align: top;\n",
       "    }\n",
       "\n",
       "    .dataframe thead th {\n",
       "        text-align: right;\n",
       "    }\n",
       "</style>\n",
       "<table border=\"1\" class=\"dataframe\">\n",
       "  <thead>\n",
       "    <tr style=\"text-align: right;\">\n",
       "      <th></th>\n",
       "      <th>eps_num</th>\n",
       "      <th>dnfc_succ</th>\n",
       "      <th>basel_succ</th>\n",
       "      <th>dnfc_dtw</th>\n",
       "      <th>basel_dtw</th>\n",
       "      <th>dnfc_norm</th>\n",
       "      <th>basel_norm</th>\n",
       "    </tr>\n",
       "  </thead>\n",
       "  <tbody>\n",
       "    <tr>\n",
       "      <th>0</th>\n",
       "      <td>0</td>\n",
       "      <td>100.0</td>\n",
       "      <td>100.0</td>\n",
       "      <td>11.897666</td>\n",
       "      <td>9.937527</td>\n",
       "      <td>0.009923</td>\n",
       "      <td>0.008288</td>\n",
       "    </tr>\n",
       "    <tr>\n",
       "      <th>1</th>\n",
       "      <td>0</td>\n",
       "      <td>100.0</td>\n",
       "      <td>100.0</td>\n",
       "      <td>11.813980</td>\n",
       "      <td>10.382604</td>\n",
       "      <td>0.009853</td>\n",
       "      <td>0.008659</td>\n",
       "    </tr>\n",
       "    <tr>\n",
       "      <th>2</th>\n",
       "      <td>0</td>\n",
       "      <td>100.0</td>\n",
       "      <td>100.0</td>\n",
       "      <td>10.056581</td>\n",
       "      <td>13.349122</td>\n",
       "      <td>0.008387</td>\n",
       "      <td>0.011134</td>\n",
       "    </tr>\n",
       "    <tr>\n",
       "      <th>3</th>\n",
       "      <td>0</td>\n",
       "      <td>100.0</td>\n",
       "      <td>100.0</td>\n",
       "      <td>9.777121</td>\n",
       "      <td>9.721395</td>\n",
       "      <td>0.008154</td>\n",
       "      <td>0.008108</td>\n",
       "    </tr>\n",
       "    <tr>\n",
       "      <th>4</th>\n",
       "      <td>0</td>\n",
       "      <td>100.0</td>\n",
       "      <td>100.0</td>\n",
       "      <td>11.781679</td>\n",
       "      <td>10.288485</td>\n",
       "      <td>0.009826</td>\n",
       "      <td>0.008581</td>\n",
       "    </tr>\n",
       "  </tbody>\n",
       "</table>\n",
       "</div>"
      ],
      "text/plain": [
       "   eps_num  dnfc_succ  basel_succ   dnfc_dtw  basel_dtw  dnfc_norm  basel_norm\n",
       "0        0      100.0       100.0  11.897666   9.937527   0.009923    0.008288\n",
       "1        0      100.0       100.0  11.813980  10.382604   0.009853    0.008659\n",
       "2        0      100.0       100.0  10.056581  13.349122   0.008387    0.011134\n",
       "3        0      100.0       100.0   9.777121   9.721395   0.008154    0.008108\n",
       "4        0      100.0       100.0  11.781679  10.288485   0.009826    0.008581"
      ]
     },
     "execution_count": 6,
     "metadata": {},
     "output_type": "execute_result"
    }
   ],
   "source": [
    "df['dnfc_succ'] *= 100.0\n",
    "df['basel_succ'] *= 100.0\n",
    "df.head()"
   ]
  },
  {
   "cell_type": "code",
   "execution_count": 7,
   "metadata": {},
   "outputs": [
    {
     "data": {
      "text/html": [
       "<div>\n",
       "<style scoped>\n",
       "    .dataframe tbody tr th:only-of-type {\n",
       "        vertical-align: middle;\n",
       "    }\n",
       "\n",
       "    .dataframe tbody tr th {\n",
       "        vertical-align: top;\n",
       "    }\n",
       "\n",
       "    .dataframe thead th {\n",
       "        text-align: right;\n",
       "    }\n",
       "</style>\n",
       "<table border=\"1\" class=\"dataframe\">\n",
       "  <thead>\n",
       "    <tr style=\"text-align: right;\">\n",
       "      <th></th>\n",
       "      <th>eps_num</th>\n",
       "      <th>dnfc_succ</th>\n",
       "      <th>basel_succ</th>\n",
       "      <th>dnfc_dtw</th>\n",
       "      <th>basel_dtw</th>\n",
       "      <th>dnfc_norm</th>\n",
       "      <th>basel_norm</th>\n",
       "      <th>train_round</th>\n",
       "    </tr>\n",
       "  </thead>\n",
       "  <tbody>\n",
       "    <tr>\n",
       "      <th>0</th>\n",
       "      <td>0</td>\n",
       "      <td>100.0</td>\n",
       "      <td>100.0</td>\n",
       "      <td>11.897666</td>\n",
       "      <td>9.937527</td>\n",
       "      <td>0.009923</td>\n",
       "      <td>0.008288</td>\n",
       "      <td>1</td>\n",
       "    </tr>\n",
       "    <tr>\n",
       "      <th>1</th>\n",
       "      <td>0</td>\n",
       "      <td>100.0</td>\n",
       "      <td>100.0</td>\n",
       "      <td>11.813980</td>\n",
       "      <td>10.382604</td>\n",
       "      <td>0.009853</td>\n",
       "      <td>0.008659</td>\n",
       "      <td>2</td>\n",
       "    </tr>\n",
       "    <tr>\n",
       "      <th>2</th>\n",
       "      <td>0</td>\n",
       "      <td>100.0</td>\n",
       "      <td>100.0</td>\n",
       "      <td>10.056581</td>\n",
       "      <td>13.349122</td>\n",
       "      <td>0.008387</td>\n",
       "      <td>0.011134</td>\n",
       "      <td>3</td>\n",
       "    </tr>\n",
       "    <tr>\n",
       "      <th>3</th>\n",
       "      <td>0</td>\n",
       "      <td>100.0</td>\n",
       "      <td>100.0</td>\n",
       "      <td>9.777121</td>\n",
       "      <td>9.721395</td>\n",
       "      <td>0.008154</td>\n",
       "      <td>0.008108</td>\n",
       "      <td>4</td>\n",
       "    </tr>\n",
       "    <tr>\n",
       "      <th>4</th>\n",
       "      <td>0</td>\n",
       "      <td>100.0</td>\n",
       "      <td>100.0</td>\n",
       "      <td>11.781679</td>\n",
       "      <td>10.288485</td>\n",
       "      <td>0.009826</td>\n",
       "      <td>0.008581</td>\n",
       "      <td>5</td>\n",
       "    </tr>\n",
       "    <tr>\n",
       "      <th>5</th>\n",
       "      <td>1</td>\n",
       "      <td>100.0</td>\n",
       "      <td>100.0</td>\n",
       "      <td>9.412772</td>\n",
       "      <td>10.144320</td>\n",
       "      <td>0.007851</td>\n",
       "      <td>0.008461</td>\n",
       "      <td>1</td>\n",
       "    </tr>\n",
       "    <tr>\n",
       "      <th>6</th>\n",
       "      <td>1</td>\n",
       "      <td>100.0</td>\n",
       "      <td>100.0</td>\n",
       "      <td>8.460467</td>\n",
       "      <td>7.228437</td>\n",
       "      <td>0.007056</td>\n",
       "      <td>0.006029</td>\n",
       "      <td>2</td>\n",
       "    </tr>\n",
       "    <tr>\n",
       "      <th>7</th>\n",
       "      <td>1</td>\n",
       "      <td>100.0</td>\n",
       "      <td>100.0</td>\n",
       "      <td>9.425573</td>\n",
       "      <td>9.001691</td>\n",
       "      <td>0.007861</td>\n",
       "      <td>0.007508</td>\n",
       "      <td>3</td>\n",
       "    </tr>\n",
       "    <tr>\n",
       "      <th>8</th>\n",
       "      <td>1</td>\n",
       "      <td>100.0</td>\n",
       "      <td>100.0</td>\n",
       "      <td>10.766427</td>\n",
       "      <td>8.333262</td>\n",
       "      <td>0.008980</td>\n",
       "      <td>0.006950</td>\n",
       "      <td>4</td>\n",
       "    </tr>\n",
       "    <tr>\n",
       "      <th>9</th>\n",
       "      <td>1</td>\n",
       "      <td>100.0</td>\n",
       "      <td>100.0</td>\n",
       "      <td>10.074181</td>\n",
       "      <td>9.046748</td>\n",
       "      <td>0.008402</td>\n",
       "      <td>0.007545</td>\n",
       "      <td>5</td>\n",
       "    </tr>\n",
       "  </tbody>\n",
       "</table>\n",
       "</div>"
      ],
      "text/plain": [
       "   eps_num  dnfc_succ  basel_succ   dnfc_dtw  basel_dtw  dnfc_norm  \\\n",
       "0        0      100.0       100.0  11.897666   9.937527   0.009923   \n",
       "1        0      100.0       100.0  11.813980  10.382604   0.009853   \n",
       "2        0      100.0       100.0  10.056581  13.349122   0.008387   \n",
       "3        0      100.0       100.0   9.777121   9.721395   0.008154   \n",
       "4        0      100.0       100.0  11.781679  10.288485   0.009826   \n",
       "5        1      100.0       100.0   9.412772  10.144320   0.007851   \n",
       "6        1      100.0       100.0   8.460467   7.228437   0.007056   \n",
       "7        1      100.0       100.0   9.425573   9.001691   0.007861   \n",
       "8        1      100.0       100.0  10.766427   8.333262   0.008980   \n",
       "9        1      100.0       100.0  10.074181   9.046748   0.008402   \n",
       "\n",
       "   basel_norm  train_round  \n",
       "0    0.008288            1  \n",
       "1    0.008659            2  \n",
       "2    0.011134            3  \n",
       "3    0.008108            4  \n",
       "4    0.008581            5  \n",
       "5    0.008461            1  \n",
       "6    0.006029            2  \n",
       "7    0.007508            3  \n",
       "8    0.006950            4  \n",
       "9    0.007545            5  "
      ]
     },
     "execution_count": 7,
     "metadata": {},
     "output_type": "execute_result"
    }
   ],
   "source": [
    "df['train_round'] = df.groupby('eps_num').cumcount() + 1\n",
    "df.head(10)"
   ]
  },
  {
   "cell_type": "code",
   "execution_count": 8,
   "metadata": {},
   "outputs": [
    {
     "data": {
      "text/plain": [
       "(45, 8)"
      ]
     },
     "execution_count": 8,
     "metadata": {},
     "output_type": "execute_result"
    }
   ],
   "source": [
    "df.shape"
   ]
  },
  {
   "cell_type": "code",
   "execution_count": 9,
   "metadata": {},
   "outputs": [],
   "source": [
    "# df = df[df[\"eps_num\"] <= 32]\n",
    "# df.shape"
   ]
  },
  {
   "cell_type": "code",
   "execution_count": 10,
   "metadata": {},
   "outputs": [],
   "source": [
    "round_means = df.groupby('train_round')[['dnfc_succ', 'basel_succ',\n",
    "                                         'dnfc_dtw', 'basel_dtw']].mean()"
   ]
  },
  {
   "cell_type": "code",
   "execution_count": 11,
   "metadata": {},
   "outputs": [
    {
     "data": {
      "text/html": [
       "<div>\n",
       "<style scoped>\n",
       "    .dataframe tbody tr th:only-of-type {\n",
       "        vertical-align: middle;\n",
       "    }\n",
       "\n",
       "    .dataframe tbody tr th {\n",
       "        vertical-align: top;\n",
       "    }\n",
       "\n",
       "    .dataframe thead th {\n",
       "        text-align: right;\n",
       "    }\n",
       "</style>\n",
       "<table border=\"1\" class=\"dataframe\">\n",
       "  <thead>\n",
       "    <tr style=\"text-align: right;\">\n",
       "      <th></th>\n",
       "      <th>dnfc_succ</th>\n",
       "      <th>basel_succ</th>\n",
       "      <th>dnfc_dtw</th>\n",
       "      <th>basel_dtw</th>\n",
       "    </tr>\n",
       "    <tr>\n",
       "      <th>train_round</th>\n",
       "      <th></th>\n",
       "      <th></th>\n",
       "      <th></th>\n",
       "      <th></th>\n",
       "    </tr>\n",
       "  </thead>\n",
       "  <tbody>\n",
       "    <tr>\n",
       "      <th>1</th>\n",
       "      <td>100.0</td>\n",
       "      <td>100.0</td>\n",
       "      <td>9.766362</td>\n",
       "      <td>9.693632</td>\n",
       "    </tr>\n",
       "    <tr>\n",
       "      <th>2</th>\n",
       "      <td>100.0</td>\n",
       "      <td>100.0</td>\n",
       "      <td>10.031099</td>\n",
       "      <td>8.846153</td>\n",
       "    </tr>\n",
       "    <tr>\n",
       "      <th>3</th>\n",
       "      <td>100.0</td>\n",
       "      <td>100.0</td>\n",
       "      <td>9.889978</td>\n",
       "      <td>10.652190</td>\n",
       "    </tr>\n",
       "    <tr>\n",
       "      <th>4</th>\n",
       "      <td>100.0</td>\n",
       "      <td>100.0</td>\n",
       "      <td>9.828257</td>\n",
       "      <td>9.342388</td>\n",
       "    </tr>\n",
       "    <tr>\n",
       "      <th>5</th>\n",
       "      <td>100.0</td>\n",
       "      <td>100.0</td>\n",
       "      <td>10.379576</td>\n",
       "      <td>9.538202</td>\n",
       "    </tr>\n",
       "  </tbody>\n",
       "</table>\n",
       "</div>"
      ],
      "text/plain": [
       "             dnfc_succ  basel_succ   dnfc_dtw  basel_dtw\n",
       "train_round                                             \n",
       "1                100.0       100.0   9.766362   9.693632\n",
       "2                100.0       100.0  10.031099   8.846153\n",
       "3                100.0       100.0   9.889978  10.652190\n",
       "4                100.0       100.0   9.828257   9.342388\n",
       "5                100.0       100.0  10.379576   9.538202"
      ]
     },
     "execution_count": 11,
     "metadata": {},
     "output_type": "execute_result"
    }
   ],
   "source": [
    "round_means"
   ]
  },
  {
   "cell_type": "code",
   "execution_count": 12,
   "metadata": {},
   "outputs": [
    {
     "data": {
      "text/plain": [
       "[100.0, 100.0, 100.0, 100.0, 100.0]"
      ]
     },
     "execution_count": 12,
     "metadata": {},
     "output_type": "execute_result"
    }
   ],
   "source": [
    "round_means['dnfc_succ'].tolist()"
   ]
  },
  {
   "cell_type": "code",
   "execution_count": 13,
   "metadata": {},
   "outputs": [
    {
     "name": "stdout",
     "output_type": "stream",
     "text": [
      "dnfc_succ     100.000000\n",
      "basel_succ    100.000000\n",
      "dnfc_dtw        9.979054\n",
      "basel_dtw       9.614513\n",
      "dtype: float64\n",
      "---\n",
      "dnfc_succ     0.000000\n",
      "basel_succ    0.000000\n",
      "dnfc_dtw      0.244458\n",
      "basel_dtw     0.662059\n",
      "dtype: float64\n"
     ]
    }
   ],
   "source": [
    "overall_mean = round_means.mean()\n",
    "overall_std = round_means.std()\n",
    "print(overall_mean)\n",
    "print(\"---\")\n",
    "print(overall_std)"
   ]
  },
  {
   "cell_type": "code",
   "execution_count": 14,
   "metadata": {},
   "outputs": [
    {
     "data": {
      "image/png": "[encoded data removed]",
      "text/plain": [
       "<Figure size 1000x600 with 1 Axes>"
      ]
     },
     "metadata": {},
     "output_type": "display_data"
    }
   ],
   "source": [
    "dnfc_succ = round_means['dnfc_succ'].tolist()\n",
    "basel_succ = round_means['basel_succ'].tolist()\n",
    "\n",
    "dnfc_mean = np.mean(dnfc_succ)\n",
    "basel_mean = np.mean(basel_succ)\n",
    "\n",
    "# Scatter plot\n",
    "plt.figure(figsize=(10, 6))\n",
    "train_rounds = np.arange(1, len(dnfc_succ)+1)\n",
    "\n",
    "# Plot scatter points\n",
    "plt.scatter(train_rounds, dnfc_succ, color='blue', label='dnfc_succ', marker='o')\n",
    "plt.scatter(train_rounds, basel_succ, color='orange', label='basel_succ', marker='s')\n",
    "\n",
    "# Add mean lines\n",
    "plt.axhline(dnfc_mean, color='blue', linestyle='dashed', linewidth=2, \n",
    "            label=f'dnfc_succ mean: {dnfc_mean:.2f}')\n",
    "plt.axhline(basel_mean, color='orange', linestyle='dashed', linewidth=2, \n",
    "            label=f'basel_succ mean: {basel_mean:.2f}')\n",
    "\n",
    "# Labels and legend\n",
    "plt.xlabel('Train Round')\n",
    "plt.ylabel('Success Rate')\n",
    "plt.title('Scatter Plot of dnfc_succ and basel_succ')\n",
    "plt.xticks(train_rounds)\n",
    "plt.legend()\n",
    "plt.grid(axis='y', linestyle='--', alpha=0.7)\n",
    "\n",
    "# Show plot\n",
    "plt.savefig(os.path.join(os.getcwd(), \"paper/each_model.png\"))\n",
    "plt.show()\n"
   ]
  },
  {
   "cell_type": "markdown",
   "metadata": {},
   "source": [
    "### Performance"
   ]
  },
  {
   "cell_type": "code",
   "execution_count": 15,
   "metadata": {},
   "outputs": [],
   "source": [
    "stats_model = {\n",
    "    'size': 0,\n",
    "    'succ_mean': [],\n",
    "    'succ_std': [],\n",
    "    'dtw_mean': [],\n",
    "    'dtw_std': [],\n",
    "\n",
    "    'succ_arr' : [],\n",
    "    'dtw_arr' : [],\n",
    "}\n",
    "\n",
    "stats_base = {\n",
    "    'size': 0,\n",
    "    'succ_mean': [],\n",
    "    'succ_std': [],\n",
    "    'dtw_mean': [],\n",
    "    'dtw_std': [],\n",
    "\n",
    "    'succ_arr' : [],\n",
    "    'dtw_arr' : [],\n",
    "}\n",
    "\n",
    "stats_abl = {\n",
    "    'size': 0,\n",
    "    'succ_mean': [],\n",
    "    'succ_std': [],\n",
    "    'dtw_mean': [],\n",
    "    'dtw_std': [],\n",
    "\n",
    "    'succ_arr' : [],\n",
    "    'dtw_arr' : [],\n",
    "}"
   ]
  },
  {
   "cell_type": "code",
   "execution_count": 16,
   "metadata": {},
   "outputs": [],
   "source": [
    "for num_params in model_params_list:\n",
    "    model_dir = os.path.join(root_dir, f\"{ds_name}_{num_params}K/ep:2000/\")\n",
    "    for is_not_abl in [True]:#, False]:\n",
    "        file_dir = os.path.join(model_dir, f\"on_{model_name}_{is_not_abl}\" + \"_3l_base\")\n",
    "        file_path = os.path.join(file_dir, \"perf.csv\")\n",
    "        df = pd.read_csv(file_path)  \n",
    "        \n",
    "        df['dnfc_succ'] *= 100.0\n",
    "        df['basel_succ'] *= 100.0\n",
    "\n",
    "        df['train_round'] = df.groupby('eps_num').cumcount() + 1\n",
    "        # df = df[df[\"eps_num\"] <= 32]\n",
    "        round_means = df.groupby('train_round')[['dnfc_succ', 'basel_succ',\n",
    "                                            'dnfc_dtw', 'basel_dtw']].mean()\n",
    "        overall_mean = round_means.mean()\n",
    "        overall_std = round_means.std()\n",
    "\n",
    "        if is_not_abl:\n",
    "            stats_model['succ_mean'].append(overall_mean['dnfc_succ'])\n",
    "            stats_base['succ_mean'].append(overall_mean['basel_succ'])\n",
    "            stats_model['dtw_mean'].append(overall_mean['dnfc_dtw'])\n",
    "            stats_base['dtw_mean'].append(overall_mean['basel_dtw'])\n",
    "\n",
    "            stats_model['succ_arr'].append(round_means['dnfc_succ'].tolist()) #dnfc_succ.tolist())\n",
    "            stats_model['dtw_arr'].append(round_means['dnfc_dtw'].tolist()) #dnfc_dtw.tolist())\n",
    "\n",
    "            stats_model['succ_std'].append(overall_std['dnfc_succ'])\n",
    "            stats_base['succ_std'].append(overall_std['basel_succ'])\n",
    "            stats_model['dtw_std'].append(overall_std['dnfc_dtw'])\n",
    "            stats_base['dtw_std'].append(overall_std['basel_dtw'])\n",
    "\n",
    "            stats_base['succ_arr'].append(round_means['basel_succ'].tolist()) #basel_succ.tolist())\n",
    "            stats_base['dtw_arr'].append(round_means['basel_dtw'].tolist()) #basel_dtw.tolist())\n",
    "        else:\n",
    "            pass\n",
    "            # stats_abl['succ_mean'].append(overall_mean['dnfc_succ'] * 100.0)\n",
    "            # stats_abl['succ_std'].append(overall_std['dnfc_succ'] * 100.0)\n",
    "            # stats_abl['dtw_mean'].append(overall_mean['dnfc_dtw'])\n",
    "            # stats_abl['dtw_std'].append(overall_std['dnfc_dtw'])\n",
    "\n",
    "            # stats_abl['succ_arr'].append(dnfc_succ.tolist())#round_means['dnfc_succ'].tolist())\n",
    "            # stats_abl['dtw_arr'].append(dnfc_dtw.tolist())#round_means['dnfc_dtw'].tolist())"
   ]
  },
  {
   "cell_type": "code",
   "execution_count": 17,
   "metadata": {},
   "outputs": [
    {
     "name": "stdout",
     "output_type": "stream",
     "text": [
      "5\n"
     ]
    },
    {
     "data": {
      "text/plain": [
       "{'size': 0,\n",
       " 'succ_mean': [100.0],\n",
       " 'succ_std': [0.0],\n",
       " 'dtw_mean': [9.97905429816944],\n",
       " 'dtw_std': [0.2444579215574683],\n",
       " 'succ_arr': [[100.0, 100.0, 100.0, 100.0, 100.0]],\n",
       " 'dtw_arr': [[9.766361546531217,\n",
       "   10.03109899674864,\n",
       "   9.889978036747634,\n",
       "   9.828257111809098,\n",
       "   10.379575799010617]]}"
      ]
     },
     "execution_count": 17,
     "metadata": {},
     "output_type": "execute_result"
    }
   ],
   "source": [
    "print(len(stats_model['succ_arr'][0]))\n",
    "stats_model"
   ]
  },
  {
   "cell_type": "code",
   "execution_count": 18,
   "metadata": {},
   "outputs": [
    {
     "name": "stdout",
     "output_type": "stream",
     "text": [
      "5\n"
     ]
    },
    {
     "data": {
      "text/plain": [
       "{'size': 0,\n",
       " 'succ_mean': [100.0],\n",
       " 'succ_std': [0.0],\n",
       " 'dtw_mean': [9.614513077488507],\n",
       " 'dtw_std': [0.6620585480713638],\n",
       " 'succ_arr': [[100.0, 100.0, 100.0, 100.0, 100.0]],\n",
       " 'dtw_arr': [[9.693632168531003,\n",
       "   8.846152611412146,\n",
       "   10.652189915003058,\n",
       "   9.342388265223068,\n",
       "   9.538202427273255]]}"
      ]
     },
     "execution_count": 18,
     "metadata": {},
     "output_type": "execute_result"
    }
   ],
   "source": [
    "print(len(stats_base['succ_arr'][0]))\n",
    "stats_base"
   ]
  },
  {
   "cell_type": "code",
   "execution_count": 19,
   "metadata": {},
   "outputs": [
    {
     "ename": "IndexError",
     "evalue": "list index out of range",
     "output_type": "error",
     "traceback": [
      "\u001b[0;31m---------------------------------------------------------------------------\u001b[0m",
      "\u001b[0;31mIndexError\u001b[0m                                Traceback (most recent call last)",
      "Cell \u001b[0;32mIn[19], line 1\u001b[0m\n\u001b[0;32m----> 1\u001b[0m \u001b[38;5;28mprint\u001b[39m(\u001b[38;5;28mlen\u001b[39m(\u001b[43mstats_abl\u001b[49m\u001b[43m[\u001b[49m\u001b[38;5;124;43m'\u001b[39;49m\u001b[38;5;124;43msucc_arr\u001b[39;49m\u001b[38;5;124;43m'\u001b[39;49m\u001b[43m]\u001b[49m\u001b[43m[\u001b[49m\u001b[38;5;241;43m0\u001b[39;49m\u001b[43m]\u001b[49m))\n\u001b[1;32m      2\u001b[0m stats_abl\n",
      "\u001b[0;31mIndexError\u001b[0m: list index out of range"
     ]
    }
   ],
   "source": [
    "print(len(stats_abl['succ_arr'][0]))\n",
    "stats_abl"
   ]
  },
  {
   "cell_type": "code",
   "execution_count": 20,
   "metadata": {},
   "outputs": [
    {
     "name": "stdout",
     "output_type": "stream",
     "text": [
      "succ_arr\n",
      "5 5\n",
      "nan nan\n",
      "-\n",
      "dtw_arr\n",
      "5 5\n",
      "1.1549989046572382 0.29959976497472474\n",
      "===\n"
     ]
    },
    {
     "name": "stderr",
     "output_type": "stream",
     "text": [
      "/home/arash/anaconda3/envs/dnfc2/lib/python3.9/site-packages/scipy/stats/_axis_nan_policy.py:531: RuntimeWarning: Precision loss occurred in moment calculation due to catastrophic cancellation. This occurs when the data are nearly identical. Results may be unreliable.\n",
      "  res = hypotest_fun_out(*samples, **kwds)\n"
     ]
    }
   ],
   "source": [
    "for i in range(len(stats_model['succ_arr'])):\n",
    "    print(\"succ_arr\")\n",
    "    statistic, pvalue = ttest_ind(stats_model['succ_arr'][i], \n",
    "                                 stats_base['succ_arr'][i], equal_var=False)\n",
    "    print(len(stats_model['succ_arr'][i]), len(stats_base['succ_arr'][i]))\n",
    "    print(statistic, pvalue)\n",
    "    print(\"-\")\n",
    "\n",
    "    print(\"dtw_arr\")\n",
    "    statistic, pvalue = ttest_ind(stats_model['dtw_arr'][i], \n",
    "                                 stats_base['dtw_arr'][i], equal_var=False)\n",
    "    print(len(stats_model['dtw_arr'][i]), len(stats_base['dtw_arr'][i]))\n",
    "    print(statistic, pvalue)\n",
    "    print(\"===\")"
   ]
  },
  {
   "cell_type": "markdown",
   "metadata": {},
   "source": [
    "#### Visualization"
   ]
  },
  {
   "cell_type": "code",
   "execution_count": 21,
   "metadata": {},
   "outputs": [
    {
     "data": {
      "image/png": "[encoded data removed]",
      "text/plain": [
       "<Figure size 1200x800 with 1 Axes>"
      ]
     },
     "metadata": {},
     "output_type": "display_data"
    },
    {
     "name": "stdout",
     "output_type": "stream",
     "text": [
      "{'DNFC': [9.97905429816944], 'Baseline': [9.614513077488507]}\n",
      "{'DNFC': [0.2444579215574683], 'Baseline': [0.6620585480713638]}\n"
     ]
    }
   ],
   "source": [
    "Ys = {\n",
    "    'DNFC': [x for x in stats_model['dtw_mean']],\n",
    "    'Baseline': [x for x in stats_base['dtw_mean']],\n",
    "    # 'DNFC-ablation': [x for x in stats_abl['dtw_mean']],\n",
    "}\n",
    "\n",
    "errors = {\n",
    "    'DNFC': [x for x in stats_model['dtw_std']],\n",
    "    'Baseline': [x for x in stats_base['dtw_std']],\n",
    "    # 'DNFC-ablation': [x for x in stats_abl['dtw_std']],\n",
    "}\n",
    "\n",
    "x = np.arange(len(model_params_list))  # the label locations\n",
    "width = 0.25  # the width of the bars\n",
    "multiplier = 0\n",
    "\n",
    "fig, ax = plt.subplots(layout='constrained', figsize=(12, 8))\n",
    "\n",
    "for attribute, measurement in Ys.items():\n",
    "    offset = width * multiplier\n",
    "    # print(attribute)\n",
    "    rects = ax.bar(x + offset, measurement, width, label=attribute, yerr=errors[attribute],\n",
    "                   error_kw={'capsize': 5})\n",
    "    # ax.bar_label(rects, fmt='%.2f', padding=3)\n",
    "    multiplier += 1\n",
    "\n",
    "# Add some text for labels, title and custom x-axis tick labels, etc.\n",
    "ax.set_ylabel(\"DTW's distance\")\n",
    "ax.set_xlabel(\"Approximate number of model parameters (x1e3)\")\n",
    "# ax.set_title('Robot Endpoint-Target Distance')\n",
    "ax.set_xticks(x + width, model_params_list)\n",
    "# ax.legend(loc='upper left', ncols=3)\n",
    "ax.legend()\n",
    "# ax.set_ylim(0, 250)\n",
    "plt.savefig(os.path.join(os.getcwd(), \"paper/dtw.png\"))\n",
    "plt.show()\n",
    "print(Ys)\n",
    "print(errors)"
   ]
  },
  {
   "cell_type": "code",
   "execution_count": 22,
   "metadata": {},
   "outputs": [
    {
     "data": {
      "image/png": "[encoded data removed]",
      "text/plain": [
       "<Figure size 1200x800 with 1 Axes>"
      ]
     },
     "metadata": {},
     "output_type": "display_data"
    },
    {
     "name": "stdout",
     "output_type": "stream",
     "text": [
      "{'DNFC': [100.0], 'Baseline': [100.0]}\n",
      "{'DNFC': [0.0], 'Baseline': [0.0]}\n"
     ]
    }
   ],
   "source": [
    "Ys = {\n",
    "    'DNFC': [x for x in stats_model['succ_mean']],\n",
    "    'Baseline': [x for x in stats_base['succ_mean']],\n",
    "    # 'DNFC-ablation': [x for x in stats_abl['succ_mean']],\n",
    "}\n",
    "\n",
    "errors = {\n",
    "    'DNFC': [x for x in stats_model['succ_std']],\n",
    "    'Baseline': [x for x in stats_base['succ_std']],\n",
    "    # 'DNFC-ablation': [x for x in stats_abl['succ_std']],\n",
    "}\n",
    "\n",
    "x = np.arange(len(model_params_list))  # the label locations\n",
    "width = 0.25  # the width of the bars\n",
    "multiplier = 0\n",
    "\n",
    "fig, ax = plt.subplots(layout='constrained', figsize=(12, 8))\n",
    "\n",
    "for attribute, measurement in Ys.items():\n",
    "    offset = width * multiplier\n",
    "    # print(attribute)\n",
    "    rects = ax.bar(x + offset, measurement, width, label=attribute, yerr=errors[attribute],\n",
    "                   error_kw={'capsize': 5})\n",
    "    # ax.bar_label(rects, fmt='%.2f', padding=3)\n",
    "    multiplier += 1\n",
    "\n",
    "# Add some text for labels, title and custom x-axis tick labels, etc.\n",
    "ax.set_ylabel('Success rate')\n",
    "ax.set_xlabel(\"Approximate number of model parameters (x1e3)\")\n",
    "# ax.set_title('Robot Endpoint-Target Distance')\n",
    "ax.set_xticks(x + width, model_params_list)\n",
    "# ax.legend(loc='upper left', ncols=3)\n",
    "ax.legend()\n",
    "# ax.set_ylim(0, 250)\n",
    "plt.savefig(os.path.join(os.getcwd(), \"paper/succ.png\"))\n",
    "plt.show()\n",
    "print(Ys)\n",
    "print(errors)"
   ]
  },
  {
   "cell_type": "code",
   "execution_count": 23,
   "metadata": {},
   "outputs": [
    {
     "data": {
      "image/png": "[encoded data removed]",
      "text/plain": [
       "<Figure size 800x600 with 1 Axes>"
      ]
     },
     "metadata": {},
     "output_type": "display_data"
    }
   ],
   "source": [
    "bin_no = 10\n",
    "\n",
    "dnfc_mean = df[\"dnfc_succ\"].mean()\n",
    "basel_mean = df[\"basel_succ\"].mean()\n",
    "\n",
    "# Plot histograms for 'dnfc_succ' and 'basel_succ' side by side\n",
    "plt.figure(figsize=(8, 6))\n",
    "plt.hist(df[\"dnfc_succ\"], bins=bin_no, alpha=0.7, label='dnfc_succ', edgecolor='black')\n",
    "plt.hist(df[\"basel_succ\"], bins=bin_no, alpha=0.7, label='basel_succ', edgecolor='black')\n",
    "# plt.title(\"Histogram of dnfc_succ and basel_succ\", fontsize=14)\n",
    "# Add vertical dashed lines for mean values\n",
    "plt.axvline(dnfc_mean, color='blue', linestyle='dashed', \n",
    "            linewidth=2, label=f'dnfc_succ mean: {dnfc_mean:.2f}')\n",
    "plt.axvline(basel_mean, color='orange', linestyle='dashed', \n",
    "            linewidth=2, label=f'basel_succ mean: {basel_mean:.2f}')\n",
    "\n",
    "plt.xlabel(\"Value\")\n",
    "plt.ylabel(\"Frequency\")\n",
    "plt.legend()\n",
    "plt.grid(axis='y', alpha=0.75)\n",
    "\n",
    "plt.savefig(os.path.join(os.getcwd(), \"paper/succ_hist.png\"))\n",
    "plt.show()"
   ]
  },
  {
   "cell_type": "code",
   "execution_count": 24,
   "metadata": {},
   "outputs": [
    {
     "data": {
      "image/png": "[encoded data removed]",
      "text/plain": [
       "<Figure size 800x600 with 1 Axes>"
      ]
     },
     "metadata": {},
     "output_type": "display_data"
    }
   ],
   "source": [
    "bin_no = 20\n",
    "\n",
    "# Find the common range for both datasets\n",
    "min_value = min(df[\"dnfc_dtw\"].min(), df[\"basel_dtw\"].min())\n",
    "max_value = max(df[\"dnfc_dtw\"].max(), df[\"basel_dtw\"].max())\n",
    "\n",
    "# Create bin edges with equal width\n",
    "bins = np.linspace(min_value, max_value, bin_no + 1)  # +1 because linspace creates bin edges\n",
    "\n",
    "dnfc_mean = df[\"dnfc_dtw\"].mean()\n",
    "basel_mean = df[\"basel_dtw\"].mean()\n",
    "\n",
    "# Plot histograms for 'dnfc_succ' and 'basel_succ' side by side\n",
    "plt.figure(figsize=(8, 6))\n",
    "plt.hist(df[\"dnfc_dtw\"], bins=bins, alpha=0.5, label='dnfc_dtw', edgecolor='black')\n",
    "plt.hist(df[\"basel_dtw\"], bins=bins, alpha=0.5, label='basel_dtw', edgecolor='black')\n",
    "\n",
    "plt.axvline(dnfc_mean, color='blue', linestyle='dashed', \n",
    "            linewidth=2, label=f'dnfc_dtw mean: {dnfc_mean:.2f}')\n",
    "plt.axvline(basel_mean, color='orange', linestyle='dashed', \n",
    "            linewidth=2, label=f'basel_dtw mean: {basel_mean:.2f}')\n",
    "# plt.title(\"Histogram of dnfc_succ and basel_succ\", fontsize=14)\n",
    "plt.xlabel(\"Value\")\n",
    "plt.ylabel(\"Frequency\")\n",
    "plt.legend()\n",
    "plt.grid(axis='y', alpha=0.75)\n",
    "\n",
    "plt.savefig(os.path.join(os.getcwd(), \"paper/dtw_hist.png\"))\n",
    "plt.show()\n"
   ]
  },
  {
   "cell_type": "code",
   "execution_count": null,
   "metadata": {},
   "outputs": [],
   "source": []
  },
  {
   "cell_type": "markdown",
   "metadata": {},
   "source": [
    "### Latent Space Rep."
   ]
  },
  {
   "cell_type": "code",
   "execution_count": null,
   "metadata": {},
   "outputs": [],
   "source": [
    "root_dir = \"/home/arash/catkin_ws/src/feedback_controller/fbc/neural_network/results/\"\n",
    "root_dir += \"trajs:360_blocks:3_triangle_v_7.541K/ep:1000/on_v_custl_const_1e-05\""
   ]
  },
  {
   "cell_type": "code",
   "execution_count": null,
   "metadata": {},
   "outputs": [],
   "source": [
    "file_path = os.path.join(root_dir, \"all_states_dnfc\")\n",
    "with open(file_path, 'rb') as f:\n",
    "    all_states_dnfc = pickle.load(f)"
   ]
  },
  {
   "cell_type": "code",
   "execution_count": null,
   "metadata": {},
   "outputs": [],
   "source": [
    "eps_no = 27\n",
    "\n",
    "dnfc_data = all_states_dnfc[eps_no]"
   ]
  },
  {
   "cell_type": "code",
   "execution_count": null,
   "metadata": {},
   "outputs": [],
   "source": [
    "joint_vals = [timestep_data[4] for timestep_data in dnfc_data]\n",
    "timesteps = range(len(joint_vals))\n",
    "\n",
    "plt.figure(figsize=(10, 6))\n",
    "plt.plot(timesteps, joint_vals)\n",
    "plt.xlabel(\"Timestep\")\n",
    "plt.ylabel(\"Value\")\n",
    "# plt.title(\"Fifth Value Across Timesteps\")\n",
    "# plt.legend()\n",
    "plt.grid(True)\n",
    "plt.show()"
   ]
  },
  {
   "cell_type": "code",
   "execution_count": null,
   "metadata": {},
   "outputs": [],
   "source": []
  },
  {
   "cell_type": "markdown",
   "metadata": {},
   "source": [
    "### Loss"
   ]
  },
  {
   "cell_type": "code",
   "execution_count": null,
   "metadata": {},
   "outputs": [],
   "source": [
    "root_dir = \"/home/arash/catkin_ws/src/feedback_controller/fbc/neural_network/weights/\"\n",
    "dnfc_dir = os.path.join(root_dir, \n",
    "                        \"trajs:500_blocks:3_random|0.263|cus_los_1e-05|tar_cart|v_custl_mse|25.301K_params\")\n",
    "base_dir = os.path.join(root_dir, \n",
    "                        \"trajs:500_blocks:3_random|0.263|mse_los|tar_cart|base|v_base|25.175K_params\")\n",
    "\n",
    "dnfc_fpath = os.path.join(dnfc_dir, \"train_no_4/loss.csv\")\n",
    "df_dnfc = pd.read_csv(dnfc_fpath)  \n",
    "base_fpath = os.path.join(base_dir, \"train_no_0/loss.csv\")\n",
    "df_base = pd.read_csv(base_fpath)  "
   ]
  },
  {
   "cell_type": "code",
   "execution_count": null,
   "metadata": {},
   "outputs": [],
   "source": [
    "df_dnfc.head()"
   ]
  },
  {
   "cell_type": "code",
   "execution_count": null,
   "metadata": {},
   "outputs": [],
   "source": [
    "df_base.head()"
   ]
  },
  {
   "cell_type": "code",
   "execution_count": null,
   "metadata": {},
   "outputs": [],
   "source": [
    "# Filter the dataframe for n >= 10\n",
    "filtered_df = df_dnfc[(df_dnfc[\"n\"] >= 10) & (df_dnfc[\"n\"] <= 1000)]\n",
    "filtered_df_base = df_base[(df_base[\"n\"] >= 10) & (df_dnfc[\"n\"] <= 1000)]\n",
    "\n",
    "# Plot train_loss_torques and val_loss_torques vs n\n",
    "plt.figure(figsize=(8, 6))\n",
    "plt.plot(filtered_df[\"n\"], filtered_df[\"train_loss_torques\"], marker='o', linestyle='-', label=\"Train Trq DNFC\")\n",
    "plt.plot(filtered_df[\"n\"], filtered_df[\"val_loss_torques\"], marker='x', linestyle='-', label=\"Val Trq DNFC\")\n",
    "plt.plot(filtered_df_base[\"n\"], filtered_df_base[\"train_loss_torques\"], marker='o', \n",
    "         linestyle='-', label=\"Train Trq Base\")\n",
    "plt.plot(filtered_df_base[\"n\"], filtered_df_base[\"val_loss_torques\"], marker='x', \n",
    "         linestyle='-', label=\"Val Trq Base\")\n",
    "plt.xlabel(\"n\")\n",
    "plt.ylabel(\"Loss\")\n",
    "plt.title(\"Train and Val Loss Torques vs n (n >= 10)\")\n",
    "plt.legend()\n",
    "plt.grid(True)\n",
    "plt.show()\n"
   ]
  },
  {
   "cell_type": "code",
   "execution_count": null,
   "metadata": {},
   "outputs": [],
   "source": [
    "df_dnfc.head(12)"
   ]
  },
  {
   "cell_type": "code",
   "execution_count": null,
   "metadata": {},
   "outputs": [],
   "source": []
  },
  {
   "cell_type": "markdown",
   "metadata": {},
   "source": [
    "### Latent Representations"
   ]
  },
  {
   "cell_type": "code",
   "execution_count": null,
   "metadata": {},
   "outputs": [],
   "source": [
    "def get_file(model_dir, is_not_abl, file_name):\n",
    "    file_dir = os.path.join(model_dir, f\"on_v_custl_mse_1e-05_{is_not_abl}\")\n",
    "    file_path = os.path.join(file_dir, f\"{file_name}\")\n",
    "    with open(file_path, 'rb') as f:\n",
    "        latent_reps = pickle.load(f)\n",
    "    return latent_reps\n",
    "\n",
    "def get_csv(model_dir, is_not_abl):\n",
    "    file_dir = os.path.join(model_dir, f\"on_v_custl_mse_1e-05_{is_not_abl}\")\n",
    "    file_path = os.path.join(file_dir, \"perf.csv\")\n",
    "    df = pd.read_csv(file_path)  \n",
    "    return df\n",
    "\n",
    "def add_train_round(df):\n",
    "    df['train_round'] = df.groupby('eps_num').cumcount() + 1\n",
    "    return df"
   ]
  },
  {
   "cell_type": "code",
   "execution_count": null,
   "metadata": {},
   "outputs": [],
   "source": [
    "def intrinsic_to_3d_cart(all_joints_vals):\n",
    "    x, y, z = [], [], []\n",
    "    for joints_vals in all_joints_vals:\n",
    "        my_l = [0, 0]\n",
    "        for j_val in joints_vals:\n",
    "            my_l.append(float(j_val))\n",
    "        p, R = kin.forwardkin(1, np.array(my_l))\n",
    "        x.append(p[0])\n",
    "        y.append(p[1])\n",
    "        z.append(p[2])\n",
    "\n",
    "    return x, y, z"
   ]
  },
  {
   "cell_type": "code",
   "execution_count": null,
   "metadata": {},
   "outputs": [],
   "source": [
    "def plot_latent_reps(latent_reps, latent_reps_abl, states, states_abl,\n",
    "                     df_perf, df_perf_abl, i_eps, model_dir):\n",
    "    # Transpose the data to separate each joint\n",
    "    lat_rep_transp = list(zip(*latent_reps))\n",
    "    lat_rep_abl_transp = list(zip(*latent_reps_abl))\n",
    "    states_transp = list(zip(*states))\n",
    "    states_abl_transp = list(zip(*states_abl))\n",
    "\n",
    "    # print(len(lat_rep_transp), len(lat_rep_transp[0]))\n",
    "    # Plot each joint's position over time\n",
    "    time_steps = range(len(latent_reps))  # Assuming each inner list corresponds to a timestep\n",
    "    \n",
    "    colors = [\n",
    "        'blue', 'green', 'red', 'cyan', 'magenta', #'yellow', \n",
    "        'black', 'orange', 'purple', 'brown', 'pink', 'lime', \n",
    "        'teal', 'gold'\n",
    "    ]\n",
    "    \n",
    "    # Create a figure with 7 subplots arranged vertically\n",
    "    fig, axes = plt.subplots(7, 1, figsize=(12, 14), sharex=True)\n",
    "    fig.tight_layout(pad=0.0)  # Adjust spacing between subplots\n",
    "\n",
    "    for idx, lat_rep in enumerate(lat_rep_transp[:7]):\n",
    "        ax = axes[idx]  # Select the subplot corresponding to the current index\n",
    "        if idx < 7: label_st = f'Jnt.{idx + 1}'\n",
    "        else: label_st = f'Vel.{(idx%7) + 1}'\n",
    "\n",
    "        # print(len(lat_rep), len(lat_rep_abl_transp), len(states_transp))\n",
    "        ax.plot(time_steps, lat_rep, \n",
    "                 label=f'Dim{idx + 1}', color=colors[idx])\n",
    "        ax.plot(time_steps, lat_rep_abl_transp[idx], \n",
    "                 label=f'Dim{idx + 1}a', color=colors[idx], linestyle='dashed')\n",
    "        ax.plot(time_steps, states_transp[idx], \n",
    "                 label=label_st, color=colors[idx])#<, linestyle='dashed')\n",
    "        ax.plot(time_steps, states_abl_transp[idx], \n",
    "                 label=f'Jnt.{idx + 1}a', color=colors[idx], linestyle='dotted')\n",
    "        \n",
    "        # Add labels and legend to each subplot\n",
    "        ax.set_ylabel(f'Dim {idx + 1}')\n",
    "        ax.legend()\n",
    "        ax.grid(True)\n",
    "\n",
    "    eps_no = i_eps // 5\n",
    "    train_no = i_eps % 5\n",
    "    # Add a common xlabel and adjust layout\n",
    "    axes[-1].set_xlabel('Time Steps')\n",
    "    fig.suptitle(f\"DNFC: {df_perf['dnfc_succ']}, DNFC-abl: {df_perf_abl['dnfc_succ']}\")\n",
    "    # plt.show()\n",
    "    plot_dir = os.path.join(model_dir, f'latent_reps')\n",
    "    if os.path.exists(plot_dir):\n",
    "        pass\n",
    "        # print(\"Latent dir. already exists. Are you trying to generate it again?\")\n",
    "        # sys.exit(1)\n",
    "    else:\n",
    "        os.makedirs(plot_dir)\n",
    "    plot_path = os.path.join(plot_dir, f\"eps:{eps_no}_train:{train_no}.png\")\n",
    "    plt.savefig(plot_path)\n",
    "    plt.close()"
   ]
  },
  {
   "cell_type": "code",
   "execution_count": null,
   "metadata": {},
   "outputs": [],
   "source": [
    "for num_params in model_params_list:\n",
    "    model_dir = os.path.join(root_dir, f\"trajs:360_blocks:3_triangle_v_{num_params}K/ep:1000/\")\n",
    "    latent_reps = get_file(model_dir, True, \"all_latent_reps\")\n",
    "    latent_reps_abl = get_file(model_dir, False, \"all_latent_reps\")\n",
    "    states_dnfc = get_file(model_dir, True, \"all_states_dnfc\")\n",
    "    states_abl = get_file(model_dir, False, \"all_states_dnfc\")\n",
    "\n",
    "    df_perf = get_csv(model_dir, True)\n",
    "    df_perf = add_train_round(df_perf)\n",
    "    df_perf_abl = get_csv(model_dir, False)\n",
    "    df_perf_abl = add_train_round(df_perf_abl)\n",
    "    # print(df_perf_abl.head(10))\n",
    "\n",
    "    for i_eps in range(len(latent_reps)):\n",
    "        plot_latent_reps(latent_reps[i_eps], \n",
    "                            latent_reps_abl[i_eps], \n",
    "                            states_dnfc[i_eps],\n",
    "                            states_abl[i_eps], \n",
    "                            df_perf.loc[i_eps], df_perf_abl.loc[i_eps], i_eps, model_dir)"
   ]
  },
  {
   "cell_type": "code",
   "execution_count": null,
   "metadata": {},
   "outputs": [],
   "source": []
  },
  {
   "cell_type": "code",
   "execution_count": null,
   "metadata": {},
   "outputs": [],
   "source": []
  }
 ],
 "metadata": {
  "kernelspec": {
   "display_name": "dnfc2",
   "language": "python",
   "name": "python3"
  },
  "language_info": {
   "codemirror_mode": {
    "name": "ipython",
    "version": 3
   },
   "file_extension": ".py",
   "mimetype": "text/x-python",
   "name": "python",
   "nbconvert_exporter": "python",
   "pygments_lexer": "ipython3",
   "version": "3.9.21"
  }
 },
 "nbformat": 4,
 "nbformat_minor": 2
}
