{
 "cells": [
  {
   "cell_type": "code",
   "execution_count": 1,
   "metadata": {},
   "outputs": [],
   "source": [
    "import numpy as np\n",
    "import pandas as pd\n",
    "import matplotlib.pyplot as plt\n",
    "import math\n",
    "\n",
    "import os\n",
    "import pickle\n",
    "import random\n",
    "\n",
    "from scipy.stats import ttest_ind\n",
    "\n",
    "plt.rcParams['font.size'] = 18\n",
    "plt.rc('font', size=18)\n",
    "plt.rc('legend', fontsize=14)"
   ]
  },
  {
   "cell_type": "code",
   "execution_count": 7,
   "metadata": {},
   "outputs": [],
   "source": [
    "root_dir = \"/home/arash/catkin_ws/src/feedback_controller/fbc/neural_network/results/\"\n",
    "root_dir += \"trajs:360_blocks:3_triangle_v_7.541K/ep:1000/on_v_custl_mse_1e-05_True\"\n",
    "\n",
    "file_path = os.path.join(root_dir, \"perf.csv\")\n",
    "df = pd.read_csv(file_path)  "
   ]
  },
  {
   "cell_type": "code",
   "execution_count": null,
   "metadata": {},
   "outputs": [],
   "source": [
    "df.head()"
   ]
  },
  {
   "cell_type": "code",
   "execution_count": 9,
   "metadata": {},
   "outputs": [],
   "source": [
    "df['train_round'] = df.groupby('eps_num').cumcount() + 1"
   ]
  },
  {
   "cell_type": "code",
   "execution_count": null,
   "metadata": {},
   "outputs": [],
   "source": [
    "df.head(10)"
   ]
  },
  {
   "cell_type": "code",
   "execution_count": 11,
   "metadata": {},
   "outputs": [],
   "source": [
    "round_means = df.groupby('train_round')[['dnfc_succ', 'basel_succ',\n",
    "                                         'dnfc_dtw', 'basel_dtw']].mean()"
   ]
  },
  {
   "cell_type": "code",
   "execution_count": null,
   "metadata": {},
   "outputs": [],
   "source": [
    "round_means"
   ]
  },
  {
   "cell_type": "code",
   "execution_count": null,
   "metadata": {},
   "outputs": [],
   "source": [
    "round_means['dnfc_succ'].tolist()"
   ]
  },
  {
   "cell_type": "code",
   "execution_count": null,
   "metadata": {},
   "outputs": [],
   "source": [
    "overall_mean = round_means.mean()\n",
    "overall_std = round_means.std()\n",
    "print(overall_mean)\n",
    "print(\"---\")\n",
    "print(overall_std)"
   ]
  },
  {
   "cell_type": "code",
   "execution_count": null,
   "metadata": {},
   "outputs": [],
   "source": [
    "overall_mean['dnfc_succ']"
   ]
  },
  {
   "cell_type": "code",
   "execution_count": 2,
   "metadata": {},
   "outputs": [],
   "source": [
    "stats_model = {\n",
    "    'size': 0,\n",
    "    'succ_mean': [],\n",
    "    'succ_std': [],\n",
    "    'dtw_mean': [],\n",
    "    'dtw_std': [],\n",
    "\n",
    "    'succ_arr' : [],\n",
    "    'dtw_arr' : [],\n",
    "}\n",
    "\n",
    "stats_base = {\n",
    "    'size': 0,\n",
    "    'succ_mean': [],\n",
    "    'succ_std': [],\n",
    "    'dtw_mean': [],\n",
    "    'dtw_std': [],\n",
    "\n",
    "    'succ_arr' : [],\n",
    "    'dtw_arr' : [],\n",
    "}\n",
    "\n",
    "stats_abl = {\n",
    "    'size': 0,\n",
    "    'succ_mean': [],\n",
    "    'succ_std': [],\n",
    "    'dtw_mean': [],\n",
    "    'dtw_std': [],\n",
    "\n",
    "    'succ_arr' : [],\n",
    "    'dtw_arr' : [],\n",
    "}"
   ]
  },
  {
   "cell_type": "code",
   "execution_count": 3,
   "metadata": {},
   "outputs": [],
   "source": [
    "root_dir = \"/home/arash/catkin_ws/src/feedback_controller/fbc/neural_network/results/\"\n",
    "model_params_list = [7.541, 25.301]\n",
    "\n",
    "for num_params in model_params_list:\n",
    "    model_dir = os.path.join(root_dir, f\"trajs:360_blocks:3_triangle_v_{num_params}K/ep:1000/\")\n",
    "    for is_not_abl in [True, False]:\n",
    "        file_dir = os.path.join(model_dir, f\"on_v_custl_mse_1e-05_{is_not_abl}\")\n",
    "        file_path = os.path.join(file_dir, \"perf.csv\")\n",
    "        df = pd.read_csv(file_path)  \n",
    "\n",
    "        df['train_round'] = df.groupby('eps_num').cumcount() + 1\n",
    "        round_means = df.groupby('train_round')[['dnfc_succ', 'basel_succ',\n",
    "                                            'dnfc_dtw', 'basel_dtw']].mean()\n",
    "        overall_mean = round_means.mean()\n",
    "        overall_std = round_means.std()\n",
    "\n",
    "        if is_not_abl:\n",
    "            stats_model['succ_mean'].append(overall_mean['dnfc_succ'] * 100.0)\n",
    "            stats_base['succ_mean'].append(overall_mean['basel_succ'] * 100.0)\n",
    "            stats_model['dtw_mean'].append(overall_mean['dnfc_dtw'])\n",
    "            stats_base['dtw_mean'].append(overall_mean['basel_dtw'])\n",
    "\n",
    "            stats_model['succ_arr'].append(round_means['dnfc_succ'].tolist())\n",
    "            stats_model['dtw_arr'].append(round_means['dnfc_dtw'].tolist())\n",
    "\n",
    "            stats_model['succ_std'].append(overall_std['dnfc_succ'] * 100.0)\n",
    "            stats_base['succ_std'].append(overall_std['basel_succ'] * 100.0)\n",
    "            stats_model['dtw_std'].append(overall_std['dnfc_dtw'])\n",
    "            stats_base['dtw_std'].append(overall_std['basel_dtw'])\n",
    "\n",
    "            stats_base['succ_arr'].append(round_means['basel_succ'].tolist())\n",
    "            stats_base['dtw_arr'].append(round_means['basel_dtw'].tolist())\n",
    "        else:\n",
    "            stats_abl['succ_mean'].append(overall_mean['dnfc_succ'] * 100.0)\n",
    "            stats_abl['succ_std'].append(overall_std['dnfc_succ'] * 100.0)\n",
    "            stats_abl['dtw_mean'].append(overall_mean['dnfc_dtw'])\n",
    "            stats_abl['dtw_std'].append(overall_std['dnfc_dtw'])\n",
    "\n",
    "            stats_abl['succ_arr'].append(round_means['dnfc_succ'].tolist())\n",
    "            stats_abl['dtw_arr'].append(round_means['dnfc_dtw'].tolist())"
   ]
  },
  {
   "cell_type": "code",
   "execution_count": 4,
   "metadata": {},
   "outputs": [
    {
     "data": {
      "text/plain": [
       "{'size': 0,\n",
       " 'succ_mean': [97.77777777777779, 100.0],\n",
       " 'succ_std': [3.0920328973462743, 0.0],\n",
       " 'dtw_mean': [11.822987199412651, 8.846052188148589],\n",
       " 'dtw_std': [2.8201747600194103, 0.4670660794771355],\n",
       " 'succ_arr': [[0.9895833333333334,\n",
       "   0.9930555555555556,\n",
       "   0.9236111111111112,\n",
       "   0.9826388888888888,\n",
       "   1.0],\n",
       "  [1.0, 1.0, 1.0, 1.0, 1.0]],\n",
       " 'dtw_arr': [[9.49199705014312,\n",
       "   12.235966638676791,\n",
       "   16.530879696567325,\n",
       "   10.705087509503379,\n",
       "   10.151005102172638],\n",
       "  [8.656718334114382,\n",
       "   8.335032594886718,\n",
       "   9.364348482356291,\n",
       "   9.318139228269452,\n",
       "   8.5560223011161]]}"
      ]
     },
     "execution_count": 4,
     "metadata": {},
     "output_type": "execute_result"
    }
   ],
   "source": [
    "stats_model"
   ]
  },
  {
   "cell_type": "code",
   "execution_count": 5,
   "metadata": {},
   "outputs": [
    {
     "data": {
      "text/plain": [
       "{'size': 0,\n",
       " 'succ_mean': [77.84722222222223, 100.0],\n",
       " 'succ_std': [25.51599065921188, 0.0],\n",
       " 'dtw_mean': [34.18604442999413, 8.604433817308388],\n",
       " 'dtw_std': [35.24135265667852, 1.4023019388378102],\n",
       " 'succ_arr': [[0.7569444444444444,\n",
       "   0.3541666666666667,\n",
       "   0.9583333333333334,\n",
       "   0.8333333333333334,\n",
       "   0.9895833333333334],\n",
       "  [1.0, 1.0, 1.0, 1.0, 1.0]],\n",
       " 'dtw_arr': [[29.70962121262822,\n",
       "   96.0227437115244,\n",
       "   13.061956534262567,\n",
       "   19.32665020296945,\n",
       "   12.809250488586015],\n",
       "  [8.554986091480956,\n",
       "   7.711018314196703,\n",
       "   7.645261167138508,\n",
       "   11.027912988328836,\n",
       "   8.082990525396943]]}"
      ]
     },
     "execution_count": 5,
     "metadata": {},
     "output_type": "execute_result"
    }
   ],
   "source": [
    "stats_base"
   ]
  },
  {
   "cell_type": "code",
   "execution_count": 6,
   "metadata": {},
   "outputs": [
    {
     "data": {
      "text/plain": [
       "{'size': 0,\n",
       " 'succ_mean': [86.45833333333333, 100.0],\n",
       " 'succ_std': [12.023117842486656, 0.0],\n",
       " 'dtw_mean': [23.544503119599447, 8.531183092215468],\n",
       " 'dtw_std': [11.417332034776264, 1.2992468352140811],\n",
       " 'succ_arr': [[0.9513888888888888, 0.9027777777777778, 0.65625, 0.9375, 0.875],\n",
       "  [1.0, 1.0, 1.0, 1.0, 1.0]],\n",
       " 'dtw_arr': [[17.622069796820586,\n",
       "   23.62058618437235,\n",
       "   42.936513105578086,\n",
       "   13.726317936073132,\n",
       "   19.81702857515309],\n",
       "  [10.784244964074922,\n",
       "   8.266991442711552,\n",
       "   8.253018532939139,\n",
       "   7.4949271453381545,\n",
       "   7.856733376013583]]}"
      ]
     },
     "execution_count": 6,
     "metadata": {},
     "output_type": "execute_result"
    }
   ],
   "source": [
    "stats_abl"
   ]
  },
  {
   "cell_type": "code",
   "execution_count": 15,
   "metadata": {},
   "outputs": [
    {
     "name": "stdout",
     "output_type": "stream",
     "text": [
      "succ_arr\n",
      "1.7339095113733023 0.15591196119122386\n",
      "-\n",
      "dtw_arr\n",
      "-1.4144169263352275 0.2292864099452781\n",
      "===\n",
      "succ_arr\n",
      "nan nan\n",
      "-\n",
      "dtw_arr\n",
      "0.36553489733973626 0.7300298801841902\n",
      "===\n"
     ]
    }
   ],
   "source": [
    "for i in range(len(stats_model['succ_arr'])):\n",
    "    print(\"succ_arr\")\n",
    "    statistic, pvalue = ttest_ind(stats_model['succ_arr'][i], \n",
    "                                 stats_base['succ_arr'][i], equal_var=False)\n",
    "    print(statistic, pvalue)\n",
    "    print(\"-\")\n",
    "\n",
    "    print(\"dtw_arr\")\n",
    "    statistic, pvalue = ttest_ind(stats_model['dtw_arr'][i], \n",
    "                                 stats_base['dtw_arr'][i], equal_var=False)\n",
    "    print(statistic, pvalue)\n",
    "    print(\"===\")"
   ]
  },
  {
   "cell_type": "markdown",
   "metadata": {},
   "source": [
    "Visualization"
   ]
  },
  {
   "cell_type": "code",
   "execution_count": null,
   "metadata": {},
   "outputs": [],
   "source": []
  },
  {
   "cell_type": "code",
   "execution_count": 12,
   "metadata": {},
   "outputs": [
    {
     "data": {
      "image/png": "[encoded data removed]",
      "text/plain": [
       "<Figure size 1200x800 with 1 Axes>"
      ]
     },
     "metadata": {},
     "output_type": "display_data"
    },
    {
     "name": "stdout",
     "output_type": "stream",
     "text": [
      "{'DNFC': [11.822987199412651, 8.846052188148589], 'Baseline': [34.18604442999413, 8.604433817308388], 'DNFC-ablation': [23.544503119599447, 8.531183092215468]}\n",
      "{'DNFC': [2.8201747600194103, 0.4670660794771355], 'Baseline': [35.24135265667852, 1.4023019388378102], 'DNFC-ablation': [11.417332034776264, 1.2992468352140811]}\n"
     ]
    }
   ],
   "source": [
    "Ys = {\n",
    "    'DNFC': [x for x in stats_model['dtw_mean']],\n",
    "    'Baseline': [x for x in stats_base['dtw_mean']],\n",
    "    'DNFC-ablation': [x for x in stats_abl['dtw_mean']],\n",
    "    # 'DNFC-ablation': [x for x in stats['dist_mean_mse']],\n",
    "}\n",
    "\n",
    "errors = {\n",
    "    'DNFC': [x for x in stats_model['dtw_std']],\n",
    "    'Baseline': [x for x in stats_base['dtw_std']],\n",
    "    'DNFC-ablation': [x for x in stats_abl['dtw_std']],\n",
    "    # 'DNFC-ablation': [x for x in stats['dist_sem_mse']],\n",
    "}\n",
    "\n",
    "x = np.arange(len(model_params_list))  # the label locations\n",
    "width = 0.25  # the width of the bars\n",
    "multiplier = 0\n",
    "\n",
    "fig, ax = plt.subplots(layout='constrained', figsize=(12, 8))\n",
    "\n",
    "for attribute, measurement in Ys.items():\n",
    "    offset = width * multiplier\n",
    "    # print(attribute)\n",
    "    rects = ax.bar(x + offset, measurement, width, label=attribute, yerr=errors[attribute],\n",
    "                   error_kw={'capsize': 5})\n",
    "    # ax.bar_label(rects, fmt='%.2f', padding=3)\n",
    "    multiplier += 1\n",
    "\n",
    "# Add some text for labels, title and custom x-axis tick labels, etc.\n",
    "ax.set_ylabel('DTW')\n",
    "ax.set_xlabel(\"Approximate number of model parameters (x1e3)\")\n",
    "# ax.set_title('Robot Endpoint-Target Distance')\n",
    "ax.set_xticks(x + width, model_params_list)\n",
    "# ax.legend(loc='upper left', ncols=3)\n",
    "ax.legend()\n",
    "# ax.set_ylim(0, 250)\n",
    "plt.savefig(os.path.join(os.getcwd(), \"paper/dtw.png\"))\n",
    "plt.show()\n",
    "print(Ys)\n",
    "print(errors)"
   ]
  },
  {
   "cell_type": "code",
   "execution_count": 13,
   "metadata": {},
   "outputs": [
    {
     "data": {
      "image/png": "[encoded data removed]",
      "text/plain": [
       "<Figure size 1200x800 with 1 Axes>"
      ]
     },
     "metadata": {},
     "output_type": "display_data"
    },
    {
     "name": "stdout",
     "output_type": "stream",
     "text": [
      "{'DNFC': [97.77777777777779, 100.0], 'Baseline': [77.84722222222223, 100.0], 'DNFC-ablation': [86.45833333333333, 100.0]}\n",
      "{'DNFC': [3.0920328973462743, 0.0], 'Baseline': [25.51599065921188, 0.0], 'DNFC-ablation': [12.023117842486656, 0.0]}\n"
     ]
    }
   ],
   "source": [
    "Ys = {\n",
    "    'DNFC': [x for x in stats_model['succ_mean']],\n",
    "    'Baseline': [x for x in stats_base['succ_mean']],\n",
    "    'DNFC-ablation': [x for x in stats_abl['succ_mean']],\n",
    "    # 'DNFC-ablation': [x for x in stats['dist_mean_mse']],\n",
    "}\n",
    "\n",
    "errors = {\n",
    "    'DNFC': [x for x in stats_model['succ_std']],\n",
    "    'Baseline': [x for x in stats_base['succ_std']],\n",
    "    'DNFC-ablation': [x for x in stats_abl['succ_std']],\n",
    "    # 'DNFC-ablation': [x for x in stats['dist_sem_mse']],\n",
    "}\n",
    "\n",
    "x = np.arange(len(model_params_list))  # the label locations\n",
    "width = 0.25  # the width of the bars\n",
    "multiplier = 0\n",
    "\n",
    "fig, ax = plt.subplots(layout='constrained', figsize=(12, 8))\n",
    "\n",
    "for attribute, measurement in Ys.items():\n",
    "    offset = width * multiplier\n",
    "    # print(attribute)\n",
    "    rects = ax.bar(x + offset, measurement, width, label=attribute, yerr=errors[attribute],\n",
    "                   error_kw={'capsize': 5})\n",
    "    # ax.bar_label(rects, fmt='%.2f', padding=3)\n",
    "    multiplier += 1\n",
    "\n",
    "# Add some text for labels, title and custom x-axis tick labels, etc.\n",
    "ax.set_ylabel('Percentage of success')\n",
    "ax.set_xlabel(\"Approximate number of model parameters (x1e3)\")\n",
    "# ax.set_title('Robot Endpoint-Target Distance')\n",
    "ax.set_xticks(x + width, model_params_list)\n",
    "# ax.legend(loc='upper left', ncols=3)\n",
    "ax.legend()\n",
    "# ax.set_ylim(0, 250)\n",
    "plt.savefig(os.path.join(os.getcwd(), \"paper/succ.png\"))\n",
    "plt.show()\n",
    "print(Ys)\n",
    "print(errors)"
   ]
  },
  {
   "cell_type": "code",
   "execution_count": null,
   "metadata": {},
   "outputs": [],
   "source": [
    "bin_no = 5\n",
    "\n",
    "# Plot histograms for 'dnfc_succ' and 'basel_succ' side by side\n",
    "plt.figure(figsize=(8, 6))\n",
    "plt.hist(df[\"dnfc_succ\"], bins=bin_no, alpha=0.7, label='dnfc_succ', edgecolor='black')\n",
    "plt.hist(df[\"basel_succ\"], bins=bin_no, alpha=0.7, label='basel_succ', edgecolor='black')\n",
    "# plt.title(\"Histogram of dnfc_succ and basel_succ\", fontsize=14)\n",
    "plt.xlabel(\"Value\")\n",
    "plt.ylabel(\"Frequency\")\n",
    "plt.legend()\n",
    "plt.grid(axis='y', alpha=0.75)\n",
    "\n",
    "file_path = os.path.join(root_dir, \"succ_hist.png\")\n",
    "plt.savefig(file_path)\n",
    "plt.show()"
   ]
  },
  {
   "cell_type": "code",
   "execution_count": null,
   "metadata": {},
   "outputs": [],
   "source": [
    "bin_no = 10\n",
    "\n",
    "# Plot histograms for 'dnfc_succ' and 'basel_succ' side by side\n",
    "plt.figure(figsize=(8, 6))\n",
    "plt.hist(df[\"dnfc_dtw\"], bins=bin_no, alpha=0.5, label='dnfc_dtw', edgecolor='black')\n",
    "plt.hist(df[\"basel_dtw\"], bins=bin_no, alpha=0.5, label='basel_dtw', edgecolor='black')\n",
    "# plt.title(\"Histogram of dnfc_succ and basel_succ\", fontsize=14)\n",
    "plt.xlabel(\"Value\")\n",
    "plt.ylabel(\"Frequency\")\n",
    "plt.legend()\n",
    "plt.grid(axis='y', alpha=0.75)\n",
    "\n",
    "file_path = os.path.join(root_dir, \"dtw_hist.png\")\n",
    "plt.savefig(file_path)\n",
    "plt.show()\n"
   ]
  },
  {
   "cell_type": "code",
   "execution_count": null,
   "metadata": {},
   "outputs": [],
   "source": []
  },
  {
   "cell_type": "code",
   "execution_count": 2,
   "metadata": {},
   "outputs": [],
   "source": [
    "root_dir = \"/home/arash/catkin_ws/src/feedback_controller/fbc/neural_network/results/\"\n",
    "root_dir += \"trajs:360_blocks:3_triangle_v_7.541K/ep:1000/on_v_custl_const_1e-05\""
   ]
  },
  {
   "cell_type": "code",
   "execution_count": 8,
   "metadata": {},
   "outputs": [],
   "source": [
    "file_path = os.path.join(root_dir, \"all_states_dnfc\")\n",
    "with open(file_path, 'rb') as f:\n",
    "    all_states_dnfc = pickle.load(f)"
   ]
  },
  {
   "cell_type": "code",
   "execution_count": null,
   "metadata": {},
   "outputs": [],
   "source": [
    "eps_no = 27\n",
    "\n",
    "dnfc_data = all_states_dnfc[eps_no]"
   ]
  },
  {
   "cell_type": "code",
   "execution_count": null,
   "metadata": {},
   "outputs": [],
   "source": [
    "joint_vals = [timestep_data[4] for timestep_data in dnfc_data]\n",
    "timesteps = range(len(joint_vals))\n",
    "\n",
    "plt.figure(figsize=(10, 6))\n",
    "plt.plot(timesteps, joint_vals)\n",
    "plt.xlabel(\"Timestep\")\n",
    "plt.ylabel(\"Value\")\n",
    "# plt.title(\"Fifth Value Across Timesteps\")\n",
    "# plt.legend()\n",
    "plt.grid(True)\n",
    "plt.show()"
   ]
  },
  {
   "cell_type": "code",
   "execution_count": null,
   "metadata": {},
   "outputs": [],
   "source": []
  },
  {
   "cell_type": "markdown",
   "metadata": {},
   "source": [
    "### Loss"
   ]
  },
  {
   "cell_type": "code",
   "execution_count": 2,
   "metadata": {},
   "outputs": [],
   "source": [
    "root_dir = \"/home/arash/catkin_ws/src/feedback_controller/fbc/neural_network/weights/\"\n",
    "root_dir += \"trajs:360_blocks:3_triangle_v|0.8|cus_los_1e-05|tar_cart|v_custl_mse|7.541K_params/\"\n",
    "\n",
    "file_path = os.path.join(root_dir, \"train_no_0/loss.csv\")\n",
    "df = pd.read_csv(file_path)  "
   ]
  },
  {
   "cell_type": "code",
   "execution_count": null,
   "metadata": {},
   "outputs": [],
   "source": [
    "df.head()"
   ]
  },
  {
   "cell_type": "code",
   "execution_count": null,
   "metadata": {},
   "outputs": [],
   "source": [
    "# Filter the dataframe for n >= 10\n",
    "filtered_df = df[df[\"n\"] >= 10]\n",
    "\n",
    "# Plot train_loss_torques and val_loss_torques vs n\n",
    "plt.figure(figsize=(8, 6))\n",
    "plt.plot(filtered_df[\"n\"], filtered_df[\"train_loss_torques\"], marker='o', linestyle='-', label=\"Train Loss Torques\")\n",
    "plt.plot(filtered_df[\"n\"], filtered_df[\"val_loss_torques\"], marker='x', linestyle='-', label=\"Val Loss Torques\")\n",
    "plt.xlabel(\"n\")\n",
    "plt.ylabel(\"Loss\")\n",
    "plt.title(\"Train and Val Loss Torques vs n (n >= 10)\")\n",
    "plt.legend()\n",
    "plt.grid(True)\n",
    "plt.show()\n"
   ]
  },
  {
   "cell_type": "code",
   "execution_count": null,
   "metadata": {},
   "outputs": [],
   "source": [
    "filtered_df"
   ]
  },
  {
   "cell_type": "code",
   "execution_count": null,
   "metadata": {},
   "outputs": [],
   "source": []
  }
 ],
 "metadata": {
  "kernelspec": {
   "display_name": "dnfc2",
   "language": "python",
   "name": "python3"
  },
  "language_info": {
   "codemirror_mode": {
    "name": "ipython",
    "version": 3
   },
   "file_extension": ".py",
   "mimetype": "text/x-python",
   "name": "python",
   "nbconvert_exporter": "python",
   "pygments_lexer": "ipython3",
   "version": "3.9.21"
  }
 },
 "nbformat": 4,
 "nbformat_minor": 2
}
