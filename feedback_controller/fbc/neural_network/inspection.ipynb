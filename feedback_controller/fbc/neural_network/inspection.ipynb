{
 "cells": [
  {
   "cell_type": "code",
   "execution_count": 3,
   "metadata": {},
   "outputs": [
    {
     "name": "stdout",
     "output_type": "stream",
     "text": [
      "0.120292 M parameters\n",
      "Output shape: torch.Size([1, 4])\n"
     ]
    }
   ],
   "source": [
    "import torch\n",
    "import torch.nn as nn\n",
    "\n",
    "class TinyConvNet(nn.Module):\n",
    "    def __init__(self):\n",
    "        super(TinyConvNet, self).__init__()\n",
    "        self.conv1 = nn.Conv2d(in_channels=3, out_channels=16, kernel_size=3, stride=1, padding=1)\n",
    "        self.relu = nn.ReLU()\n",
    "        self.maxpool = nn.MaxPool2d(kernel_size=2, stride=2)\n",
    "        self.conv2 = nn.Conv2d(in_channels=16, out_channels=32, kernel_size=3, stride=1, padding=1)\n",
    "        self.fc = nn.Linear(32 * 30 * 30, 4)  # Assuming input image size is 480x480 after pooling\n",
    "\n",
    "    def forward(self, x):\n",
    "        x = self.conv1(x)\n",
    "        x = self.relu(x)\n",
    "        x = self.maxpool(x)\n",
    "        x = self.conv2(x)\n",
    "        x = self.relu(x)\n",
    "        x = self.maxpool(x)\n",
    "        x = x.view(x.size(0), -1)  # Flatten the output of conv layers\n",
    "        x = self.fc(x)\n",
    "        return x\n",
    "\n",
    "# Example usage\n",
    "# Initialize the network\n",
    "net = TinyConvNet()\n",
    "print(sum(p.numel() for p in net.parameters())/1e6, 'M parameters')\n",
    "\n",
    "# Example input tensor (batch_size, channels, height, width)\n",
    "input_tensor = torch.randn(1, 3, 120, 120)\n",
    "\n",
    "# Forward pass\n",
    "output = net(input_tensor)\n",
    "print(\"Output shape:\", output.shape)  # Output shape should be (batch_size, 4)\n"
   ]
  },
  {
   "cell_type": "code",
   "execution_count": null,
   "metadata": {},
   "outputs": [],
   "source": []
  },
  {
   "cell_type": "code",
   "execution_count": 1,
   "metadata": {},
   "outputs": [
    {
     "name": "stdout",
     "output_type": "stream",
     "text": [
      "t torch.Size([10])\n",
      "torch.Size([10, 4])\n",
      "torch.Size([10, 4])\n"
     ]
    }
   ],
   "source": [
    "import torch\n",
    "import torch.nn as nn\n",
    "import math\n",
    "\n",
    "class CustomLoss(nn.Module):\n",
    "    def __init__(self, T, C, D, E):\n",
    "        super(CustomLoss, self).__init__()\n",
    "        self.criterion = nn.MSELoss()\n",
    "        self.T = T\n",
    "        self.C = C\n",
    "        self.D = D\n",
    "        self.E = E\n",
    "\n",
    "    def forward(self, action_predicted, action_ground_truth, x_des, x_t, t):\n",
    "        t = t / self.T\n",
    "        loss_torques = self.criterion(action_predicted, action_ground_truth)\n",
    "        \n",
    "        # loss_latent = self.C * self.criterion(x_des, x_t)\n",
    "        # exp = math.exp(self.D * (t - (self.T / self.T)))\n",
    "        # loss_latent *= exp\n",
    "        # x_des = x_des[:, :2] # (batch_size, 2)\n",
    "        # x_t = x_t[:, :2] # (batch_size, 2)\n",
    "\n",
    "        rescale_vector = torch.tensor([1, 1, 0.0, 0.0], dtype=torch.float64)\n",
    "        # print(x_des.shape)\n",
    "        x_des *= rescale_vector\n",
    "        x_t *= rescale_vector\n",
    "        # print(x_des.shape)\n",
    "\n",
    "        mse_latent = torch.mean((x_des - x_t).pow(2), dim=1) #(batch_size, 1)\n",
    "        exp = torch.exp(self.D * (t - self.E)) #(batch_size, 1)\n",
    "        scalar = self.C * exp\n",
    "        scaled_mse_latent = scalar * mse_latent\n",
    "        average_scaled_mse_latent = torch.mean(scaled_mse_latent) #(1, 1)\n",
    "\n",
    "        return loss_torques + average_scaled_mse_latent, loss_torques\n",
    "    \n",
    "    \n",
    "T = 49 \n",
    "C = 1\n",
    "D = 5\n",
    "E = 1\n",
    "\n",
    "criterion = CustomLoss(T, C, D, E)\n",
    "\n",
    "batch_size = 10\n",
    "act_pred = torch.randn(batch_size, 2)\n",
    "act_truth = torch.randn(batch_size, 2)\n",
    "x_des = torch.randn(batch_size, 4)\n",
    "x_t = torch.randn(batch_size, 4)\n",
    "t = torch.randint(low=0, high=50, size=(batch_size, ))\n",
    "print(\"t\", t.shape)\n",
    "loss_custom, loss_torques = criterion(act_pred, act_truth, x_des, x_t, t)"
   ]
  },
  {
   "cell_type": "code",
   "execution_count": 15,
   "metadata": {},
   "outputs": [
    {
     "data": {
      "text/plain": [
       "0.01250504"
      ]
     },
     "execution_count": 15,
     "metadata": {},
     "output_type": "execute_result"
    }
   ],
   "source": [
    "# 2.0244 * 0.0345\n",
    "0.8227 * 0.0152"
   ]
  },
  {
   "cell_type": "code",
   "execution_count": 4,
   "metadata": {},
   "outputs": [
    {
     "name": "stdout",
     "output_type": "stream",
     "text": [
      "x_des torch.Size([10, 4])\n",
      "x_des torch.Size([10, 4])\n",
      "diff torch.Size([10, 4])\n"
     ]
    }
   ],
   "source": [
    "import torch\n",
    "import torch.nn as nn\n",
    "import math\n",
    "import torch.nn.functional as F\n",
    "\n",
    "class MLP(nn.Module):\n",
    "    def __init__(self, inp_dim, enc_dim, out_dim):\n",
    "        super().__init__()\n",
    "        # super(MLP, self).__init__()\n",
    "\n",
    "        self.linear = nn.Sequential(\n",
    "            nn.Linear(inp_dim, enc_dim),\n",
    "            nn.ReLU(True),\n",
    "            nn.Linear(enc_dim, enc_dim),\n",
    "            nn.ReLU(True),\n",
    "            nn.Linear(enc_dim, out_dim),\n",
    "            # nn.Tanh()\n",
    "            # nn.ReLU(True),\n",
    "            # nn.Linear(128, encoded_space_dim)\n",
    "        )\n",
    "\n",
    "    def forward(self, x):\n",
    "        x = self.linear(x)\n",
    "        return x\n",
    "\n",
    "\n",
    "class GeneralModel(nn.Module):\n",
    "    def __init__(self, encoded_space_dim):\n",
    "        super().__init__()\n",
    "        # super(GeneralModel, self).__init__()\n",
    "\n",
    "        # self.alexnet = AlexNetPT(encoded_space_dim)\n",
    "        # self.enc = Encoder(encoded_space_dim)\n",
    "        # self.enc = TinyConvNet(encoded_space_dim)\n",
    "        self.enc = MLP(2, 64, encoded_space_dim)\n",
    "\n",
    "        # self.mlp_state = MLP(4, 128, encoded_space_dim)\n",
    "        self.mlp_controller = MLP(encoded_space_dim, 128, 2)\n",
    "        # Set the bias of the last linear layer to 0\n",
    "        self.mlp_controller.linear[2].bias.data.fill_(0.0)\n",
    "\n",
    "    def forward(self, target_pos, state):\n",
    "        # x = self.mlp_state(state)\n",
    "        x = state\n",
    "\n",
    "        # x_des = self.alexnet(img_tensor)\n",
    "        x_des = self.enc(target_pos)\n",
    "        \n",
    "        print(\"x_des\", x_des.shape)\n",
    "        x_des = torch.squeeze(x_des, 0) # (1, encoded_space_dim)\n",
    "        print(\"x_des\", x_des.shape)\n",
    "        diff = x_des - x\n",
    "        print(\"diff\", diff.shape)\n",
    "\n",
    "        acts_pred = F.tanh(self.mlp_controller(diff))\n",
    "\n",
    "        return acts_pred, x_des, diff\n",
    "\n",
    "\n",
    "batch_size = 10\n",
    "target_pos = torch.randn(batch_size, 2)\n",
    "state = torch.randn(batch_size, 4)\n",
    "\n",
    "model = GeneralModel(4)\n",
    "act_pred, x_des, diff = model(target_pos, state)\n"
   ]
  },
  {
   "cell_type": "code",
   "execution_count": null,
   "metadata": {},
   "outputs": [],
   "source": []
  },
  {
   "cell_type": "code",
   "execution_count": 1,
   "metadata": {},
   "outputs": [
    {
     "data": {
      "image/png": "[encoded data removed]",
      "text/plain": [
       "<Figure size 800x600 with 1 Axes>"
      ]
     },
     "metadata": {},
     "output_type": "display_data"
    }
   ],
   "source": [
    "import numpy as np\n",
    "import matplotlib.pyplot as plt\n",
    "import os\n",
    "\n",
    "# Constants\n",
    "C = 1 #10 #5  # You can change the value of C as per your requirement\n",
    "D = 3 #5 #10 # You can change the value of D as per your requirement\n",
    "E = 1\n",
    "\n",
    "# Define the function\n",
    "def custom_function(t):\n",
    "    return C * np.exp(D * (t - E))\n",
    "\n",
    "# Generate values for t in the range [0, 1]\n",
    "t_values = np.linspace(0, 1, 200)  # 1000 points between 0 and 1\n",
    "\n",
    "# Calculate corresponding function values\n",
    "function_values = custom_function(t_values)\n",
    "\n",
    "# Plot the function\n",
    "plt.figure(figsize=(8, 6))\n",
    "plt.plot(t_values, function_values, label=f'{C} * exp({D} * (t - {E}))')\n",
    "plt.xlabel('t')\n",
    "plt.ylabel('Function Value')\n",
    "plt.title(f'Plot of the function {C} * exp({D} * (t - {E}))')\n",
    "plt.legend()\n",
    "\n",
    "plt.xticks(np.arange(0, 1.1, 0.1))  # Set x-axis grid at every integer from 0 to 1\n",
    "plt.yticks(np.trajsarange(0, 2, 0.1))  # Set y-axis grid at every integer from 0 to 10\n",
    "plt.ylim(0, 3)\n",
    "\n",
    "plt.grid(True)\n",
    "plt.savefig(os.path.join(os.getcwd(), \"tmp_result/loss.png\"))\n",
    "plt.show()\n"
   ]
  },
  {
   "cell_type": "code",
   "execution_count": 10,
   "metadata": {},
   "outputs": [
    {
     "name": "stdout",
     "output_type": "stream",
     "text": [
      "1.0\n",
      "0.011108996538242306\n"
     ]
    }
   ],
   "source": [
    "print(custom_function(49/49))\n",
    "print(custom_function(20/200))"
   ]
  },
  {
   "cell_type": "code",
   "execution_count": null,
   "metadata": {},
   "outputs": [],
   "source": []
  },
  {
   "cell_type": "code",
   "execution_count": 10,
   "metadata": {},
   "outputs": [
    {
     "name": "stdout",
     "output_type": "stream",
     "text": [
      "(1000, 50, 9)\n"
     ]
    }
   ],
   "source": [
    "import os\n",
    "import torch\n",
    "import torch.nn as nn\n",
    "from torch.utils.data import Dataset\n",
    "from torchvision import datasets\n",
    "from torchvision import transforms\n",
    "from torchvision.io import read_image\n",
    "from torch.utils.data import DataLoader\n",
    "\n",
    "class TrajectoryDataset(Dataset):\n",
    "    def __init__(self, data_root_dir, file_adr, transform=None):\n",
    "        self.trajectories = np.load(data_root_dir + file_adr)\n",
    "        print(self.trajectories.shape)\n",
    "        self.data_root_dir = data_root_dir\n",
    "        self.transform = transform\n",
    "\n",
    "    def __len__(self):\n",
    "        return 1000 * 50\n",
    "        # return 70*49\n",
    "\n",
    "    def __getitem__(self, idx):\n",
    "        traj_no = idx // 50\n",
    "        step_no = idx % 50\n",
    "\n",
    "        step = self.trajectories[traj_no, step_no, 0]\n",
    "        state = self.trajectories[traj_no, step_no, 1:5]\n",
    "        target_pos = self.trajectories[traj_no, step_no, 5:7]\n",
    "        action = self.trajectories[traj_no, step_no, 7:]\n",
    "\n",
    "        # image = Image.open(self.data_root_dir + f\"/scene_images/goal_{traj_no}.png\")\n",
    "        # if self.transform:\n",
    "        #     image = self.transform(image)\n",
    "\n",
    "        return step, state, target_pos, action\n",
    "    \n",
    "\n",
    "# transform = transforms.Compose([\n",
    "#                 transforms.Resize([120, 120]),\n",
    "#                 # transforms.RandomHorizontalFlip(), # Flip the data horizontally\n",
    "#                 transforms.ToTensor(),\n",
    "#                 # transforms.Normalize(mean=(0.5,0.5,0.5), std=(0.5,0.5,0.5))\n",
    "#             ])\n",
    "dir_name = \".\"#os.path.dirname(__file__)\n",
    "dataset_name = \"1K_cartesian_w_step\"\n",
    "batch_size = 32\n",
    "dataset = TrajectoryDataset(dir_name + f'/data/{dataset_name}/0', '/trajectories_normalized.npy')\n",
    "train_set, val_set = torch.utils.data.random_split(dataset, [0.9, 0.1])\n",
    "train_dataloader = DataLoader(train_set, batch_size=batch_size, shuffle=True)\n",
    "val_dataloader = DataLoader(val_set, batch_size=batch_size, shuffle=False)"
   ]
  },
  {
   "cell_type": "code",
   "execution_count": 4,
   "metadata": {},
   "outputs": [
    {
     "name": "stdout",
     "output_type": "stream",
     "text": [
      "tensor([[-1.3480, -0.5244,  1.5999,  0.9089],\n",
      "        [-1.8859,  0.5702,  1.4260,  0.7666],\n",
      "        [-0.2379,  0.3068, -1.3214, -1.3079]])\n"
     ]
    },
    {
     "data": {
      "text/plain": [
       "tensor([[-1.3480, -0.5244,  0.1600,  0.0909],\n",
       "        [-1.8859,  0.5702,  0.1426,  0.0767],\n",
       "        [-0.2379,  0.3068, -0.1321, -0.1308]])"
      ]
     },
     "execution_count": 4,
     "metadata": {},
     "output_type": "execute_result"
    }
   ],
   "source": [
    "import torch\n",
    "\n",
    "batch_size = 3\n",
    "act_pred = torch.randn(batch_size, 4)\n",
    "rescale_vector = torch.tensor([1, 1, 0.1, 0.1], dtype=torch.float32)\n",
    "print(act_pred)\n",
    "act_pred*rescale_vector"
   ]
  },
  {
   "cell_type": "code",
   "execution_count": null,
   "metadata": {},
   "outputs": [],
   "source": []
  },
  {
   "cell_type": "code",
   "execution_count": 2,
   "metadata": {},
   "outputs": [],
   "source": [
    "import numpy as np\n",
    "\n",
    "num_params = [\"0.27\", \"0.57\", \"1.846\"]\n",
    "num_params_base = [\"0.269\", \"0.575\", \"1.806\"]\n",
    "\n",
    "for i in range(len(num_params)):\n",
    "    n_p = num_params[i]\n",
    "    n_p_b = num_params_base[i]\n",
    "\n",
    "    results_root_path = \"./test_results/466_man_tra|cus_los_5_10_1|st_vel_norm\"\n",
    "    results_root_path += f\"|tar_cart|{n_p}K_params|epoch_1200\"\n",
    "\n",
    "    loss_torques_value_trains = np.load(results_root_path + \\\n",
    "                                                    \"/loss_torques_value_trains.npy\")\n",
    "    \n",
    "    break"
   ]
  },
  {
   "cell_type": "code",
   "execution_count": 5,
   "metadata": {},
   "outputs": [
    {
     "data": {
      "text/plain": [
       "array([[1.75161045, 1.7237823 , 1.68088485, 1.69851039, 2.00452566],\n",
       "       [1.36258173, 1.39338349, 1.28268452, 1.33953193, 1.62887984],\n",
       "       [1.16691254, 1.37057928, 1.1099989 , 1.22319595, 1.24395918],\n",
       "       [0.66343274, 0.63163631, 0.56455241, 0.69700024, 0.79249429],\n",
       "       [0.61742273, 0.71223477, 0.43436044, 0.81787861, 0.79718367]])"
      ]
     },
     "execution_count": 5,
     "metadata": {},
     "output_type": "execute_result"
    }
   ],
   "source": [
    "loss_torques_value_trains/100"
   ]
  },
  {
   "cell_type": "code",
   "execution_count": null,
   "metadata": {},
   "outputs": [],
   "source": []
  },
  {
   "cell_type": "code",
   "execution_count": 29,
   "metadata": {},
   "outputs": [],
   "source": [
    "import numpy as np \n",
    "import math\n",
    "\n",
    "def get_line_equation(x1, y1, x2, y2):\n",
    "    # Calculate the slope\n",
    "    slope = (y2 - y1) / ((x2 - x1)+1e-10) \n",
    "    # Calculate the y-intercept (b) using one of the points\n",
    "    b = y1 - slope * x1\n",
    "\n",
    "    return slope, b"
   ]
  },
  {
   "cell_type": "code",
   "execution_count": 36,
   "metadata": {},
   "outputs": [
    {
     "ename": "TypeError",
     "evalue": "arctan2() takes from 2 to 3 positional arguments but 1 were given",
     "output_type": "error",
     "traceback": [
      "\u001b[0;31m---------------------------------------------------------------------------\u001b[0m",
      "\u001b[0;31mTypeError\u001b[0m                                 Traceback (most recent call last)",
      "Cell \u001b[0;32mIn[36], line 2\u001b[0m\n\u001b[1;32m      1\u001b[0m s, b \u001b[38;5;241m=\u001b[39m get_line_equation(\u001b[38;5;241m1\u001b[39m, \u001b[38;5;241m1\u001b[39m, \u001b[38;5;241m2\u001b[39m, \u001b[38;5;241m2\u001b[39m)\n\u001b[0;32m----> 2\u001b[0m alpha \u001b[38;5;241m=\u001b[39m \u001b[43mnp\u001b[49m\u001b[38;5;241;43m.\u001b[39;49m\u001b[43marctan2\u001b[49m\u001b[43m(\u001b[49m\u001b[43ms\u001b[49m\u001b[43m)\u001b[49m\n\u001b[1;32m      3\u001b[0m d \u001b[38;5;241m=\u001b[39m \u001b[38;5;241m0.001\u001b[39m\n\u001b[1;32m      4\u001b[0m x \u001b[38;5;241m=\u001b[39m \u001b[38;5;241m0.10\u001b[39m\n",
      "\u001b[0;31mTypeError\u001b[0m: arctan2() takes from 2 to 3 positional arguments but 1 were given"
     ]
    }
   ],
   "source": [
    "s, b = get_line_equation(1, 1, 2, 2)\n",
    "alpha = np.arctan(s)\n",
    "alpha = np.arctan()\n",
    "d = 0.001\n",
    "x = 0.10\n",
    "y = 0.10\n",
    "print(y+d*np.sin(alpha))\n",
    "print(x+d*np.cos(alpha))\n",
    "print(alpha)"
   ]
  },
  {
   "cell_type": "code",
   "execution_count": 34,
   "metadata": {},
   "outputs": [
    {
     "name": "stdout",
     "output_type": "stream",
     "text": [
      "0.101\n",
      "0.10000000000010001\n",
      "1.5707963266948965\n"
     ]
    }
   ],
   "source": [
    "s, b = get_line_equation(0, 1, 0, 2)\n",
    "alpha = np.arctan(s)\n",
    "d = 0.001\n",
    "x = 0.10\n",
    "y = 0.10\n",
    "print(y+d*np.sin(alpha))\n",
    "print(x+d*np.cos(alpha))\n",
    "print(alpha)"
   ]
  },
  {
   "cell_type": "code",
   "execution_count": 35,
   "metadata": {},
   "outputs": [
    {
     "name": "stdout",
     "output_type": "stream",
     "text": [
      "0.09929289321884881\n",
      "0.10070710678122191\n",
      "-0.7853981633474483\n"
     ]
    }
   ],
   "source": [
    "s, b = get_line_equation(-2, 2, -1, 1)\n",
    "alpha = np.arctan(s)\n",
    "d = 0.001\n",
    "x = 0.10\n",
    "y = 0.10\n",
    "print(y+d*np.sin(alpha))\n",
    "print(x+d*np.cos(alpha))\n",
    "print(alpha)"
   ]
  },
  {
   "cell_type": "code",
   "execution_count": 83,
   "metadata": {},
   "outputs": [
    {
     "name": "stdout",
     "output_type": "stream",
     "text": [
      "s (4.148937818729735, -7.5152554883358675) e (4.911527792338497, 8.819361184962315)\n",
      "(0.04663472049842385, 0.9989120095604185) 0.9999999999999997\n",
      "(0.046634720498423834, 0.9989120095604186) 0.9999999999999999\n",
      "(0.046634720498423814, 0.9989120095604187) 1.0\n",
      "(0.046634720498423786, 0.9989120095604186) 0.9999999999999999\n",
      "(0.046634720498423765, 0.9989120095604187) 1.0\n",
      "(0.04663472049842374, 0.9989120095604186) 0.9999999999999999\n",
      "(0.04663472049842371, 0.9989120095604187) 1.0\n",
      "(0.04663472049842367, 0.9989120095604186) 0.9999999999999999\n",
      "(0.04663472049842364, 0.9989120095604187) 1.0\n",
      "(0.04663472049842368, 0.9989120095604187) 1.0\n"
     ]
    },
    {
     "data": {
      "image/png": "[encoded data removed]",
      "text/plain": [
       "<Figure size 800x800 with 1 Axes>"
      ]
     },
     "metadata": {},
     "output_type": "display_data"
    }
   ],
   "source": [
    "import random\n",
    "import math\n",
    "import matplotlib.pyplot as plt\n",
    "\n",
    "# Function to calculate distance between two points\n",
    "def distance(point1, point2):\n",
    "    return math.sqrt((point2[0] - point1[0])**2 + (point2[1] - point1[1])**2)\n",
    "\n",
    "# Function to calculate unit vector\n",
    "def unit_vector(point1, point2):\n",
    "    dx = point2[0] - point1[0]\n",
    "    dy = point2[1] - point1[1]\n",
    "    length = distance(point1, point2)\n",
    "    return (dx/length, dy/length)\n",
    "\n",
    "# Function to displace along the line between two points\n",
    "def displace_along_line(start_point, end_point, epsilon):\n",
    "    unit_vec = unit_vector(start_point, end_point)\n",
    "    print(unit_vec, unit_vec[0]**2 + unit_vec[1]**2)\n",
    "    displacement = (unit_vec[0] * epsilon, unit_vec[1] * epsilon)\n",
    "    return (start_point[0] + displacement[0], start_point[1] + displacement[1])\n",
    "\n",
    "# Generate random start and end points\n",
    "start_point = (random.uniform(-10, 10), random.uniform(-10, 10))\n",
    "end_point = (random.uniform(-10, 10), random.uniform(-10, 10))\n",
    "\n",
    "# Set epsilon (displacement amount)\n",
    "epsilon = 0.5\n",
    "\n",
    "# Number of iterations\n",
    "iterations = 10\n",
    "\n",
    "# Plotting\n",
    "plt.figure(figsize=(8, 8))\n",
    "plt.plot([start_point[0], end_point[0]], [start_point[1], end_point[1]], 'b-', label='Line')\n",
    "# plt.plot([start_point[0], start_point[1]], [end_point[0], end_point[1]], 'b-', label='Line')\n",
    "plt.scatter(start_point[0], start_point[1], color='green', marker='x', label='Start Point')\n",
    "plt.scatter(end_point[0], end_point[1], color='black', marker='x', label='End Point')\n",
    "\n",
    "# Iterate and displace along the line\n",
    "print(\"s\", start_point, \"e\", end_point)\n",
    "for i in range(iterations):\n",
    "    new_point = displace_along_line(start_point, end_point, epsilon)\n",
    "    plt.scatter(new_point[0], new_point[1], color='purple', label='Displacement' if i == 0 else None)\n",
    "    plt.plot([start_point[0], new_point[0]], [start_point[1], new_point[1]], \n",
    "             color='yellow', linestyle='--')\n",
    "    # print(\"Iteration:\", i+1, \"New point:\", new_point)\n",
    "    # Update start_point for next iteration\n",
    "    start_point = new_point\n",
    "\n",
    "plt.xlabel('X')\n",
    "plt.ylabel('Y')\n",
    "plt.title('Line and Displacement')\n",
    "plt.legend()\n",
    "plt.grid(True)\n",
    "plt.show()"
   ]
  },
  {
   "cell_type": "code",
   "execution_count": 74,
   "metadata": {},
   "outputs": [
    {
     "name": "stdout",
     "output_type": "stream",
     "text": [
      "### [0.5547002  0.83205029]\n",
      "(1.2773500981126147, 1.4160251471689218)\n",
      "(1.5547001962252294, 1.8320502943378436)\n",
      "(1.832050294337844, 2.2480754415067654)\n",
      "(2.1094003924504587, 2.664100588675687)\n",
      "(2.3867504905630734, 3.080125735844609)\n",
      "(2.664100588675688, 3.496150883013531)\n",
      "(2.941450686788303, 3.9121760301824526)\n",
      "(3.2188007849009175, 4.328201177351374)\n",
      "(3.496150883013532, 4.744226324520296)\n",
      "(3.773500981126147, 5.160251471689218)\n",
      "(4.050851079238761, 5.57627661885814)\n",
      "(4.328201177351375, 5.992301766027062)\n",
      "(4.60555127546399, 6.4083269131959835)\n",
      "(4.882901373576604, 6.824352060364905)\n"
     ]
    }
   ],
   "source": [
    "import numpy as np\n",
    "\n",
    "def displacement(start_point, end_point, epsilon):\n",
    "    # Convert points to numpy arrays for easier computation\n",
    "    start_point = np.array(start_point)\n",
    "    end_point = np.array(end_point)\n",
    "    \n",
    "    # Calculate the vector representing the direction from start_point to end_point\n",
    "    direction_vector = end_point - start_point\n",
    "    \n",
    "    # Calculate the unit vector in the direction of the line\n",
    "    unit_vector = direction_vector / np.linalg.norm(direction_vector)\n",
    "    print(\"###\", unit_vector)\n",
    "    \n",
    "    # Initialize current position as start_point\n",
    "    current_position = start_point.copy()\n",
    "    \n",
    "    # Iterate and displace epsilon amount towards end_point\n",
    "    while np.linalg.norm(current_position - end_point) >= epsilon:\n",
    "        # Move epsilon distance towards end_point along the direction vector\n",
    "        current_position += epsilon * unit_vector\n",
    "        yield tuple(current_position)\n",
    "\n",
    "# Example usage:\n",
    "start_point = (1.0, 1.0)\n",
    "end_point = (5, 7)\n",
    "epsilon = 0.5\n",
    "\n",
    "# Iterate over the displaced points\n",
    "for point in displacement(start_point, end_point, epsilon):\n",
    "    print(point)\n"
   ]
  },
  {
   "cell_type": "code",
   "execution_count": null,
   "metadata": {},
   "outputs": [],
   "source": []
  },
  {
   "cell_type": "code",
   "execution_count": 1,
   "metadata": {},
   "outputs": [],
   "source": [
    "import numpy as np"
   ]
  },
  {
   "cell_type": "code",
   "execution_count": 4,
   "metadata": {},
   "outputs": [
    {
     "data": {
      "text/plain": [
       "(815, 50, 3, 1)"
      ]
     },
     "execution_count": 4,
     "metadata": {},
     "output_type": "execute_result"
    }
   ],
   "source": [
    "array = np.load('./data/obs_final.npy', allow_pickle=True, encoding='latin1')\n",
    "array.shape"
   ]
  },
  {
   "cell_type": "code",
   "execution_count": 6,
   "metadata": {},
   "outputs": [
    {
     "data": {
      "text/plain": [
       "array([[0],\n",
       "       [array([0.95378724, 0.24798383, 0.99937049, 1.35779412, 0.79928581,\n",
       "               0.13905992, 0.12295033])                                   ],\n",
       "       [array([ 0.        ,  0.        ,  0.34413712,  0.39380216,  1.3167559 ,\n",
       "                1.71655127, -1.5071147 , -1.30665576,  1.13387109,  0.        ])]],\n",
       "      dtype=object)"
      ]
     },
     "execution_count": 6,
     "metadata": {},
     "output_type": "execute_result"
    }
   ],
   "source": [
    "array[0][0]"
   ]
  },
  {
   "cell_type": "code",
   "execution_count": null,
   "metadata": {},
   "outputs": [],
   "source": []
  },
  {
   "cell_type": "code",
   "execution_count": 6,
   "metadata": {},
   "outputs": [
    {
     "name": "stdout",
     "output_type": "stream",
     "text": [
      "torch.Size([32, 7])\n",
      "torch.Size([7])\n"
     ]
    }
   ],
   "source": [
    "import torch\n",
    "\n",
    "# Sample tensors tensor_a and tensor_b of size 32x7\n",
    "tensor_a = torch.randn(32, 7)\n",
    "tensor_b = torch.randn(32, 7)\n",
    "\n",
    "# Compute the absolute difference\n",
    "abs_diff = torch.abs(tensor_a - tensor_b)\n",
    "print(abs_diff.shape)\n",
    "\n",
    "# Compute the mean of the absolute differences along dimension 0 (rows)\n",
    "result = torch.mean(abs_diff, dim=0)\n",
    "\n",
    "print(result.shape)\n"
   ]
  },
  {
   "cell_type": "code",
   "execution_count": 8,
   "metadata": {},
   "outputs": [
    {
     "name": "stdout",
     "output_type": "stream",
     "text": [
      "torch.Size([7])\n"
     ]
    }
   ],
   "source": [
    "print(result.size())"
   ]
  },
  {
   "cell_type": "code",
   "execution_count": 9,
   "metadata": {},
   "outputs": [
    {
     "data": {
      "text/plain": [
       "tensor([1.0217, 1.0456, 1.1665, 1.2228, 1.0123, 1.1400, 1.2556])"
      ]
     },
     "execution_count": 9,
     "metadata": {},
     "output_type": "execute_result"
    }
   ],
   "source": [
    "result"
   ]
  },
  {
   "cell_type": "code",
   "execution_count": 11,
   "metadata": {},
   "outputs": [
    {
     "data": {
      "text/plain": [
       "1.045613408088684"
      ]
     },
     "execution_count": 11,
     "metadata": {},
     "output_type": "execute_result"
    }
   ],
   "source": [
    "result[1].item()"
   ]
  },
  {
   "cell_type": "code",
   "execution_count": 30,
   "metadata": {},
   "outputs": [],
   "source": [
    "import pickle\n",
    "import numpy as np\n",
    "\n",
    "with open('./weights/815_trajs_static|cus_los_5_10_1|tar_cart|45.333K_params/train_no_0/info.pickle', 'rb') as handle:\n",
    "    train_info = pickle.load(handle)"
   ]
  },
  {
   "cell_type": "code",
   "execution_count": 31,
   "metadata": {},
   "outputs": [
    {
     "data": {
      "text/plain": [
       "{'mae_joint_1_val': [0.26852163672447205,\n",
       "  0.033704765141010284,\n",
       "  0.016566550359129906,\n",
       "  0.01693328656256199,\n",
       "  0.014870665036141872,\n",
       "  0.008178610354661942,\n",
       "  0.011552088893949986,\n",
       "  0.016923733055591583,\n",
       "  0.00878257118165493,\n",
       "  0.012893233448266983,\n",
       "  0.012214136309921741,\n",
       "  0.010287226177752018,\n",
       "  0.01214129664003849,\n",
       "  0.01658087782561779,\n",
       "  0.010347940027713776,\n",
       "  0.01154912170022726,\n",
       "  0.01319499034434557,\n",
       "  0.01335305068641901,\n",
       "  0.015974802896380424,\n",
       "  0.016094140708446503,\n",
       "  0.014884638600051403,\n",
       "  0.015091034583747387,\n",
       "  0.011653183959424496,\n",
       "  0.014001808129251003,\n",
       "  0.013740289025008678,\n",
       "  0.009688280522823334,\n",
       "  0.01099972054362297,\n",
       "  0.010429061017930508,\n",
       "  0.007617153227329254,\n",
       "  0.012672141194343567,\n",
       "  0.00930751021951437,\n",
       "  0.009840307757258415,\n",
       "  0.018065501004457474,\n",
       "  0.009812978096306324,\n",
       "  0.011294678784906864,\n",
       "  0.008895433507859707,\n",
       "  0.011843254789710045,\n",
       "  0.008137794211506844,\n",
       "  0.014961645007133484,\n",
       "  0.007366584148257971,\n",
       "  0.010310426354408264,\n",
       "  0.01431648712605238,\n",
       "  0.007811837363988161,\n",
       "  0.012580934911966324,\n",
       "  0.018819278106093407,\n",
       "  0.00870366021990776],\n",
       " 'mae_joint_1_train': [0.04520486667752266,\n",
       "  0.03014514595270157,\n",
       "  0.03480316326022148,\n",
       "  0.013098414056003094,\n",
       "  0.00887333881109953,\n",
       "  0.04766358435153961,\n",
       "  0.03590289503335953,\n",
       "  0.020201874896883965,\n",
       "  0.0644911378622055,\n",
       "  0.0564875602722168,\n",
       "  0.024536987766623497,\n",
       "  0.03852669522166252,\n",
       "  0.004271318670362234,\n",
       "  0.0031070206314325333,\n",
       "  0.012278812937438488,\n",
       "  0.013670064508914948,\n",
       "  0.03701190650463104,\n",
       "  0.008365360088646412,\n",
       "  0.019653180614113808,\n",
       "  0.004721268080174923,\n",
       "  0.012597615830600262,\n",
       "  0.01662738062441349,\n",
       "  0.047133367508649826,\n",
       "  0.015604537911713123,\n",
       "  0.004085874650627375,\n",
       "  0.0073201521299779415,\n",
       "  0.03343529626727104,\n",
       "  0.008552937768399715,\n",
       "  0.01374360453337431,\n",
       "  0.005566457286477089,\n",
       "  0.020360425114631653,\n",
       "  0.039084743708372116,\n",
       "  0.041155993938446045,\n",
       "  0.00993334036320448,\n",
       "  0.017515024170279503,\n",
       "  0.008515520952641964,\n",
       "  0.019977951422333717,\n",
       "  0.022274112328886986,\n",
       "  0.03182877227663994,\n",
       "  0.009196062572300434,\n",
       "  0.007282985839992762,\n",
       "  0.002003511181101203,\n",
       "  0.010539203882217407,\n",
       "  0.005386886652559042,\n",
       "  0.017131490632891655],\n",
       " 'mae_joint_2_val': [0.09743509441614151,\n",
       "  0.017725780606269836,\n",
       "  0.00970487017184496,\n",
       "  0.00348572782240808,\n",
       "  0.005916404537856579,\n",
       "  0.005548151209950447,\n",
       "  0.004105004481971264,\n",
       "  0.008792523294687271,\n",
       "  0.005556838121265173,\n",
       "  0.0025194110348820686,\n",
       "  0.0035880364011973143,\n",
       "  0.002807424170896411,\n",
       "  0.0028921805787831545,\n",
       "  0.006933677010238171,\n",
       "  0.004267652053385973,\n",
       "  0.006839809939265251,\n",
       "  0.005330527201294899,\n",
       "  0.0043455990962684155,\n",
       "  0.005456022918224335,\n",
       "  0.00619400292634964,\n",
       "  0.004520261660218239,\n",
       "  0.009245016612112522,\n",
       "  0.004004713613539934,\n",
       "  0.009001098573207855,\n",
       "  0.006170451641082764,\n",
       "  0.004426795523613691,\n",
       "  0.00561278872191906,\n",
       "  0.008250846527516842,\n",
       "  0.006207691039890051,\n",
       "  0.005287693347781897,\n",
       "  0.004211463034152985,\n",
       "  0.0047025117091834545,\n",
       "  0.00804899912327528,\n",
       "  0.005963972304016352,\n",
       "  0.005217946600168943,\n",
       "  0.006019472610205412,\n",
       "  0.004502678290009499,\n",
       "  0.00734262028709054,\n",
       "  0.008296821266412735,\n",
       "  0.0034356191754341125,\n",
       "  0.00614079087972641,\n",
       "  0.005591327324509621,\n",
       "  0.006595282349735498,\n",
       "  0.006262228358536959,\n",
       "  0.005667233373969793,\n",
       "  0.005762581247836351],\n",
       " 'mae_joint_2_train': [0.0061242058873176575,\n",
       "  0.00854059960693121,\n",
       "  0.010486983694136143,\n",
       "  0.02046946994960308,\n",
       "  0.001997901825234294,\n",
       "  0.0153242452070117,\n",
       "  0.008179585449397564,\n",
       "  0.014534535817801952,\n",
       "  0.02038789726793766,\n",
       "  0.01487922016531229,\n",
       "  0.0075907050631940365,\n",
       "  0.014802462421357632,\n",
       "  0.0040611568838357925,\n",
       "  0.0013216935331001878,\n",
       "  0.003355545923113823,\n",
       "  0.0037947401870042086,\n",
       "  0.03453132510185242,\n",
       "  0.01509338989853859,\n",
       "  0.007093297317624092,\n",
       "  0.003714219434186816,\n",
       "  0.004688870161771774,\n",
       "  0.007323853671550751,\n",
       "  0.02738785557448864,\n",
       "  0.0032076023053377867,\n",
       "  0.007874819450080395,\n",
       "  0.00374078587628901,\n",
       "  0.018625376746058464,\n",
       "  0.006797484587877989,\n",
       "  0.0031328359618782997,\n",
       "  0.002467949176207185,\n",
       "  0.001545356004498899,\n",
       "  0.007947507314383984,\n",
       "  0.03224445506930351,\n",
       "  0.0036404530983418226,\n",
       "  0.010302428156137466,\n",
       "  0.007135495077818632,\n",
       "  0.0009729603189043701,\n",
       "  0.007588079199194908,\n",
       "  0.0031781746074557304,\n",
       "  0.023642277345061302,\n",
       "  0.0010599179659038782,\n",
       "  0.0018494323594495654,\n",
       "  0.008060059510171413,\n",
       "  0.0020726583898067474,\n",
       "  0.011226675473153591],\n",
       " 'mae_joint_3_val': [0.2722736597061157,\n",
       "  0.05118211731314659,\n",
       "  0.009985101409256458,\n",
       "  0.015591046772897243,\n",
       "  0.009029670618474483,\n",
       "  0.006345951929688454,\n",
       "  0.011058219708502293,\n",
       "  0.009489341638982296,\n",
       "  0.0071252393536269665,\n",
       "  0.011705136857926846,\n",
       "  0.005025284364819527,\n",
       "  0.011092845350503922,\n",
       "  0.010749624110758305,\n",
       "  0.005518410820513964,\n",
       "  0.0045486935414373875,\n",
       "  0.007518787868320942,\n",
       "  0.007199177518486977,\n",
       "  0.011440262198448181,\n",
       "  0.01028014812618494,\n",
       "  0.013679721392691135,\n",
       "  0.010001078248023987,\n",
       "  0.013665764592587948,\n",
       "  0.012639496475458145,\n",
       "  0.008378715254366398,\n",
       "  0.010394842363893986,\n",
       "  0.0075659542344510555,\n",
       "  0.010753639973700047,\n",
       "  0.0113129997625947,\n",
       "  0.010003291070461273,\n",
       "  0.00964309647679329,\n",
       "  0.012426575645804405,\n",
       "  0.004206615500152111,\n",
       "  0.014256111346185207,\n",
       "  0.008819685317575932,\n",
       "  0.007666795048862696,\n",
       "  0.008895493112504482,\n",
       "  0.006494040600955486,\n",
       "  0.005846147425472736,\n",
       "  0.012188402004539967,\n",
       "  0.012233936227858067,\n",
       "  0.010522915981709957,\n",
       "  0.008001738227903843,\n",
       "  0.0053900484926998615,\n",
       "  0.008832214400172234,\n",
       "  0.011543565429747105,\n",
       "  0.009015819989144802],\n",
       " 'mae_joint_3_train': [0.007609484251588583,\n",
       "  0.004318589810281992,\n",
       "  0.0023063458502292633,\n",
       "  0.053722456097602844,\n",
       "  0.0006919759325683117,\n",
       "  0.01094538439065218,\n",
       "  0.03927824646234512,\n",
       "  0.019734663888812065,\n",
       "  0.028078816831111908,\n",
       "  0.017310498282313347,\n",
       "  0.0030491568613797426,\n",
       "  0.003024345962330699,\n",
       "  0.0013723148731514812,\n",
       "  0.0011230305535718799,\n",
       "  0.006396828684955835,\n",
       "  0.006365419831126928,\n",
       "  0.0250240508466959,\n",
       "  0.022962572053074837,\n",
       "  0.004467107821255922,\n",
       "  0.009103693999350071,\n",
       "  0.011034291237592697,\n",
       "  0.009645278565585613,\n",
       "  0.04311210289597511,\n",
       "  0.019053392112255096,\n",
       "  0.014185181818902493,\n",
       "  0.002126994775608182,\n",
       "  0.04222536087036133,\n",
       "  0.0058346581645309925,\n",
       "  0.0018456334946677089,\n",
       "  0.0006856404361315072,\n",
       "  0.009902856312692165,\n",
       "  0.024099238216876984,\n",
       "  0.03407292440533638,\n",
       "  0.0014439249644055963,\n",
       "  0.023252489045262337,\n",
       "  0.014386773109436035,\n",
       "  0.0125435097143054,\n",
       "  0.007367928046733141,\n",
       "  0.0168744083493948,\n",
       "  0.004097009543329477,\n",
       "  0.011368364095687866,\n",
       "  0.0024584734346717596,\n",
       "  0.005016515962779522,\n",
       "  0.005220388527959585,\n",
       "  0.03494761511683464],\n",
       " 'mae_joint_4_val': [0.0979306772351265,\n",
       "  0.027074597775936127,\n",
       "  0.008721055462956429,\n",
       "  0.00718353409320116,\n",
       "  0.00843835063278675,\n",
       "  0.00693570077419281,\n",
       "  0.008228913880884647,\n",
       "  0.012434526346623898,\n",
       "  0.006802132353186607,\n",
       "  0.005548541434109211,\n",
       "  0.0038045102264732122,\n",
       "  0.007326862309128046,\n",
       "  0.008741036988794804,\n",
       "  0.005956767126917839,\n",
       "  0.007042634300887585,\n",
       "  0.010973638854920864,\n",
       "  0.006222598720341921,\n",
       "  0.008125617168843746,\n",
       "  0.005389831960201263,\n",
       "  0.008982963860034943,\n",
       "  0.005751108750700951,\n",
       "  0.007864312268793583,\n",
       "  0.009821990504860878,\n",
       "  0.005535787437111139,\n",
       "  0.005845754873007536,\n",
       "  0.0037654265761375427,\n",
       "  0.00551608158275485,\n",
       "  0.006612719502300024,\n",
       "  0.0038140215910971165,\n",
       "  0.00895287748426199,\n",
       "  0.006444297730922699,\n",
       "  0.004352482035756111,\n",
       "  0.008388403803110123,\n",
       "  0.004945102147758007,\n",
       "  0.003847631625831127,\n",
       "  0.0035304739139974117,\n",
       "  0.003996283281594515,\n",
       "  0.005431825295090675,\n",
       "  0.007803818676620722,\n",
       "  0.004546604584902525,\n",
       "  0.005596201401203871,\n",
       "  0.003109851386398077,\n",
       "  0.004160081967711449,\n",
       "  0.002946537220850587,\n",
       "  0.003697114298120141,\n",
       "  0.0040417020209133625],\n",
       " 'mae_joint_4_train': [0.009562309831380844,\n",
       "  0.0068346536718308926,\n",
       "  0.004811942111700773,\n",
       "  0.023364080116152763,\n",
       "  0.0016726958565413952,\n",
       "  0.009530674666166306,\n",
       "  0.011639672331511974,\n",
       "  0.012949901632964611,\n",
       "  0.002390512265264988,\n",
       "  0.025166386738419533,\n",
       "  0.008472648449242115,\n",
       "  0.00575305474922061,\n",
       "  0.0065033454447984695,\n",
       "  0.002448003739118576,\n",
       "  0.007926500402390957,\n",
       "  0.012103483080863953,\n",
       "  0.046930622309446335,\n",
       "  0.020967887714505196,\n",
       "  0.007148813921958208,\n",
       "  0.0013575031189247966,\n",
       "  0.010386474430561066,\n",
       "  0.00826034415513277,\n",
       "  0.034630510956048965,\n",
       "  0.004471708554774523,\n",
       "  0.0036132067907601595,\n",
       "  0.002529446268454194,\n",
       "  0.018111156299710274,\n",
       "  0.005892092362046242,\n",
       "  0.008924819529056549,\n",
       "  0.001540911733172834,\n",
       "  0.032093897461891174,\n",
       "  0.018287621438503265,\n",
       "  0.0402010940015316,\n",
       "  0.0025988819543272257,\n",
       "  0.011900660581886768,\n",
       "  0.006906984839588404,\n",
       "  0.0028390989173203707,\n",
       "  0.0022009562235325575,\n",
       "  0.02789212204515934,\n",
       "  0.014113950543105602,\n",
       "  0.010841465555131435,\n",
       "  0.0025730461347848177,\n",
       "  0.007730197161436081,\n",
       "  0.005914018023759127,\n",
       "  0.03243492543697357],\n",
       " 'mae_joint_5_val': [0.33261623978614807,\n",
       "  0.04298800602555275,\n",
       "  0.025072842836380005,\n",
       "  0.023763520643115044,\n",
       "  0.021665606647729874,\n",
       "  0.019820155575871468,\n",
       "  0.017907189205288887,\n",
       "  0.021590428426861763,\n",
       "  0.013423502445220947,\n",
       "  0.02117593213915825,\n",
       "  0.014980044215917587,\n",
       "  0.023470807820558548,\n",
       "  0.021039221435785294,\n",
       "  0.015166640281677246,\n",
       "  0.009690630249679089,\n",
       "  0.015871621668338776,\n",
       "  0.015833290293812752,\n",
       "  0.021780306473374367,\n",
       "  0.02365713194012642,\n",
       "  0.025238238275051117,\n",
       "  0.018273089081048965,\n",
       "  0.0244850292801857,\n",
       "  0.01700647361576557,\n",
       "  0.017635760828852654,\n",
       "  0.01742137223482132,\n",
       "  0.014264480210840702,\n",
       "  0.017118526622653008,\n",
       "  0.017370980232954025,\n",
       "  0.01548544131219387,\n",
       "  0.023099470883607864,\n",
       "  0.021506426855921745,\n",
       "  0.017584897577762604,\n",
       "  0.0242632944136858,\n",
       "  0.016467222943902016,\n",
       "  0.016427721828222275,\n",
       "  0.010702976956963539,\n",
       "  0.008953646756708622,\n",
       "  0.013113414868712425,\n",
       "  0.021255355328321457,\n",
       "  0.016708245500922203,\n",
       "  0.015598852187395096,\n",
       "  0.016536952927708626,\n",
       "  0.009786944836378098,\n",
       "  0.01658303290605545,\n",
       "  0.019976764917373657,\n",
       "  0.009794342331588268],\n",
       " 'mae_joint_5_train': [0.04594256356358528,\n",
       "  0.03543859347701073,\n",
       "  0.029178380966186523,\n",
       "  0.09216826409101486,\n",
       "  0.004949146416038275,\n",
       "  0.03719058260321617,\n",
       "  0.09976851940155029,\n",
       "  0.041474971920251846,\n",
       "  0.08205217123031616,\n",
       "  0.08816078305244446,\n",
       "  0.024891778826713562,\n",
       "  0.03873797506093979,\n",
       "  0.01175681035965681,\n",
       "  0.006462845951318741,\n",
       "  0.02508276142179966,\n",
       "  0.02351328171789646,\n",
       "  0.044285330921411514,\n",
       "  0.03674257546663284,\n",
       "  0.023266524076461792,\n",
       "  0.02118813991546631,\n",
       "  0.0072561451233923435,\n",
       "  0.019687483087182045,\n",
       "  0.06490529328584671,\n",
       "  0.048530977219343185,\n",
       "  0.013284333050251007,\n",
       "  0.005800558254122734,\n",
       "  0.06119196116924286,\n",
       "  0.020131384953856468,\n",
       "  0.009655329398810863,\n",
       "  0.006655197124928236,\n",
       "  0.03924306854605675,\n",
       "  0.04254535958170891,\n",
       "  0.05783042684197426,\n",
       "  0.01099615078419447,\n",
       "  0.053777653723955154,\n",
       "  0.0340263769030571,\n",
       "  0.02911663055419922,\n",
       "  0.022296123206615448,\n",
       "  0.04757988452911377,\n",
       "  0.011809189803898335,\n",
       "  0.03511175140738487,\n",
       "  0.0017449511215090752,\n",
       "  0.013108525425195694,\n",
       "  0.013249938376247883,\n",
       "  0.06948371231555939],\n",
       " 'mae_joint_6_val': [0.2703743278980255,\n",
       "  0.028593508526682854,\n",
       "  0.012675217352807522,\n",
       "  0.012746859341859818,\n",
       "  0.007366126403212547,\n",
       "  0.007375222630798817,\n",
       "  0.006884142756462097,\n",
       "  0.007301778998225927,\n",
       "  0.006662679836153984,\n",
       "  0.008643439039587975,\n",
       "  0.006338614039123058,\n",
       "  0.004534616135060787,\n",
       "  0.008487607352435589,\n",
       "  0.007645079866051674,\n",
       "  0.0061301798559725285,\n",
       "  0.008028386160731316,\n",
       "  0.009031504392623901,\n",
       "  0.008420511148869991,\n",
       "  0.009145963937044144,\n",
       "  0.0088883638381958,\n",
       "  0.006886204704642296,\n",
       "  0.014750891365110874,\n",
       "  0.006089265923947096,\n",
       "  0.008878671564161777,\n",
       "  0.010156192816793919,\n",
       "  0.008399326354265213,\n",
       "  0.005672140046954155,\n",
       "  0.009509659372270107,\n",
       "  0.008012623526155949,\n",
       "  0.008558622561395168,\n",
       "  0.009120392613112926,\n",
       "  0.0068968222476542,\n",
       "  0.011928075924515724,\n",
       "  0.006125574000179768,\n",
       "  0.007498465944081545,\n",
       "  0.007226580288261175,\n",
       "  0.008888822980225086,\n",
       "  0.006028681993484497,\n",
       "  0.010458391159772873,\n",
       "  0.0086363535374403,\n",
       "  0.006460299715399742,\n",
       "  0.012504924088716507,\n",
       "  0.0068573784083127975,\n",
       "  0.011568917892873287,\n",
       "  0.011072718538343906,\n",
       "  0.008823905140161514],\n",
       " 'mae_joint_6_train': [0.018544979393482208,\n",
       "  0.016164584085345268,\n",
       "  0.01707894168794155,\n",
       "  0.01429870817810297,\n",
       "  0.0018645523814484477,\n",
       "  0.015383915044367313,\n",
       "  0.021627122536301613,\n",
       "  0.011175884865224361,\n",
       "  0.04171549901366234,\n",
       "  0.04169735312461853,\n",
       "  0.014710992574691772,\n",
       "  0.0222622137516737,\n",
       "  0.010763569734990597,\n",
       "  0.002732891356572509,\n",
       "  0.009555528871715069,\n",
       "  0.011219754815101624,\n",
       "  0.037926290184259415,\n",
       "  0.014793244190514088,\n",
       "  0.015935441479086876,\n",
       "  0.0038996196817606688,\n",
       "  0.00912735890597105,\n",
       "  0.011756181716918945,\n",
       "  0.040284495800733566,\n",
       "  0.008831179700791836,\n",
       "  0.006241160910576582,\n",
       "  0.006143162492662668,\n",
       "  0.038326866924762726,\n",
       "  0.006551175843924284,\n",
       "  0.009128116071224213,\n",
       "  0.0050509534776210785,\n",
       "  0.023521922528743744,\n",
       "  0.005782353226095438,\n",
       "  0.044287342578172684,\n",
       "  0.006513225380331278,\n",
       "  0.008779617957770824,\n",
       "  0.00899286288768053,\n",
       "  0.007737666368484497,\n",
       "  0.011781517416238785,\n",
       "  0.0187184140086174,\n",
       "  0.0032271563541144133,\n",
       "  0.008743698708713055,\n",
       "  0.003180351108312607,\n",
       "  0.0033479928970336914,\n",
       "  0.00443571200594306,\n",
       "  0.008434596471488476],\n",
       " 'mae_joint_7_val': [0.44526407122612,\n",
       "  0.04200105369091034,\n",
       "  0.02391670271754265,\n",
       "  0.023235326632857323,\n",
       "  0.02200676128268242,\n",
       "  0.02202180214226246,\n",
       "  0.01917705498635769,\n",
       "  0.01974436640739441,\n",
       "  0.015164700336754322,\n",
       "  0.018757788464426994,\n",
       "  0.013474741950631142,\n",
       "  0.025395262986421585,\n",
       "  0.02216223068535328,\n",
       "  0.01778126321732998,\n",
       "  0.012907098978757858,\n",
       "  0.020067626610398293,\n",
       "  0.01884336583316326,\n",
       "  0.02584162913262844,\n",
       "  0.026547076180577278,\n",
       "  0.029004178941249847,\n",
       "  0.021807663142681122,\n",
       "  0.030343592166900635,\n",
       "  0.020100414752960205,\n",
       "  0.02121211402118206,\n",
       "  0.019234510138630867,\n",
       "  0.016932405531406403,\n",
       "  0.01997234858572483,\n",
       "  0.01951693184673786,\n",
       "  0.01844407245516777,\n",
       "  0.026647083461284637,\n",
       "  0.022357286885380745,\n",
       "  0.020762957632541656,\n",
       "  0.027896510437130928,\n",
       "  0.018640924245119095,\n",
       "  0.018259620293974876,\n",
       "  0.011540516279637814,\n",
       "  0.00881557073444128,\n",
       "  0.01435102615505457,\n",
       "  0.02433059923350811,\n",
       "  0.017185159027576447,\n",
       "  0.019256312400102615,\n",
       "  0.013570991344749928,\n",
       "  0.01296949665993452,\n",
       "  0.016406018286943436,\n",
       "  0.020352886989712715,\n",
       "  0.012617376632988453],\n",
       " 'mae_joint_7_train': [0.037649307399988174,\n",
       "  0.03614475578069687,\n",
       "  0.027431122958660126,\n",
       "  0.08763871341943741,\n",
       "  0.003577054711058736,\n",
       "  0.041387125849723816,\n",
       "  0.1012720838189125,\n",
       "  0.03568023070693016,\n",
       "  0.08567573875188828,\n",
       "  0.08546804636716843,\n",
       "  0.02214142680168152,\n",
       "  0.03691605105996132,\n",
       "  0.011516439728438854,\n",
       "  0.004817530047148466,\n",
       "  0.021263325586915016,\n",
       "  0.021751752123236656,\n",
       "  0.04341989383101463,\n",
       "  0.034816134721040726,\n",
       "  0.022238776087760925,\n",
       "  0.019664177671074867,\n",
       "  0.008411441929638386,\n",
       "  0.02056564949452877,\n",
       "  0.061828408390283585,\n",
       "  0.04485471174120903,\n",
       "  0.012315474450588226,\n",
       "  0.004686088766902685,\n",
       "  0.057302892208099365,\n",
       "  0.01983187347650528,\n",
       "  0.010060825385153294,\n",
       "  0.004610148724168539,\n",
       "  0.04469892010092735,\n",
       "  0.0654241070151329,\n",
       "  0.05912293866276741,\n",
       "  0.012850522994995117,\n",
       "  0.05035257339477539,\n",
       "  0.03094726800918579,\n",
       "  0.028475679457187653,\n",
       "  0.01243013609200716,\n",
       "  0.04850706458091736,\n",
       "  0.014122569002211094,\n",
       "  0.037737153470516205,\n",
       "  0.0035846687387675047,\n",
       "  0.012574359774589539,\n",
       "  0.021180694922804832,\n",
       "  0.07164934277534485]}"
      ]
     },
     "execution_count": 31,
     "metadata": {},
     "output_type": "execute_result"
    }
   ],
   "source": [
    "train_info"
   ]
  },
  {
   "cell_type": "code",
   "execution_count": 32,
   "metadata": {},
   "outputs": [
    {
     "data": {
      "text/plain": [
       "dict_keys(['mae_joint_1_val', 'mae_joint_1_train', 'mae_joint_2_val', 'mae_joint_2_train', 'mae_joint_3_val', 'mae_joint_3_train', 'mae_joint_4_val', 'mae_joint_4_train', 'mae_joint_5_val', 'mae_joint_5_train', 'mae_joint_6_val', 'mae_joint_6_train', 'mae_joint_7_val', 'mae_joint_7_train'])"
      ]
     },
     "execution_count": 32,
     "metadata": {},
     "output_type": "execute_result"
    }
   ],
   "source": [
    "train_info.keys()"
   ]
  },
  {
   "cell_type": "code",
   "execution_count": 33,
   "metadata": {},
   "outputs": [
    {
     "data": {
      "text/plain": [
       "{'mae_joint_1_val': array([0.26852164, 0.03370477, 0.01656655, 0.01693329, 0.01487067,\n",
       "        0.00817861, 0.01155209, 0.01692373, 0.00878257, 0.01289323,\n",
       "        0.01221414, 0.01028723, 0.0121413 , 0.01658088, 0.01034794,\n",
       "        0.01154912, 0.01319499, 0.01335305, 0.0159748 , 0.01609414,\n",
       "        0.01488464, 0.01509103, 0.01165318, 0.01400181, 0.01374029,\n",
       "        0.00968828, 0.01099972, 0.01042906, 0.00761715, 0.01267214,\n",
       "        0.00930751, 0.00984031, 0.0180655 , 0.00981298, 0.01129468,\n",
       "        0.00889543, 0.01184325, 0.00813779, 0.01496165, 0.00736658,\n",
       "        0.01031043, 0.01431649, 0.00781184, 0.01258093, 0.01881928,\n",
       "        0.00870366]),\n",
       " 'mae_joint_1_train': array([0.04520487, 0.03014515, 0.03480316, 0.01309841, 0.00887334,\n",
       "        0.04766358, 0.0359029 , 0.02020187, 0.06449114, 0.05648756,\n",
       "        0.02453699, 0.0385267 , 0.00427132, 0.00310702, 0.01227881,\n",
       "        0.01367006, 0.03701191, 0.00836536, 0.01965318, 0.00472127,\n",
       "        0.01259762, 0.01662738, 0.04713337, 0.01560454, 0.00408587,\n",
       "        0.00732015, 0.0334353 , 0.00855294, 0.0137436 , 0.00556646,\n",
       "        0.02036043, 0.03908474, 0.04115599, 0.00993334, 0.01751502,\n",
       "        0.00851552, 0.01997795, 0.02227411, 0.03182877, 0.00919606,\n",
       "        0.00728299, 0.00200351, 0.0105392 , 0.00538689, 0.01713149]),\n",
       " 'mae_joint_2_val': array([0.09743509, 0.01772578, 0.00970487, 0.00348573, 0.0059164 ,\n",
       "        0.00554815, 0.004105  , 0.00879252, 0.00555684, 0.00251941,\n",
       "        0.00358804, 0.00280742, 0.00289218, 0.00693368, 0.00426765,\n",
       "        0.00683981, 0.00533053, 0.0043456 , 0.00545602, 0.006194  ,\n",
       "        0.00452026, 0.00924502, 0.00400471, 0.0090011 , 0.00617045,\n",
       "        0.0044268 , 0.00561279, 0.00825085, 0.00620769, 0.00528769,\n",
       "        0.00421146, 0.00470251, 0.008049  , 0.00596397, 0.00521795,\n",
       "        0.00601947, 0.00450268, 0.00734262, 0.00829682, 0.00343562,\n",
       "        0.00614079, 0.00559133, 0.00659528, 0.00626223, 0.00566723,\n",
       "        0.00576258]),\n",
       " 'mae_joint_2_train': array([0.00612421, 0.0085406 , 0.01048698, 0.02046947, 0.0019979 ,\n",
       "        0.01532425, 0.00817959, 0.01453454, 0.0203879 , 0.01487922,\n",
       "        0.00759071, 0.01480246, 0.00406116, 0.00132169, 0.00335555,\n",
       "        0.00379474, 0.03453133, 0.01509339, 0.0070933 , 0.00371422,\n",
       "        0.00468887, 0.00732385, 0.02738786, 0.0032076 , 0.00787482,\n",
       "        0.00374079, 0.01862538, 0.00679748, 0.00313284, 0.00246795,\n",
       "        0.00154536, 0.00794751, 0.03224446, 0.00364045, 0.01030243,\n",
       "        0.0071355 , 0.00097296, 0.00758808, 0.00317817, 0.02364228,\n",
       "        0.00105992, 0.00184943, 0.00806006, 0.00207266, 0.01122668]),\n",
       " 'mae_joint_3_val': array([0.27227366, 0.05118212, 0.0099851 , 0.01559105, 0.00902967,\n",
       "        0.00634595, 0.01105822, 0.00948934, 0.00712524, 0.01170514,\n",
       "        0.00502528, 0.01109285, 0.01074962, 0.00551841, 0.00454869,\n",
       "        0.00751879, 0.00719918, 0.01144026, 0.01028015, 0.01367972,\n",
       "        0.01000108, 0.01366576, 0.0126395 , 0.00837872, 0.01039484,\n",
       "        0.00756595, 0.01075364, 0.011313  , 0.01000329, 0.0096431 ,\n",
       "        0.01242658, 0.00420662, 0.01425611, 0.00881969, 0.0076668 ,\n",
       "        0.00889549, 0.00649404, 0.00584615, 0.0121884 , 0.01223394,\n",
       "        0.01052292, 0.00800174, 0.00539005, 0.00883221, 0.01154357,\n",
       "        0.00901582]),\n",
       " 'mae_joint_3_train': array([0.00760948, 0.00431859, 0.00230635, 0.05372246, 0.00069198,\n",
       "        0.01094538, 0.03927825, 0.01973466, 0.02807882, 0.0173105 ,\n",
       "        0.00304916, 0.00302435, 0.00137231, 0.00112303, 0.00639683,\n",
       "        0.00636542, 0.02502405, 0.02296257, 0.00446711, 0.00910369,\n",
       "        0.01103429, 0.00964528, 0.0431121 , 0.01905339, 0.01418518,\n",
       "        0.00212699, 0.04222536, 0.00583466, 0.00184563, 0.00068564,\n",
       "        0.00990286, 0.02409924, 0.03407292, 0.00144392, 0.02325249,\n",
       "        0.01438677, 0.01254351, 0.00736793, 0.01687441, 0.00409701,\n",
       "        0.01136836, 0.00245847, 0.00501652, 0.00522039, 0.03494762]),\n",
       " 'mae_joint_4_val': array([0.09793068, 0.0270746 , 0.00872106, 0.00718353, 0.00843835,\n",
       "        0.0069357 , 0.00822891, 0.01243453, 0.00680213, 0.00554854,\n",
       "        0.00380451, 0.00732686, 0.00874104, 0.00595677, 0.00704263,\n",
       "        0.01097364, 0.0062226 , 0.00812562, 0.00538983, 0.00898296,\n",
       "        0.00575111, 0.00786431, 0.00982199, 0.00553579, 0.00584575,\n",
       "        0.00376543, 0.00551608, 0.00661272, 0.00381402, 0.00895288,\n",
       "        0.0064443 , 0.00435248, 0.0083884 , 0.0049451 , 0.00384763,\n",
       "        0.00353047, 0.00399628, 0.00543183, 0.00780382, 0.0045466 ,\n",
       "        0.0055962 , 0.00310985, 0.00416008, 0.00294654, 0.00369711,\n",
       "        0.0040417 ]),\n",
       " 'mae_joint_4_train': array([0.00956231, 0.00683465, 0.00481194, 0.02336408, 0.0016727 ,\n",
       "        0.00953067, 0.01163967, 0.0129499 , 0.00239051, 0.02516639,\n",
       "        0.00847265, 0.00575305, 0.00650335, 0.002448  , 0.0079265 ,\n",
       "        0.01210348, 0.04693062, 0.02096789, 0.00714881, 0.0013575 ,\n",
       "        0.01038647, 0.00826034, 0.03463051, 0.00447171, 0.00361321,\n",
       "        0.00252945, 0.01811116, 0.00589209, 0.00892482, 0.00154091,\n",
       "        0.0320939 , 0.01828762, 0.04020109, 0.00259888, 0.01190066,\n",
       "        0.00690698, 0.0028391 , 0.00220096, 0.02789212, 0.01411395,\n",
       "        0.01084147, 0.00257305, 0.0077302 , 0.00591402, 0.03243493]),\n",
       " 'mae_joint_5_val': array([0.33261624, 0.04298801, 0.02507284, 0.02376352, 0.02166561,\n",
       "        0.01982016, 0.01790719, 0.02159043, 0.0134235 , 0.02117593,\n",
       "        0.01498004, 0.02347081, 0.02103922, 0.01516664, 0.00969063,\n",
       "        0.01587162, 0.01583329, 0.02178031, 0.02365713, 0.02523824,\n",
       "        0.01827309, 0.02448503, 0.01700647, 0.01763576, 0.01742137,\n",
       "        0.01426448, 0.01711853, 0.01737098, 0.01548544, 0.02309947,\n",
       "        0.02150643, 0.0175849 , 0.02426329, 0.01646722, 0.01642772,\n",
       "        0.01070298, 0.00895365, 0.01311341, 0.02125536, 0.01670825,\n",
       "        0.01559885, 0.01653695, 0.00978694, 0.01658303, 0.01997676,\n",
       "        0.00979434]),\n",
       " 'mae_joint_5_train': array([0.04594256, 0.03543859, 0.02917838, 0.09216826, 0.00494915,\n",
       "        0.03719058, 0.09976852, 0.04147497, 0.08205217, 0.08816078,\n",
       "        0.02489178, 0.03873798, 0.01175681, 0.00646285, 0.02508276,\n",
       "        0.02351328, 0.04428533, 0.03674258, 0.02326652, 0.02118814,\n",
       "        0.00725615, 0.01968748, 0.06490529, 0.04853098, 0.01328433,\n",
       "        0.00580056, 0.06119196, 0.02013138, 0.00965533, 0.0066552 ,\n",
       "        0.03924307, 0.04254536, 0.05783043, 0.01099615, 0.05377765,\n",
       "        0.03402638, 0.02911663, 0.02229612, 0.04757988, 0.01180919,\n",
       "        0.03511175, 0.00174495, 0.01310853, 0.01324994, 0.06948371]),\n",
       " 'mae_joint_6_val': array([0.27037433, 0.02859351, 0.01267522, 0.01274686, 0.00736613,\n",
       "        0.00737522, 0.00688414, 0.00730178, 0.00666268, 0.00864344,\n",
       "        0.00633861, 0.00453462, 0.00848761, 0.00764508, 0.00613018,\n",
       "        0.00802839, 0.0090315 , 0.00842051, 0.00914596, 0.00888836,\n",
       "        0.0068862 , 0.01475089, 0.00608927, 0.00887867, 0.01015619,\n",
       "        0.00839933, 0.00567214, 0.00950966, 0.00801262, 0.00855862,\n",
       "        0.00912039, 0.00689682, 0.01192808, 0.00612557, 0.00749847,\n",
       "        0.00722658, 0.00888882, 0.00602868, 0.01045839, 0.00863635,\n",
       "        0.0064603 , 0.01250492, 0.00685738, 0.01156892, 0.01107272,\n",
       "        0.00882391]),\n",
       " 'mae_joint_6_train': array([0.01854498, 0.01616458, 0.01707894, 0.01429871, 0.00186455,\n",
       "        0.01538392, 0.02162712, 0.01117588, 0.0417155 , 0.04169735,\n",
       "        0.01471099, 0.02226221, 0.01076357, 0.00273289, 0.00955553,\n",
       "        0.01121975, 0.03792629, 0.01479324, 0.01593544, 0.00389962,\n",
       "        0.00912736, 0.01175618, 0.0402845 , 0.00883118, 0.00624116,\n",
       "        0.00614316, 0.03832687, 0.00655118, 0.00912812, 0.00505095,\n",
       "        0.02352192, 0.00578235, 0.04428734, 0.00651323, 0.00877962,\n",
       "        0.00899286, 0.00773767, 0.01178152, 0.01871841, 0.00322716,\n",
       "        0.0087437 , 0.00318035, 0.00334799, 0.00443571, 0.0084346 ]),\n",
       " 'mae_joint_7_val': array([0.44526407, 0.04200105, 0.0239167 , 0.02323533, 0.02200676,\n",
       "        0.0220218 , 0.01917705, 0.01974437, 0.0151647 , 0.01875779,\n",
       "        0.01347474, 0.02539526, 0.02216223, 0.01778126, 0.0129071 ,\n",
       "        0.02006763, 0.01884337, 0.02584163, 0.02654708, 0.02900418,\n",
       "        0.02180766, 0.03034359, 0.02010041, 0.02121211, 0.01923451,\n",
       "        0.01693241, 0.01997235, 0.01951693, 0.01844407, 0.02664708,\n",
       "        0.02235729, 0.02076296, 0.02789651, 0.01864092, 0.01825962,\n",
       "        0.01154052, 0.00881557, 0.01435103, 0.0243306 , 0.01718516,\n",
       "        0.01925631, 0.01357099, 0.0129695 , 0.01640602, 0.02035289,\n",
       "        0.01261738]),\n",
       " 'mae_joint_7_train': array([0.03764931, 0.03614476, 0.02743112, 0.08763871, 0.00357705,\n",
       "        0.04138713, 0.10127208, 0.03568023, 0.08567574, 0.08546805,\n",
       "        0.02214143, 0.03691605, 0.01151644, 0.00481753, 0.02126333,\n",
       "        0.02175175, 0.04341989, 0.03481613, 0.02223878, 0.01966418,\n",
       "        0.00841144, 0.02056565, 0.06182841, 0.04485471, 0.01231547,\n",
       "        0.00468609, 0.05730289, 0.01983187, 0.01006083, 0.00461015,\n",
       "        0.04469892, 0.06542411, 0.05912294, 0.01285052, 0.05035257,\n",
       "        0.03094727, 0.02847568, 0.01243014, 0.04850706, 0.01412257,\n",
       "        0.03773715, 0.00358467, 0.01257436, 0.02118069, 0.07164934])}"
      ]
     },
     "execution_count": 33,
     "metadata": {},
     "output_type": "execute_result"
    }
   ],
   "source": [
    "train_info_arr = dict()\n",
    "\n",
    "for key in train_info.keys():\n",
    "    train_info_arr[key] = np.array(train_info[key])\n",
    "\n",
    "train_info_arr"
   ]
  },
  {
   "cell_type": "code",
   "execution_count": 35,
   "metadata": {},
   "outputs": [
    {
     "data": {
      "text/plain": [
       "{'mae_joint_1_val': 0.018337181445373142,\n",
       " 'mae_joint_1_train': 0.021108174349905716,\n",
       " 'mae_joint_2_val': 0.007955079199746251,\n",
       " 'mae_joint_2_train': 0.009422145423013718,\n",
       " 'mae_joint_3_val': 0.01612037877835657,\n",
       " 'mae_joint_3_train': 0.013859687477815897,\n",
       " 'mae_joint_4_val': 0.008743108336246856,\n",
       " 'mae_joint_4_train': 0.012098317412245605,\n",
       " 'mae_joint_5_val': 0.025308088561438995,\n",
       " 'mae_joint_5_train': 0.03447267569394575,\n",
       " 'mae_joint_6_val': 0.014614870265612135,\n",
       " 'mae_joint_6_train': 0.014495025970973074,\n",
       " 'mae_joint_7_val': 0.029496488950984633,\n",
       " 'mae_joint_7_train': 0.03419100446626544}"
      ]
     },
     "execution_count": 35,
     "metadata": {},
     "output_type": "execute_result"
    }
   ],
   "source": [
    "train_info_mean = dict()\n",
    "\n",
    "for key in train_info_arr.keys():\n",
    "    train_info_mean[key] = np.mean(train_info_arr[key])\n",
    "\n",
    "train_info_mean"
   ]
  },
  {
   "cell_type": "code",
   "execution_count": 36,
   "metadata": {},
   "outputs": [
    {
     "data": {
      "text/plain": [
       "{'mae_joint_1_val': 0.03754395507536457,\n",
       " 'mae_joint_1_train': 0.01560763831058418,\n",
       " 'mae_joint_2_val': 0.013561544752963431,\n",
       " 'mae_joint_2_train': 0.008202291331875416,\n",
       " 'mae_joint_3_val': 0.0387554047604528,\n",
       " 'mae_joint_3_train': 0.013164492728275195,\n",
       " 'mae_joint_4_val': 0.01380285869595092,\n",
       " 'mae_joint_4_train': 0.011066740775993855,\n",
       " 'mae_joint_5_val': 0.04615559483225237,\n",
       " 'mae_joint_5_train': 0.024556944211123515,\n",
       " 'mae_joint_6_val': 0.03829716383987713,\n",
       " 'mae_joint_6_train': 0.011598280019879476,\n",
       " 'mae_joint_7_val': 0.06223933058506731,\n",
       " 'mae_joint_7_train': 0.024851619075394075}"
      ]
     },
     "execution_count": 36,
     "metadata": {},
     "output_type": "execute_result"
    }
   ],
   "source": [
    "train_info_std = dict()\n",
    "\n",
    "for key in train_info_arr.keys():\n",
    "    train_info_std[key] = np.std(train_info_arr[key])\n",
    "\n",
    "train_info_std"
   ]
  },
  {
   "cell_type": "code",
   "execution_count": 37,
   "metadata": {},
   "outputs": [
    {
     "data": {
      "text/plain": [
       "{'mae_joint_1_val': 0.007366584148257971,\n",
       " 'mae_joint_1_train': 0.002003511181101203,\n",
       " 'mae_joint_2_val': 0.0025194110348820686,\n",
       " 'mae_joint_2_train': 0.0009729603189043701,\n",
       " 'mae_joint_3_val': 0.004206615500152111,\n",
       " 'mae_joint_3_train': 0.0006856404361315072,\n",
       " 'mae_joint_4_val': 0.002946537220850587,\n",
       " 'mae_joint_4_train': 0.0013575031189247966,\n",
       " 'mae_joint_5_val': 0.008953646756708622,\n",
       " 'mae_joint_5_train': 0.0017449511215090752,\n",
       " 'mae_joint_6_val': 0.004534616135060787,\n",
       " 'mae_joint_6_train': 0.0018645523814484477,\n",
       " 'mae_joint_7_val': 0.00881557073444128,\n",
       " 'mae_joint_7_train': 0.003577054711058736}"
      ]
     },
     "execution_count": 37,
     "metadata": {},
     "output_type": "execute_result"
    }
   ],
   "source": [
    "train_info_min = dict()\n",
    "\n",
    "for key in train_info_arr.keys():\n",
    "    train_info_min[key] = np.min(train_info_arr[key])\n",
    "\n",
    "train_info_min"
   ]
  },
  {
   "cell_type": "code",
   "execution_count": 38,
   "metadata": {},
   "outputs": [
    {
     "data": {
      "text/plain": [
       "{'mae_joint_1_val': 0.26852163672447205,\n",
       " 'mae_joint_1_train': 0.0644911378622055,\n",
       " 'mae_joint_2_val': 0.09743509441614151,\n",
       " 'mae_joint_2_train': 0.03453132510185242,\n",
       " 'mae_joint_3_val': 0.2722736597061157,\n",
       " 'mae_joint_3_train': 0.053722456097602844,\n",
       " 'mae_joint_4_val': 0.0979306772351265,\n",
       " 'mae_joint_4_train': 0.046930622309446335,\n",
       " 'mae_joint_5_val': 0.33261623978614807,\n",
       " 'mae_joint_5_train': 0.09976851940155029,\n",
       " 'mae_joint_6_val': 0.2703743278980255,\n",
       " 'mae_joint_6_train': 0.044287342578172684,\n",
       " 'mae_joint_7_val': 0.44526407122612,\n",
       " 'mae_joint_7_train': 0.1012720838189125}"
      ]
     },
     "execution_count": 38,
     "metadata": {},
     "output_type": "execute_result"
    }
   ],
   "source": [
    "train_info_max = dict()\n",
    "\n",
    "for key in train_info_arr.keys():\n",
    "    train_info_max[key] = np.max(train_info_arr[key])\n",
    "\n",
    "train_info_max"
   ]
  },
  {
   "cell_type": "code",
   "execution_count": null,
   "metadata": {},
   "outputs": [],
   "source": []
  },
  {
   "cell_type": "code",
   "execution_count": 1,
   "metadata": {},
   "outputs": [
    {
     "name": "stdout",
     "output_type": "stream",
     "text": [
      "/home/arash/catkin_ws/src/feedback_controller/fbc/neural_network\n"
     ]
    }
   ],
   "source": [
    "!pwd"
   ]
  },
  {
   "cell_type": "code",
   "execution_count": 4,
   "metadata": {},
   "outputs": [
    {
     "name": "stdout",
     "output_type": "stream",
     "text": [
      "trajectories.shape (360, 299, 35)\n"
     ]
    }
   ],
   "source": [
    "import numpy as np\n",
    "import os\n",
    "\n",
    "ds_root_dir = \"data/torobo/trajs:360_blocks:3_triangle_v\"\n",
    "file_name = \"train_ds.npy\"\n",
    "data_file_path = os.path.join(ds_root_dir, file_name)\n",
    "trajectories = np.load(data_file_path)#[0:4]\n",
    "print(\"trajectories.shape\", trajectories.shape)"
   ]
  },
  {
   "cell_type": "code",
   "execution_count": 25,
   "metadata": {},
   "outputs": [
    {
     "name": "stdout",
     "output_type": "stream",
     "text": [
      "(360, 3)\n",
      "(360, 3)\n",
      "(360, 3)\n"
     ]
    }
   ],
   "source": [
    "data1 = trajectories[:, 0, 15:18]\n",
    "print(data1.shape)\n",
    "data2 = trajectories[:, 0, 18:21]\n",
    "print(data2.shape)\n",
    "data3 = trajectories[:, 0, 21:24]\n",
    "print(data3.shape)"
   ]
  },
  {
   "cell_type": "code",
   "execution_count": 38,
   "metadata": {},
   "outputs": [
    {
     "data": {
      "image/png": "[encoded data removed]",
      "text/plain": [
       "<Figure size 640x480 with 1 Axes>"
      ]
     },
     "metadata": {},
     "output_type": "display_data"
    }
   ],
   "source": [
    "import matplotlib.pyplot as plt\n",
    "from mpl_toolkits.mplot3d import Axes3D\n",
    "\n",
    "idx = 90\n",
    "# Extract x, y, z coordinates for all datasets\n",
    "x1, y1, z1 = data1[:idx, 0], data1[:idx, 1], data1[:idx, 2]\n",
    "x2, y2, z2 = data2[:idx, 0], data2[:idx, 1], data2[:idx, 2]\n",
    "x3, y3, z3 = data3[:idx, 0], data3[:idx, 1], data3[:idx, 2]\n",
    "\n",
    "# Create a 3D plot\n",
    "fig = plt.figure()\n",
    "ax = fig.add_subplot(111, projection='3d')\n",
    "\n",
    "# Plot the first trajectory\n",
    "ax.plot(x1, y1, z1, label='Trajectory 1', linestyle='-', marker='o')\n",
    "\n",
    "# Plot the second trajectory\n",
    "ax.plot(x2, y2, z2, label='Trajectory 2', linestyle='--', marker='^')\n",
    "\n",
    "# Plot the third trajectory\n",
    "ax.plot(x3, y3, z3, label='Trajectory 3', linestyle=':', marker='s')\n",
    "\n",
    "# Add labels and legend\n",
    "ax.set_xlabel('X')\n",
    "ax.set_ylabel('Y')\n",
    "ax.set_zlabel('Z')\n",
    "ax.legend()\n",
    "\n",
    "# Show the plot\n",
    "plt.show()\n"
   ]
  },
  {
   "cell_type": "code",
   "execution_count": 32,
   "metadata": {},
   "outputs": [
    {
     "name": "stdout",
     "output_type": "stream",
     "text": [
      "0.355 -0.245 0.865\n"
     ]
    }
   ],
   "source": [
    "print(data1[:, 0].min(), data1[:, 1].min(), data1[:, 2].min())"
   ]
  },
  {
   "cell_type": "code",
   "execution_count": 33,
   "metadata": {},
   "outputs": [
    {
     "name": "stdout",
     "output_type": "stream",
     "text": [
      "0.355 -0.245 0.865\n"
     ]
    }
   ],
   "source": [
    "print(data2[:, 0].min(), data2[:, 1].min(), data2[:, 2].min())"
   ]
  },
  {
   "cell_type": "code",
   "execution_count": null,
   "metadata": {},
   "outputs": [],
   "source": []
  }
 ],
 "metadata": {
  "kernelspec": {
   "display_name": "dnfc2",
   "language": "python",
   "name": "python3"
  },
  "language_info": {
   "codemirror_mode": {
    "name": "ipython",
    "version": 3
   },
   "file_extension": ".py",
   "mimetype": "text/x-python",
   "name": "python",
   "nbconvert_exporter": "python",
   "pygments_lexer": "ipython3",
   "version": "3.9.21"
  }
 },
 "nbformat": 4,
 "nbformat_minor": 2
}
